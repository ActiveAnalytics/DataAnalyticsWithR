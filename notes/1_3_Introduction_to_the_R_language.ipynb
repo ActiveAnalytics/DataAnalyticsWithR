{
 "cells": [
  {
   "cell_type": "markdown",
   "metadata": {
    "deletable": true,
    "editable": true
   },
   "source": [
    "# Introduction to the R programming language\n",
    "\n",
    "## A programming perspective\n",
    "\n",
    "R is a dynamically typed interpreted programming language and is an implementation of the **S** programming language, a domain specific language (DSL) for carrying out statistical analysis. Like many such DSLs, R provides an easy to use interface to powerful algorithms written in C/C++ and Fortran. It also includes the ability to directly call those more computational efficient languages directly, allowing the capabilities of the language to be enhanced or augmented in this way.\n",
    "\n",
    "R is multiparadigm providing:\n",
    "\n",
    "* Array-based programming\n",
    "* Object Oriented Progamming: S3, S4, R5, R6, environments\n",
    "* Imperative - C-like syntax\n",
    "* Functional - computing on functions\n",
    "* Reflective - introspection\n",
    "\n",
    "## The history and philosophy of R\n",
    "\n",
    "In 1993, R was created by Ross Ihaka and Robert Gentleman who wanted open source statistical software for research based on the S language. The S language was created at Bell Labs in 1975/76 by John Chambers, Rick Berger, and Alan Wilks. The aim of the S language is to *\"turn ideas into software quickly and faithfully\"*. It is this approach of simplicity of design combined with the power of the data structures and functional programming derived pipeline functions, as well as its wide coverage of statistical methods that made R very popular in the statistics field. The language is now used my many companies in different sectors as the \"go-to\" tool to carry our statistical analysis and modelling. It is retained it's popularity in the data science revolution despite much competition for different and new programming languages.\n",
    "\n",
    "## Information about R on the web\n",
    "\n",
    "The official R project website is located at [http://www.r-project.org](http://www.r-project.org). The website contains information about the latest R release, R Journal, and contains links to CRAN (Comprehensive R Archive Network), which contains R packages that can be easily installed from R.\n",
    "\n",
    "Useful websites for help are Stack Overflow and Google search. The RSeek search is still around but the search results may be a little dated [http://www.rseek.org/](http://www.rseek.org/).\n",
    "\n",
    "The R journal is located at [http://journal.r-project.org/](http://journal.r-project.org/). It is an open access refereed journal covering topics that are of interest to R users and developers and is a continuation of its predecessor R News. All issues of The R Journal and R News are available in the archive on the website.\n",
    "\n",
    "Journal of Statistical Software [http://www.jstatsoft.org/](http://www.jstatsoft.org/) is also free and licensed under Creative Commons GNU General Public License. Even though the software used range from programming languages C, C++, FORTRAN, Java to software such as Mathematica, MATLAB, and SAS, the vast majority of its articles are connected with R topics. It is maintained and supported by UCLA Statistics staff.\n",
    "\n",
    "## R programming environments\n",
    "\n",
    "There are many environments that can be used with R. They will not all be listed here and older environments that have fallen out of use will be omitted. In no particular order:\n",
    "\n",
    "* Jupyter notebooks - web-based IDE originally for Python that is rapidly gaining in popularity as the \"go-to\" environment for creating data science/machine learning notebooks. Website is [http://jupyter.org/](http://jupyter.org/).\n",
    "\n",
    "* RStudio is a multi-platform standalone or server IDE for R available in open source or commercial versions and is very popular in many organisations [https://www.rstudio.com/](https://www.rstudio.com/).\n",
    "\n",
    "* Rkward [http://rkward.sourceforge.net/](http://rkward.sourceforge.net/) is a decent but older R IDE with lots of very nice features.\n",
    "\n",
    "* The popular Eclipse IDE has a plugin for R [http://www.walware.de/goto/statet](http://www.walware.de/goto/statet).\n",
    "\n",
    "There are ofcourse many more options which can be found with a Google search.\n",
    "\n",
    "## The R interpreter\n",
    "\n",
    "Regardless of how you choose to use R, the main thing is that at least at first, you will be met by a prompt in which code should be inputted. Below are some simple commands that one may run in the interpreter:\n"
   ]
  },
  {
   "cell_type": "code",
   "execution_count": 2,
   "metadata": {
    "collapsed": false,
    "deletable": true,
    "editable": true
   },
   "outputs": [
    {
     "data": {
      "text/html": [
       "20"
      ],
      "text/latex": [
       "20"
      ],
      "text/markdown": [
       "20"
      ],
      "text/plain": [
       "[1] 20"
      ]
     },
     "metadata": {},
     "output_type": "display_data"
    }
   ],
   "source": [
    "# multiplication\n",
    "4*5; # optional end of line semicolon"
   ]
  },
  {
   "cell_type": "code",
   "execution_count": 2,
   "metadata": {
    "collapsed": false,
    "deletable": true,
    "editable": true
   },
   "outputs": [
    {
     "data": {
      "text/html": [
       "1"
      ],
      "text/latex": [
       "1"
      ],
      "text/markdown": [
       "1"
      ],
      "text/plain": [
       "[1] 1"
      ]
     },
     "metadata": {},
     "output_type": "display_data"
    }
   ],
   "source": [
    "6%/%4 # integer division"
   ]
  },
  {
   "cell_type": "code",
   "execution_count": 1,
   "metadata": {
    "collapsed": false,
    "deletable": true,
    "editable": true,
    "scrolled": true
   },
   "outputs": [
    {
     "data": {
      "text/html": [
       "2"
      ],
      "text/latex": [
       "2"
      ],
      "text/markdown": [
       "2"
      ],
      "text/plain": [
       "[1] 2"
      ]
     },
     "metadata": {},
     "output_type": "display_data"
    }
   ],
   "source": [
    "6%%4 # remainder"
   ]
  },
  {
   "cell_type": "code",
   "execution_count": 3,
   "metadata": {
    "collapsed": true,
    "deletable": true,
    "editable": true
   },
   "outputs": [],
   "source": [
    "# Hashes are comments\n",
    "# The rest of the line after the hash is a comment\n",
    "# There is no way of ending a comment in R, no analogue of /**/ in C/C++ and so on"
   ]
  },
  {
   "cell_type": "code",
   "execution_count": 6,
   "metadata": {
    "collapsed": false,
    "deletable": true,
    "editable": true
   },
   "outputs": [
    {
     "name": "stdout",
     "output_type": "stream",
     "text": [
      "[1] \"Hello World!\"\n"
     ]
    }
   ],
   "source": [
    "print(\"Hello World!\") # printing items, this is an example of calling a function in R"
   ]
  },
  {
   "cell_type": "code",
   "execution_count": 1,
   "metadata": {
    "collapsed": false,
    "deletable": true,
    "editable": true
   },
   "outputs": [
    {
     "data": {
      "text/html": [
       "<ol class=list-inline>\n",
       "\t<li>-0.228848666884005</li>\n",
       "\t<li>0.323446405120194</li>\n",
       "\t<li>0.284862444736063</li>\n",
       "\t<li>0.530496972147375</li>\n",
       "\t<li>0.344528785441071</li>\n",
       "\t<li>-0.821065474767238</li>\n",
       "\t<li>-0.294379903003573</li>\n",
       "\t<li>-0.12330279359594</li>\n",
       "\t<li>0.210218257736415</li>\n",
       "\t<li>-0.381096101831645</li>\n",
       "</ol>\n"
      ],
      "text/latex": [
       "\\begin{enumerate*}\n",
       "\\item -0.228848666884005\n",
       "\\item 0.323446405120194\n",
       "\\item 0.284862444736063\n",
       "\\item 0.530496972147375\n",
       "\\item 0.344528785441071\n",
       "\\item -0.821065474767238\n",
       "\\item -0.294379903003573\n",
       "\\item -0.12330279359594\n",
       "\\item 0.210218257736415\n",
       "\\item -0.381096101831645\n",
       "\\end{enumerate*}\n"
      ],
      "text/markdown": [
       "1. -0.228848666884005\n",
       "2. 0.323446405120194\n",
       "3. 0.284862444736063\n",
       "4. 0.530496972147375\n",
       "5. 0.344528785441071\n",
       "6. -0.821065474767238\n",
       "7. -0.294379903003573\n",
       "8. -0.12330279359594\n",
       "9. 0.210218257736415\n",
       "10. -0.381096101831645\n",
       "\n",
       "\n"
      ],
      "text/plain": [
       " [1] -0.2288487  0.3234464  0.2848624  0.5304970  0.3445288 -0.8210655\n",
       " [7] -0.2943799 -0.1233028  0.2102183 -0.3810961"
      ]
     },
     "metadata": {},
     "output_type": "display_data"
    }
   ],
   "source": [
    "# Here is another example of calling a function\n",
    "runif(n = 10, min = -1, max = 1) # sample 10 numbers from [-1, 1] uniform distribution"
   ]
  },
  {
   "cell_type": "code",
   "execution_count": 2,
   "metadata": {
    "collapsed": false,
    "deletable": true,
    "editable": true
   },
   "outputs": [
    {
     "data": {
      "text/html": [
       "<ol class=list-inline>\n",
       "\t<li>0.998132677748799</li>\n",
       "\t<li>0.0838795518502593</li>\n",
       "\t<li>0.948009066283703</li>\n",
       "\t<li>0.919143951730803</li>\n",
       "\t<li>0.830649999668822</li>\n",
       "\t<li>0.801268340786919</li>\n",
       "\t<li>0.459300885209814</li>\n",
       "\t<li>0.725195095641539</li>\n",
       "\t<li>0.665130684385076</li>\n",
       "\t<li>0.25929044210352</li>\n",
       "</ol>\n"
      ],
      "text/latex": [
       "\\begin{enumerate*}\n",
       "\\item 0.998132677748799\n",
       "\\item 0.0838795518502593\n",
       "\\item 0.948009066283703\n",
       "\\item 0.919143951730803\n",
       "\\item 0.830649999668822\n",
       "\\item 0.801268340786919\n",
       "\\item 0.459300885209814\n",
       "\\item 0.725195095641539\n",
       "\\item 0.665130684385076\n",
       "\\item 0.25929044210352\n",
       "\\end{enumerate*}\n"
      ],
      "text/markdown": [
       "1. 0.998132677748799\n",
       "2. 0.0838795518502593\n",
       "3. 0.948009066283703\n",
       "4. 0.919143951730803\n",
       "5. 0.830649999668822\n",
       "6. 0.801268340786919\n",
       "7. 0.459300885209814\n",
       "8. 0.725195095641539\n",
       "9. 0.665130684385076\n",
       "10. 0.25929044210352\n",
       "\n",
       "\n"
      ],
      "text/plain": [
       " [1] 0.99813268 0.08387955 0.94800907 0.91914395 0.83065000 0.80126834\n",
       " [7] 0.45930089 0.72519510 0.66513068 0.25929044"
      ]
     },
     "metadata": {},
     "output_type": "display_data"
    }
   ],
   "source": [
    "# We can accept the defaults of functions if they are specified\n",
    "# Here the defaults [min, max] is [0, 1]\n",
    "runif(10)"
   ]
  },
  {
   "cell_type": "code",
   "execution_count": 3,
   "metadata": {
    "collapsed": false,
    "deletable": true,
    "editable": true
   },
   "outputs": [
    {
     "data": {},
     "metadata": {},
     "output_type": "display_data"
    },
    {
     "data": {},
     "metadata": {},
     "output_type": "display_data"
    }
   ],
   "source": [
    "# Getting help from R\n",
    "?runif\n",
    "# Or\n",
    "help(\"runif\")\n",
    "# Searching for help\n",
    "??runif\n",
    "# Or:\n",
    "help.search(\"runif\")"
   ]
  },
  {
   "cell_type": "markdown",
   "metadata": {
    "deletable": true,
    "editable": true
   },
   "source": [
    "# Exercise 1.1\n",
    "\n",
    "**Question 1**\n",
    "\n",
    "Use the interpreter to raise `5` to the power `3.5`. Hint symbol (`^`)"
   ]
  },
  {
   "cell_type": "code",
   "execution_count": null,
   "metadata": {
    "collapsed": true,
    "deletable": true,
    "editable": true
   },
   "outputs": [],
   "source": []
  },
  {
   "cell_type": "markdown",
   "metadata": {
    "deletable": true,
    "editable": true
   },
   "source": [
    "**Question 2**\n",
    "\n",
    "Use the interpreter to calculate the sin, cos, and tan of 30 degrees, trigonometric functions in R are in radians. Hint $radians = \\frac{degrees*2\\pi}{360}$. The `pi` variable exists in R by default."
   ]
  },
  {
   "cell_type": "code",
   "execution_count": null,
   "metadata": {
    "collapsed": true,
    "deletable": true,
    "editable": true
   },
   "outputs": [],
   "source": []
  },
  {
   "cell_type": "markdown",
   "metadata": {
    "deletable": true,
    "editable": true
   },
   "source": [
    "**Question 3**\n",
    "\n",
    "Use the `print` function to print the variable `letters` in the R console."
   ]
  },
  {
   "cell_type": "code",
   "execution_count": null,
   "metadata": {
    "collapsed": true,
    "deletable": true,
    "editable": true
   },
   "outputs": [],
   "source": []
  },
  {
   "cell_type": "markdown",
   "metadata": {
    "deletable": true,
    "editable": true
   },
   "source": [
    "**Question 4**\n",
    "\n",
    "Use the R console to multiply the remainder of 27/4 by the output of the interger division 77/5, and then raise it to the power `pi`. Hint: use brackets `()`."
   ]
  },
  {
   "cell_type": "code",
   "execution_count": null,
   "metadata": {
    "collapsed": true,
    "deletable": true,
    "editable": true
   },
   "outputs": [],
   "source": []
  },
  {
   "cell_type": "markdown",
   "metadata": {
    "deletable": true,
    "editable": true
   },
   "source": [
    "**Question 5**\n",
    "\n",
    "Use the help page on the `rnorm` function in R to generate 100 numbers with `mean` 5 and `sd` 15. From what statistical distribution did you sample the number?"
   ]
  },
  {
   "cell_type": "code",
   "execution_count": null,
   "metadata": {
    "collapsed": true,
    "deletable": true,
    "editable": true
   },
   "outputs": [],
   "source": []
  },
  {
   "cell_type": "markdown",
   "metadata": {
    "deletable": true,
    "editable": true
   },
   "source": [
    "**Question 6**\n",
    "\n",
    "Semicolons can be used to separate statements on the same line. Calculate the `mean` and `var` of 100 number generated in the same way as in the previous question on the same line"
   ]
  },
  {
   "cell_type": "code",
   "execution_count": null,
   "metadata": {
    "collapsed": true,
    "deletable": true,
    "editable": true
   },
   "outputs": [],
   "source": []
  }
 ],
 "metadata": {
  "kernelspec": {
   "display_name": "R 3.3",
   "language": "R",
   "name": "ir33"
  },
  "language_info": {
   "codemirror_mode": "r",
   "file_extension": ".r",
   "mimetype": "text/x-r-source",
   "name": "R",
   "pygments_lexer": "r",
   "version": "3.3.3"
  }
 },
 "nbformat": 4,
 "nbformat_minor": 2
}
