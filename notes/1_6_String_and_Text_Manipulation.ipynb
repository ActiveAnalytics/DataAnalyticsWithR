{
 "cells": [
  {
   "cell_type": "markdown",
   "metadata": {
    "deletable": true,
    "editable": true
   },
   "source": [
    "# String and text manipulation\n",
    "\n",
    "## String concatenation\n",
    "\n",
    "The `\"paste\"` function is used to concatenate strings, The `\"paste0\"` modification does not leave spaces between items. In the example below we generate SQL strings using this function:"
   ]
  },
  {
   "cell_type": "code",
   "execution_count": 5,
   "metadata": {
    "collapsed": false,
    "deletable": true,
    "editable": true
   },
   "outputs": [
    {
     "data": {
      "text/html": [
       "<ol class=list-inline>\n",
       "\t<li>'select * from customer_table where location=\\'London\\';'</li>\n",
       "\t<li>'select * from customer_table where location=\\'New York\\';'</li>\n",
       "\t<li>'select * from customer_table where location=\\'Hong Kong\\';'</li>\n",
       "</ol>\n"
      ],
      "text/latex": [
       "\\begin{enumerate*}\n",
       "\\item 'select * from customer\\_table where location=\\textbackslash{}'London\\textbackslash{}';'\n",
       "\\item 'select * from customer\\_table where location=\\textbackslash{}'New York\\textbackslash{}';'\n",
       "\\item 'select * from customer\\_table where location=\\textbackslash{}'Hong Kong\\textbackslash{}';'\n",
       "\\end{enumerate*}\n"
      ],
      "text/markdown": [
       "1. 'select * from customer_table where location=\\'London\\';'\n",
       "2. 'select * from customer_table where location=\\'New York\\';'\n",
       "3. 'select * from customer_table where location=\\'Hong Kong\\';'\n",
       "\n",
       "\n"
      ],
      "text/plain": [
       "[1] \"select * from customer_table where location='London';\"   \n",
       "[2] \"select * from customer_table where location='New York';\" \n",
       "[3] \"select * from customer_table where location='Hong Kong';\""
      ]
     },
     "metadata": {},
     "output_type": "display_data"
    }
   ],
   "source": [
    "locations <- c(\"London\", \"New York\", \"Hong Kong\")\n",
    "queries <- paste0(\"select * from customer_table where location='\", locations, \"';\")\n",
    "queries"
   ]
  },
  {
   "cell_type": "markdown",
   "metadata": {
    "deletable": true,
    "editable": true
   },
   "source": [
    "We can collapse these strings together instead of generating them separately:"
   ]
  },
  {
   "cell_type": "code",
   "execution_count": 7,
   "metadata": {
    "collapsed": false,
    "deletable": true,
    "editable": true
   },
   "outputs": [
    {
     "data": {
      "text/html": [
       "'select * from customer_table where location=\\'London\\'; select * from customer_table where location=\\'New York\\'; select * from customer_table where location=\\'Hong Kong\\''"
      ],
      "text/latex": [
       "'select * from customer\\_table where location=\\textbackslash{}'London\\textbackslash{}'; select * from customer\\_table where location=\\textbackslash{}'New York\\textbackslash{}'; select * from customer\\_table where location=\\textbackslash{}'Hong Kong\\textbackslash{}''"
      ],
      "text/markdown": [
       "'select * from customer_table where location=\\'London\\'; select * from customer_table where location=\\'New York\\'; select * from customer_table where location=\\'Hong Kong\\''"
      ],
      "text/plain": [
       "[1] \"select * from customer_table where location='London'; select * from customer_table where location='New York'; select * from customer_table where location='Hong Kong'\""
      ]
     },
     "metadata": {},
     "output_type": "display_data"
    }
   ],
   "source": [
    "paste0(\"select * from customer_table where location='\", locations, \"'\", collapse = \"; \")"
   ]
  },
  {
   "cell_type": "markdown",
   "metadata": {
    "deletable": true,
    "editable": true
   },
   "source": [
    "## Searching strings with grep\n",
    "\n",
    "I have a set of file names:"
   ]
  },
  {
   "cell_type": "code",
   "execution_count": 8,
   "metadata": {
    "collapsed": false,
    "deletable": true,
    "editable": true
   },
   "outputs": [
    {
     "data": {
      "text/html": [
       "<ol class=list-inline>\n",
       "\t<li>'file_14.jpg'</li>\n",
       "\t<li>'file_95.jpg'</li>\n",
       "\t<li>'file_90.jpg'</li>\n",
       "\t<li>'file_89.tsv'</li>\n",
       "\t<li>'file_31.txt'</li>\n",
       "\t<li>'file_20.csv'</li>\n",
       "\t<li>'file_22.csv'</li>\n",
       "\t<li>'file_24.tsv'</li>\n",
       "\t<li>'file_47.txt'</li>\n",
       "\t<li>'file_8.txt'</li>\n",
       "\t<li>'file_67.jpg'</li>\n",
       "\t<li>'file_68.csv'</li>\n",
       "\t<li>'file_48.jpg'</li>\n",
       "\t<li>'file_12.tsv'</li>\n",
       "\t<li>'file_44.jpg'</li>\n",
       "\t<li>'file_1.jpg'</li>\n",
       "\t<li>'file_34.jpg'</li>\n",
       "\t<li>'file_99.csv'</li>\n",
       "\t<li>'file_63.txt'</li>\n",
       "\t<li>'file_60.txt'</li>\n",
       "\t<li>'file_100.jpg'</li>\n",
       "\t<li>'file_64.tsv'</li>\n",
       "\t<li>'file_10.tsv'</li>\n",
       "\t<li>'file_65.txt'</li>\n",
       "\t<li>'file_33.jpg'</li>\n",
       "\t<li>'file_37.jpg'</li>\n",
       "\t<li>'file_13.jpg'</li>\n",
       "\t<li>'file_79.txt'</li>\n",
       "\t<li>'file_46.txt'</li>\n",
       "\t<li>'file_69.txt'</li>\n",
       "</ol>\n"
      ],
      "text/latex": [
       "\\begin{enumerate*}\n",
       "\\item 'file\\_14.jpg'\n",
       "\\item 'file\\_95.jpg'\n",
       "\\item 'file\\_90.jpg'\n",
       "\\item 'file\\_89.tsv'\n",
       "\\item 'file\\_31.txt'\n",
       "\\item 'file\\_20.csv'\n",
       "\\item 'file\\_22.csv'\n",
       "\\item 'file\\_24.tsv'\n",
       "\\item 'file\\_47.txt'\n",
       "\\item 'file\\_8.txt'\n",
       "\\item 'file\\_67.jpg'\n",
       "\\item 'file\\_68.csv'\n",
       "\\item 'file\\_48.jpg'\n",
       "\\item 'file\\_12.tsv'\n",
       "\\item 'file\\_44.jpg'\n",
       "\\item 'file\\_1.jpg'\n",
       "\\item 'file\\_34.jpg'\n",
       "\\item 'file\\_99.csv'\n",
       "\\item 'file\\_63.txt'\n",
       "\\item 'file\\_60.txt'\n",
       "\\item 'file\\_100.jpg'\n",
       "\\item 'file\\_64.tsv'\n",
       "\\item 'file\\_10.tsv'\n",
       "\\item 'file\\_65.txt'\n",
       "\\item 'file\\_33.jpg'\n",
       "\\item 'file\\_37.jpg'\n",
       "\\item 'file\\_13.jpg'\n",
       "\\item 'file\\_79.txt'\n",
       "\\item 'file\\_46.txt'\n",
       "\\item 'file\\_69.txt'\n",
       "\\end{enumerate*}\n"
      ],
      "text/markdown": [
       "1. 'file_14.jpg'\n",
       "2. 'file_95.jpg'\n",
       "3. 'file_90.jpg'\n",
       "4. 'file_89.tsv'\n",
       "5. 'file_31.txt'\n",
       "6. 'file_20.csv'\n",
       "7. 'file_22.csv'\n",
       "8. 'file_24.tsv'\n",
       "9. 'file_47.txt'\n",
       "10. 'file_8.txt'\n",
       "11. 'file_67.jpg'\n",
       "12. 'file_68.csv'\n",
       "13. 'file_48.jpg'\n",
       "14. 'file_12.tsv'\n",
       "15. 'file_44.jpg'\n",
       "16. 'file_1.jpg'\n",
       "17. 'file_34.jpg'\n",
       "18. 'file_99.csv'\n",
       "19. 'file_63.txt'\n",
       "20. 'file_60.txt'\n",
       "21. 'file_100.jpg'\n",
       "22. 'file_64.tsv'\n",
       "23. 'file_10.tsv'\n",
       "24. 'file_65.txt'\n",
       "25. 'file_33.jpg'\n",
       "26. 'file_37.jpg'\n",
       "27. 'file_13.jpg'\n",
       "28. 'file_79.txt'\n",
       "29. 'file_46.txt'\n",
       "30. 'file_69.txt'\n",
       "\n",
       "\n"
      ],
      "text/plain": [
       " [1] \"file_14.jpg\"  \"file_95.jpg\"  \"file_90.jpg\"  \"file_89.tsv\"  \"file_31.txt\" \n",
       " [6] \"file_20.csv\"  \"file_22.csv\"  \"file_24.tsv\"  \"file_47.txt\"  \"file_8.txt\"  \n",
       "[11] \"file_67.jpg\"  \"file_68.csv\"  \"file_48.jpg\"  \"file_12.tsv\"  \"file_44.jpg\" \n",
       "[16] \"file_1.jpg\"   \"file_34.jpg\"  \"file_99.csv\"  \"file_63.txt\"  \"file_60.txt\" \n",
       "[21] \"file_100.jpg\" \"file_64.tsv\"  \"file_10.tsv\"  \"file_65.txt\"  \"file_33.jpg\" \n",
       "[26] \"file_37.jpg\"  \"file_13.jpg\"  \"file_79.txt\"  \"file_46.txt\"  \"file_69.txt\" "
      ]
     },
     "metadata": {},
     "output_type": "display_data"
    }
   ],
   "source": [
    "files <- paste0(\"file_\", sample(1:100, 30), sample(c(\".csv\", \".tsv\", \".txt\", \".jpg\"), 30, T))\n",
    "files"
   ]
  },
  {
   "cell_type": "markdown",
   "metadata": {
    "deletable": true,
    "editable": true
   },
   "source": [
    "I'd like to select only `\"csv\"` files for analysis"
   ]
  },
  {
   "cell_type": "code",
   "execution_count": 12,
   "metadata": {
    "collapsed": false,
    "deletable": true,
    "editable": true
   },
   "outputs": [
    {
     "data": {
      "text/html": [
       "<ol class=list-inline>\n",
       "\t<li>'file_20.csv'</li>\n",
       "\t<li>'file_22.csv'</li>\n",
       "\t<li>'file_68.csv'</li>\n",
       "\t<li>'file_99.csv'</li>\n",
       "</ol>\n"
      ],
      "text/latex": [
       "\\begin{enumerate*}\n",
       "\\item 'file\\_20.csv'\n",
       "\\item 'file\\_22.csv'\n",
       "\\item 'file\\_68.csv'\n",
       "\\item 'file\\_99.csv'\n",
       "\\end{enumerate*}\n"
      ],
      "text/markdown": [
       "1. 'file_20.csv'\n",
       "2. 'file_22.csv'\n",
       "3. 'file_68.csv'\n",
       "4. 'file_99.csv'\n",
       "\n",
       "\n"
      ],
      "text/plain": [
       "[1] \"file_20.csv\" \"file_22.csv\" \"file_68.csv\" \"file_99.csv\""
      ]
     },
     "metadata": {},
     "output_type": "display_data"
    }
   ],
   "source": [
    "grep(\"csv$\", files, value = TRUE)"
   ]
  },
  {
   "cell_type": "markdown",
   "metadata": {
    "deletable": true,
    "editable": true
   },
   "source": [
    "## String substitution using gsub\n",
    "\n",
    "I'd like to change the substring `\"file\"` with `\"item\"` in the file names:"
   ]
  },
  {
   "cell_type": "code",
   "execution_count": 14,
   "metadata": {
    "collapsed": false,
    "deletable": true,
    "editable": true
   },
   "outputs": [
    {
     "data": {
      "text/html": [
       "<ol class=list-inline>\n",
       "\t<li>'item_14.jpg'</li>\n",
       "\t<li>'item_95.jpg'</li>\n",
       "\t<li>'item_90.jpg'</li>\n",
       "\t<li>'item_89.tsv'</li>\n",
       "\t<li>'item_31.txt'</li>\n",
       "\t<li>'item_20.csv'</li>\n",
       "\t<li>'item_22.csv'</li>\n",
       "\t<li>'item_24.tsv'</li>\n",
       "\t<li>'item_47.txt'</li>\n",
       "\t<li>'item_8.txt'</li>\n",
       "\t<li>'item_67.jpg'</li>\n",
       "\t<li>'item_68.csv'</li>\n",
       "\t<li>'item_48.jpg'</li>\n",
       "\t<li>'item_12.tsv'</li>\n",
       "\t<li>'item_44.jpg'</li>\n",
       "\t<li>'item_1.jpg'</li>\n",
       "\t<li>'item_34.jpg'</li>\n",
       "\t<li>'item_99.csv'</li>\n",
       "\t<li>'item_63.txt'</li>\n",
       "\t<li>'item_60.txt'</li>\n",
       "\t<li>'item_100.jpg'</li>\n",
       "\t<li>'item_64.tsv'</li>\n",
       "\t<li>'item_10.tsv'</li>\n",
       "\t<li>'item_65.txt'</li>\n",
       "\t<li>'item_33.jpg'</li>\n",
       "\t<li>'item_37.jpg'</li>\n",
       "\t<li>'item_13.jpg'</li>\n",
       "\t<li>'item_79.txt'</li>\n",
       "\t<li>'item_46.txt'</li>\n",
       "\t<li>'item_69.txt'</li>\n",
       "</ol>\n"
      ],
      "text/latex": [
       "\\begin{enumerate*}\n",
       "\\item 'item\\_14.jpg'\n",
       "\\item 'item\\_95.jpg'\n",
       "\\item 'item\\_90.jpg'\n",
       "\\item 'item\\_89.tsv'\n",
       "\\item 'item\\_31.txt'\n",
       "\\item 'item\\_20.csv'\n",
       "\\item 'item\\_22.csv'\n",
       "\\item 'item\\_24.tsv'\n",
       "\\item 'item\\_47.txt'\n",
       "\\item 'item\\_8.txt'\n",
       "\\item 'item\\_67.jpg'\n",
       "\\item 'item\\_68.csv'\n",
       "\\item 'item\\_48.jpg'\n",
       "\\item 'item\\_12.tsv'\n",
       "\\item 'item\\_44.jpg'\n",
       "\\item 'item\\_1.jpg'\n",
       "\\item 'item\\_34.jpg'\n",
       "\\item 'item\\_99.csv'\n",
       "\\item 'item\\_63.txt'\n",
       "\\item 'item\\_60.txt'\n",
       "\\item 'item\\_100.jpg'\n",
       "\\item 'item\\_64.tsv'\n",
       "\\item 'item\\_10.tsv'\n",
       "\\item 'item\\_65.txt'\n",
       "\\item 'item\\_33.jpg'\n",
       "\\item 'item\\_37.jpg'\n",
       "\\item 'item\\_13.jpg'\n",
       "\\item 'item\\_79.txt'\n",
       "\\item 'item\\_46.txt'\n",
       "\\item 'item\\_69.txt'\n",
       "\\end{enumerate*}\n"
      ],
      "text/markdown": [
       "1. 'item_14.jpg'\n",
       "2. 'item_95.jpg'\n",
       "3. 'item_90.jpg'\n",
       "4. 'item_89.tsv'\n",
       "5. 'item_31.txt'\n",
       "6. 'item_20.csv'\n",
       "7. 'item_22.csv'\n",
       "8. 'item_24.tsv'\n",
       "9. 'item_47.txt'\n",
       "10. 'item_8.txt'\n",
       "11. 'item_67.jpg'\n",
       "12. 'item_68.csv'\n",
       "13. 'item_48.jpg'\n",
       "14. 'item_12.tsv'\n",
       "15. 'item_44.jpg'\n",
       "16. 'item_1.jpg'\n",
       "17. 'item_34.jpg'\n",
       "18. 'item_99.csv'\n",
       "19. 'item_63.txt'\n",
       "20. 'item_60.txt'\n",
       "21. 'item_100.jpg'\n",
       "22. 'item_64.tsv'\n",
       "23. 'item_10.tsv'\n",
       "24. 'item_65.txt'\n",
       "25. 'item_33.jpg'\n",
       "26. 'item_37.jpg'\n",
       "27. 'item_13.jpg'\n",
       "28. 'item_79.txt'\n",
       "29. 'item_46.txt'\n",
       "30. 'item_69.txt'\n",
       "\n",
       "\n"
      ],
      "text/plain": [
       " [1] \"item_14.jpg\"  \"item_95.jpg\"  \"item_90.jpg\"  \"item_89.tsv\"  \"item_31.txt\" \n",
       " [6] \"item_20.csv\"  \"item_22.csv\"  \"item_24.tsv\"  \"item_47.txt\"  \"item_8.txt\"  \n",
       "[11] \"item_67.jpg\"  \"item_68.csv\"  \"item_48.jpg\"  \"item_12.tsv\"  \"item_44.jpg\" \n",
       "[16] \"item_1.jpg\"   \"item_34.jpg\"  \"item_99.csv\"  \"item_63.txt\"  \"item_60.txt\" \n",
       "[21] \"item_100.jpg\" \"item_64.tsv\"  \"item_10.tsv\"  \"item_65.txt\"  \"item_33.jpg\" \n",
       "[26] \"item_37.jpg\"  \"item_13.jpg\"  \"item_79.txt\"  \"item_46.txt\"  \"item_69.txt\" "
      ]
     },
     "metadata": {},
     "output_type": "display_data"
    }
   ],
   "source": [
    "gsub(\"file\", \"item\", files)"
   ]
  },
  {
   "cell_type": "markdown",
   "metadata": {
    "deletable": true,
    "editable": true
   },
   "source": [
    "Next I want the file names without extensions, `\"strsplit\"` returns a list type which we will come to later"
   ]
  },
  {
   "cell_type": "code",
   "execution_count": 18,
   "metadata": {
    "collapsed": false,
    "deletable": true,
    "editable": true
   },
   "outputs": [
    {
     "name": "stdout",
     "output_type": "stream",
     "text": [
      "[[1]]\n",
      "[1] \"file_14\" \"jpg\"    \n",
      "\n",
      "[[2]]\n",
      "[1] \"file_95\" \"jpg\"    \n",
      "\n",
      "[[3]]\n",
      "[1] \"file_90\" \"jpg\"    \n",
      "\n",
      "[[4]]\n",
      "[1] \"file_89\" \"tsv\"    \n",
      "\n",
      "[[5]]\n",
      "[1] \"file_31\" \"txt\"    \n",
      "\n"
     ]
    }
   ],
   "source": [
    "# Note we need to escape the \".\" which is a special character in grep\n",
    "print(strsplit(files[1:5], \"\\\\.\"))"
   ]
  },
  {
   "cell_type": "markdown",
   "metadata": {
    "deletable": true,
    "editable": true
   },
   "source": [
    "## Other useful string operations\n",
    "\n",
    "The `\"casefold\"` function transforms a string to upper or lower (see also `\"toupper\"` and `\"tolower\"`):"
   ]
  },
  {
   "cell_type": "code",
   "execution_count": 19,
   "metadata": {
    "collapsed": false,
    "deletable": true,
    "editable": true
   },
   "outputs": [
    {
     "data": {
      "text/html": [
       "'lower'"
      ],
      "text/latex": [
       "'lower'"
      ],
      "text/markdown": [
       "'lower'"
      ],
      "text/plain": [
       "[1] \"lower\""
      ]
     },
     "metadata": {},
     "output_type": "display_data"
    }
   ],
   "source": [
    "casefold(\"loWer\", upper = FALSE)"
   ]
  },
  {
   "cell_type": "code",
   "execution_count": 21,
   "metadata": {
    "collapsed": false,
    "deletable": true,
    "editable": true
   },
   "outputs": [
    {
     "data": {
      "text/html": [
       "<ol class=list-inline>\n",
       "\t<li>11</li>\n",
       "\t<li>11</li>\n",
       "\t<li>11</li>\n",
       "\t<li>11</li>\n",
       "\t<li>11</li>\n",
       "\t<li>11</li>\n",
       "\t<li>11</li>\n",
       "\t<li>11</li>\n",
       "\t<li>11</li>\n",
       "\t<li>10</li>\n",
       "\t<li>11</li>\n",
       "\t<li>11</li>\n",
       "\t<li>11</li>\n",
       "\t<li>11</li>\n",
       "\t<li>11</li>\n",
       "\t<li>10</li>\n",
       "\t<li>11</li>\n",
       "\t<li>11</li>\n",
       "\t<li>11</li>\n",
       "\t<li>11</li>\n",
       "\t<li>12</li>\n",
       "\t<li>11</li>\n",
       "\t<li>11</li>\n",
       "\t<li>11</li>\n",
       "\t<li>11</li>\n",
       "\t<li>11</li>\n",
       "\t<li>11</li>\n",
       "\t<li>11</li>\n",
       "\t<li>11</li>\n",
       "\t<li>11</li>\n",
       "</ol>\n"
      ],
      "text/latex": [
       "\\begin{enumerate*}\n",
       "\\item 11\n",
       "\\item 11\n",
       "\\item 11\n",
       "\\item 11\n",
       "\\item 11\n",
       "\\item 11\n",
       "\\item 11\n",
       "\\item 11\n",
       "\\item 11\n",
       "\\item 10\n",
       "\\item 11\n",
       "\\item 11\n",
       "\\item 11\n",
       "\\item 11\n",
       "\\item 11\n",
       "\\item 10\n",
       "\\item 11\n",
       "\\item 11\n",
       "\\item 11\n",
       "\\item 11\n",
       "\\item 12\n",
       "\\item 11\n",
       "\\item 11\n",
       "\\item 11\n",
       "\\item 11\n",
       "\\item 11\n",
       "\\item 11\n",
       "\\item 11\n",
       "\\item 11\n",
       "\\item 11\n",
       "\\end{enumerate*}\n"
      ],
      "text/markdown": [
       "1. 11\n",
       "2. 11\n",
       "3. 11\n",
       "4. 11\n",
       "5. 11\n",
       "6. 11\n",
       "7. 11\n",
       "8. 11\n",
       "9. 11\n",
       "10. 10\n",
       "11. 11\n",
       "12. 11\n",
       "13. 11\n",
       "14. 11\n",
       "15. 11\n",
       "16. 10\n",
       "17. 11\n",
       "18. 11\n",
       "19. 11\n",
       "20. 11\n",
       "21. 12\n",
       "22. 11\n",
       "23. 11\n",
       "24. 11\n",
       "25. 11\n",
       "26. 11\n",
       "27. 11\n",
       "28. 11\n",
       "29. 11\n",
       "30. 11\n",
       "\n",
       "\n"
      ],
      "text/plain": [
       " [1] 11 11 11 11 11 11 11 11 11 10 11 11 11 11 11 10 11 11 11 11 12 11 11 11 11\n",
       "[26] 11 11 11 11 11"
      ]
     },
     "metadata": {},
     "output_type": "display_data"
    }
   ],
   "source": [
    "# The number of characters in each item:\n",
    "nchar(files)"
   ]
  },
  {
   "cell_type": "code",
   "execution_count": 22,
   "metadata": {
    "collapsed": false,
    "deletable": true,
    "editable": true
   },
   "outputs": [
    {
     "data": {
      "text/html": [
       "'visua'"
      ],
      "text/latex": [
       "'visua'"
      ],
      "text/markdown": [
       "'visua'"
      ],
      "text/plain": [
       "[1] \"visua\""
      ]
     },
     "metadata": {},
     "output_type": "display_data"
    }
   ],
   "source": [
    "# Selecting part of a string\n",
    "substring(\"visualize this\", 1, 5)"
   ]
  },
  {
   "cell_type": "markdown",
   "metadata": {
    "deletable": true,
    "editable": true
   },
   "source": [
    "# Exercise 1.9\n",
    "\n",
    "**Question 1**\n",
    "\n",
    "You work in a UK marketing company and you would like to run models on four different `\"customer_locations\"` London, Manchester, Edinburgh, Cardiff. Use the `\"paste\"` or `\"paste0\"` functions to generate the SQL strings for extracting the data from your \"customer_table\"."
   ]
  },
  {
   "cell_type": "code",
   "execution_count": null,
   "metadata": {
    "collapsed": true,
    "deletable": true,
    "editable": true
   },
   "outputs": [],
   "source": []
  },
  {
   "cell_type": "markdown",
   "metadata": {
    "deletable": true,
    "editable": true
   },
   "source": [
    "**Question 2**\n",
    "\n",
    "Your boss likes the analysis you carried out and want you to run models by `\"customer_location\"` and `\"age_group\"`: `\"20-30\"`, `\"31-40\"`, `\"41-50\"`, `\"51-60\"`. Use `\"paste\"` or `\"paste0\"` functions to generate the SQL statements and assign them to the `\"sql_strings\"` variable. Hint: you'll probably need the `\"expand.grid\"` function."
   ]
  },
  {
   "cell_type": "code",
   "execution_count": null,
   "metadata": {
    "collapsed": true,
    "deletable": true,
    "editable": true
   },
   "outputs": [],
   "source": []
  },
  {
   "cell_type": "markdown",
   "metadata": {
    "deletable": true,
    "editable": true
   },
   "source": [
    "**Question 3**\n",
    "\n",
    "It turns out that Cardiff has miss-labelled and should be Swansea. Use the `\"gsub\"` function to fix this in \"sql_strings\"."
   ]
  },
  {
   "cell_type": "code",
   "execution_count": null,
   "metadata": {
    "collapsed": true,
    "deletable": true,
    "editable": true
   },
   "outputs": [],
   "source": []
  },
  {
   "cell_type": "markdown",
   "metadata": {
    "deletable": true,
    "editable": true
   },
   "source": [
    "**Question 4**\n",
    "\n",
    "Save the `\"sql_string\"` to an RDS file (`\"data1.rds\"`) using `\"saveRDS\"`. Now read the file back and assign it to `\"string\"` using the `\"readRDS\"` function. Use R help to search the functions `\"saveRDS\"` and `\"readRDS\"`."
   ]
  },
  {
   "cell_type": "code",
   "execution_count": null,
   "metadata": {
    "collapsed": true,
    "deletable": true,
    "editable": true
   },
   "outputs": [],
   "source": []
  },
  {
   "cell_type": "markdown",
   "metadata": {
    "deletable": true,
    "editable": true
   },
   "source": [
    "**Question 5**\n",
    "\n",
    "Save the `\"files\"` vector and the `\"sql_string\"` vector to a file `\"data2.RData\"`, using the `\"save\"` function. Assign the number `1` to `\"files\"` and `\"sql_string\"` variables. Now using the `\"load\"` function to load the saved file. What happened? What is the difference between the `\"save\"` and `\"load\"` functions and the `\"readRDS\"` and `\"saveRDS\"` functions?"
   ]
  },
  {
   "cell_type": "code",
   "execution_count": null,
   "metadata": {
    "collapsed": true,
    "deletable": true,
    "editable": true
   },
   "outputs": [],
   "source": []
  }
 ],
 "metadata": {
  "kernelspec": {
   "display_name": "R 3.3",
   "language": "R",
   "name": "ir33"
  },
  "language_info": {
   "codemirror_mode": "r",
   "file_extension": ".r",
   "mimetype": "text/x-r-source",
   "name": "R",
   "pygments_lexer": "r",
   "version": "3.3.3"
  }
 },
 "nbformat": 4,
 "nbformat_minor": 2
}
