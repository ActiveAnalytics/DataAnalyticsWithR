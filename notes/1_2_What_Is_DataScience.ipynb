{
 "cells": [
  {
   "cell_type": "markdown",
   "metadata": {
    "deletable": true,
    "editable": true
   },
   "source": [
    "# What is Data Science?\n",
    "\n",
    "## Data Science Definition\n",
    "\n",
    "In recent years, data science has become important to many organizations, yet defining precisely what is is less than straightforward. It is clear however that data science is interdisciplinary and uses various analytical methods to transform data in its various forms into knowledge or insights to drive decision making. The main fields involved in data science are:\n",
    "\n",
    "* Mathematics\n",
    "* Statistics\n",
    "* Information Science\n",
    "* Computer Science\n",
    "* Machine Learning\n",
    "* Deep Learning\n",
    "* Artificial Intelligence\n",
    "\n",
    "## Process of Doing Data Science\n",
    "\n",
    "In general data science projects start with a question:\n",
    "\n",
    "* How do we price our products?\n",
    "* What markets are best to invest in?\n",
    "* How do we increase customer value?\n",
    "* How do we reduce costs by cutting waste while maintaining the quality and/or coverage of our product?\n",
    "\n",
    "In a simple scenario, the stakeholders speak to the chief data scientist or the data science manager. Together they decide on a general strategy and the data science manager decides how to use the organisation's data and relevant I.T. infrastructure and his/her team to work on the strategy and then answer the organisation's question.\n",
    "\n",
    "In general the steps for this include:\n",
    "\n",
    "1. Making sure that the organisation has relevant I.T. and data to answer the questions\n",
    "2. Creating small/research scale analysis to test the strategy/hypothesis and refining the analysis\n",
    "3. Scaling out the analysis pipeline if applicable\n",
    "3. Communicating findings with the stakeholders\n",
    "4. Rolling out the outcomes of the analyis to the organization\n",
    "5. Continued monitoring and live testing to make sure that solution scales out"
   ]
  },
  {
   "cell_type": "code",
   "execution_count": null,
   "metadata": {
    "collapsed": true,
    "deletable": true,
    "editable": true
   },
   "outputs": [],
   "source": []
  }
 ],
 "metadata": {
  "kernelspec": {
   "display_name": "R 3.3",
   "language": "R",
   "name": "ir33"
  },
  "language_info": {
   "codemirror_mode": "r",
   "file_extension": ".r",
   "mimetype": "text/x-r-source",
   "name": "R",
   "pygments_lexer": "r",
   "version": "3.3.3"
  }
 },
 "nbformat": 4,
 "nbformat_minor": 2
}
