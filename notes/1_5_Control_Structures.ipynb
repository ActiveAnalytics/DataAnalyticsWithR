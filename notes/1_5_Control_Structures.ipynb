{
 "cells": [
  {
   "cell_type": "markdown",
   "metadata": {
    "deletable": true,
    "editable": true
   },
   "source": [
    "# Control Structures\n",
    "\n",
    "## For loop\n",
    "\n",
    "For loops allow us to iterate over ranges. (The `\"cat\"` function is used to concatenates and prints characters)"
   ]
  },
  {
   "cell_type": "code",
   "execution_count": 1,
   "metadata": {
    "collapsed": false,
    "deletable": true,
    "editable": true
   },
   "outputs": [
    {
     "name": "stdout",
     "output_type": "stream",
     "text": [
      "Iteration  1 \n",
      "Iteration  2 \n",
      "Iteration  3 \n",
      "Iteration  4 \n",
      "Iteration  5 \n",
      "Iteration  6 \n",
      "Iteration  7 \n",
      "Iteration  8 \n",
      "Iteration  9 \n",
      "Iteration  10 \n"
     ]
    }
   ],
   "source": [
    "# If there is only one line after the declaration\n",
    "#  we don't need braces.\n",
    "# The indentation is purely aesthetic\n",
    "for(i in 1:10)\n",
    "    cat(\"Iteration \", i, \"\\n\")"
   ]
  },
  {
   "cell_type": "code",
   "execution_count": 2,
   "metadata": {
    "collapsed": false,
    "deletable": true,
    "editable": true
   },
   "outputs": [
    {
     "name": "stdout",
     "output_type": "stream",
     "text": [
      "The area for radius  1  is  0.031 \n",
      "The area for radius  2  is  0.126 \n",
      "The area for radius  3  is  0.283 \n",
      "The area for radius  4  is  0.503 \n",
      "The area for radius  5  is  0.785 \n",
      "The area for radius  6  is  1.131 \n",
      "The area for radius  7  is  1.539 \n",
      "The area for radius  8  is  2.011 \n",
      "The area for radius  9  is  2.545 \n",
      "The area for radius  10  is  3.142 \n"
     ]
    }
   ],
   "source": [
    "# For more than one line with the for loop we need braces\n",
    "# Similar to a foreach loop\n",
    "for(radius in 1:10)\n",
    "{\n",
    "    area <- pi*((radius/10)^2)\n",
    "    cat(\"The area for radius \", radius, \" is \", round(area, 3), \"\\n\")\n",
    "}"
   ]
  },
  {
   "cell_type": "markdown",
   "metadata": {
    "deletable": true,
    "editable": true
   },
   "source": [
    "## The if and else statement\n",
    "\n",
    "We would like to add a conditional statement to the loop to filter out odd sized radii:"
   ]
  },
  {
   "cell_type": "code",
   "execution_count": 3,
   "metadata": {
    "collapsed": false,
    "deletable": true,
    "editable": true
   },
   "outputs": [
    {
     "name": "stdout",
     "output_type": "stream",
     "text": [
      "The area for radius  2  is  0.126 \n",
      "The area for radius  4  is  0.503 \n",
      "The area for radius  6  is  1.131 \n",
      "The area for radius  8  is  2.011 \n",
      "The area for radius  10  is  3.142 \n"
     ]
    }
   ],
   "source": [
    "# We can use \"next\" to skip to the next iteration\n",
    "for(radius in 1:10)\n",
    "{\n",
    "    if(radius %% 2 != 0)\n",
    "        next\n",
    "    else{\n",
    "        area <- pi*((radius/10)^2)\n",
    "        cat(\"The area for radius \", radius, \" is \", round(area, 3), \"\\n\")\n",
    "    }\n",
    "}"
   ]
  },
  {
   "cell_type": "markdown",
   "metadata": {
    "deletable": true,
    "editable": true
   },
   "source": [
    "We are iterating over a set of values and if we hit a value greater than 3, we would like to exit the loop altogether. The `\"break\"` statement allows us to do this:"
   ]
  },
  {
   "cell_type": "code",
   "execution_count": 10,
   "metadata": {
    "collapsed": false,
    "deletable": true,
    "editable": true
   },
   "outputs": [
    {
     "name": "stdout",
     "output_type": "stream",
     "text": [
      "Item: 3\n",
      "Item: 1\n"
     ]
    }
   ],
   "source": [
    "for(item in sample(0:7, 100, T))\n",
    "{\n",
    "    if(item > 3)\n",
    "        break\n",
    "    else\n",
    "        cat(\"Item: \", item, \"\\n\", sep = \"\")\n",
    "}"
   ]
  },
  {
   "cell_type": "code",
   "execution_count": 2,
   "metadata": {
    "collapsed": false
   },
   "outputs": [
    {
     "name": "stdout",
     "output_type": "stream",
     "text": [
      "Letter  j \n",
      "Letter  d \n",
      "Letter  x \n",
      "Letter  g \n",
      "Letter  p \n",
      "Letter  e \n",
      "Letter  i \n",
      "Letter  r \n",
      "Letter  c \n",
      "Letter  y \n"
     ]
    }
   ],
   "source": [
    "# Iterating over vector indexes\n",
    "x <- sample(letters, 10, T)\n",
    "for(i in 1:length(x))\n",
    "{\n",
    "    cat(\"Letter \", x[i], \"\\n\")\n",
    "}"
   ]
  },
  {
   "cell_type": "markdown",
   "metadata": {
    "deletable": true,
    "editable": true
   },
   "source": [
    "## The while loop\n",
    "\n",
    "The `while` (while-do) loop iterates while a prefix condition is met:"
   ]
  },
  {
   "cell_type": "code",
   "execution_count": 14,
   "metadata": {
    "collapsed": false,
    "deletable": true,
    "editable": true
   },
   "outputs": [
    {
     "name": "stdout",
     "output_type": "stream",
     "text": [
      "Iteration  1 \n",
      "Iteration  2 \n",
      "Iteration  3 \n",
      "Iteration  4 \n",
      "Iteration  5 \n"
     ]
    }
   ],
   "source": [
    "i <- 1\n",
    "while(i <= 5)\n",
    "{\n",
    "    cat(\"Iteration \", i, \"\\n\")\n",
    "    i <- i + 1\n",
    "}"
   ]
  },
  {
   "cell_type": "markdown",
   "metadata": {
    "deletable": true,
    "editable": true
   },
   "source": [
    "## The repeat loop\n",
    "\n",
    "The `\"repeat\"` loop is rather rare in R programming. It is essentially a while loop without an explicit conditioning. It can be used to repesent a do-while loop:"
   ]
  },
  {
   "cell_type": "code",
   "execution_count": 17,
   "metadata": {
    "collapsed": false,
    "deletable": true,
    "editable": true
   },
   "outputs": [
    {
     "name": "stdout",
     "output_type": "stream",
     "text": [
      "Iteration  1 \n",
      "Iteration  2 \n",
      "Iteration  3 \n",
      "Iteration  4 \n",
      "Iteration  5 \n"
     ]
    }
   ],
   "source": [
    "i <- 1\n",
    "repeat{\n",
    "    cat(\"Iteration \", i, \"\\n\")\n",
    "    i <- i + 1\n",
    "    if(i > 5)\n",
    "        break\n",
    "}"
   ]
  },
  {
   "cell_type": "markdown",
   "metadata": {
    "deletable": true,
    "editable": true
   },
   "source": [
    "## The ifelse statement\n",
    "\n",
    "In R the `\"ifelse\"` statement is a function that can return explicit values based on a logical test. (The `\"paste\"` function concatenates and returns characters)."
   ]
  },
  {
   "cell_type": "code",
   "execution_count": 27,
   "metadata": {
    "collapsed": false,
    "deletable": true,
    "editable": true
   },
   "outputs": [
    {
     "name": "stdout",
     "output_type": "stream",
     "text": [
      "Iteration 1 is odd!\n",
      "Iteration 2 is even!\n",
      "Iteration 3 is odd!\n",
      "Iteration 4 is even!\n",
      "Iteration 5 is odd!\n"
     ]
    }
   ],
   "source": [
    "for(i in 1:5)\n",
    "    cat(ifelse(i %% 2 == 0, paste(\"Iteration\", i, \"is even!\\n\"), paste(\"Iteration\", i, \"is odd!\\n\")))"
   ]
  },
  {
   "cell_type": "markdown",
   "metadata": {
    "deletable": true,
    "editable": true
   },
   "source": [
    "## The switch statement\n",
    "\n",
    "The `\"switch\"` statement allows different choices given an expression:"
   ]
  },
  {
   "cell_type": "code",
   "execution_count": 34,
   "metadata": {
    "collapsed": false,
    "deletable": true,
    "editable": true
   },
   "outputs": [
    {
     "name": "stdout",
     "output_type": "stream",
     "text": [
      "Outcome:  Well done \n",
      "Outcome:  Brilliant \n",
      "Outcome:  Brilliant \n",
      "Outcome:  Brilliant \n",
      "Outcome:  Well done \n",
      "Outcome:  Oh dear! \n",
      "Outcome:  Well done \n",
      "Outcome:  Brilliant \n",
      "Outcome:  Brilliant \n",
      "Outcome:  Well done \n"
     ]
    }
   ],
   "source": [
    "for(grade in sample(c(\"A\", \"B\", \"F\"), 10, T))\n",
    "{\n",
    "    outcome <- switch(\n",
    "        grade,\n",
    "        A = \"Brilliant\",\n",
    "        B = \"Well done\",\n",
    "        F = \"Oh dear!\"\n",
    "    )\n",
    "    cat(\"Outcome: \", outcome, \"\\n\")\n",
    "}"
   ]
  },
  {
   "cell_type": "markdown",
   "metadata": {
    "deletable": true,
    "editable": true
   },
   "source": [
    "# Exercise 1.8\n",
    "\n",
    "**Question 1**\n",
    "\n",
    "Use `\"else\"` `\"if\"` chains instead of a `\"switch\"` statement to repeat the logic for the last example. Hint: `\"}else if(){\"`"
   ]
  },
  {
   "cell_type": "code",
   "execution_count": null,
   "metadata": {
    "collapsed": true,
    "deletable": true,
    "editable": true
   },
   "outputs": [],
   "source": []
  },
  {
   "cell_type": "markdown",
   "metadata": {
    "deletable": true,
    "editable": true
   },
   "source": [
    "**Question 2**\n",
    "\n",
    "The items in a production line can be represented by the code snippet `\"items <- sample(c(\"productA\", \"razorX\", \"productC\")`, 100, replace = TRUE, prob = c(3, 1, 2))\". It is discovered that `\"razorX\"` products will damage components in production line. Use a for loop to print the products but if you get `\"razorX\"` stop the production line  with the `\"stop\"` function given an appropriate error message, otherwise simply print the product. Hint: use R help to search the `\"stop\"` function."
   ]
  },
  {
   "cell_type": "code",
   "execution_count": null,
   "metadata": {
    "collapsed": true,
    "deletable": true,
    "editable": true
   },
   "outputs": [],
   "source": []
  },
  {
   "cell_type": "markdown",
   "metadata": {
    "deletable": true,
    "editable": true
   },
   "source": [
    "**Question 3**\n",
    "\n",
    "Instead of stopping the production line in your loop use `\"next\"` to skip to the next item"
   ]
  },
  {
   "cell_type": "code",
   "execution_count": null,
   "metadata": {
    "collapsed": true,
    "deletable": true,
    "editable": true
   },
   "outputs": [],
   "source": []
  }
 ],
 "metadata": {
  "kernelspec": {
   "display_name": "R 3.3",
   "language": "R",
   "name": "ir33"
  },
  "language_info": {
   "codemirror_mode": "r",
   "file_extension": ".r",
   "mimetype": "text/x-r-source",
   "name": "R",
   "pygments_lexer": "r",
   "version": "3.3.3"
  }
 },
 "nbformat": 4,
 "nbformat_minor": 2
}
