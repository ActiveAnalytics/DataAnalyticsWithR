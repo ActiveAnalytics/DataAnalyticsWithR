{
 "cells": [
  {
   "cell_type": "markdown",
   "metadata": {
    "deletable": true,
    "editable": true
   },
   "source": [
    "# Functions and functional programming\n",
    "\n",
    "## Introduction to functions\n"
   ]
  },
  {
   "cell_type": "markdown",
   "metadata": {
    "deletable": true,
    "editable": true
   },
   "source": [
    "In R closures can be used to group multiple statements:"
   ]
  },
  {
   "cell_type": "code",
   "execution_count": 4,
   "metadata": {
    "collapsed": false,
    "deletable": true,
    "editable": true
   },
   "outputs": [
    {
     "name": "stdout",
     "output_type": "stream",
     "text": [
      "[1] 0.49528\n"
     ]
    }
   ],
   "source": [
    "{z <- runif(1000); z <- mean(z); print(round(z, 5))}"
   ]
  },
  {
   "cell_type": "markdown",
   "metadata": {
    "deletable": true,
    "editable": true
   },
   "source": [
    "Round brackes are used for parenthesis to group calculations but also will return values."
   ]
  },
  {
   "cell_type": "code",
   "execution_count": 5,
   "metadata": {
    "collapsed": true,
    "deletable": true,
    "editable": true
   },
   "outputs": [],
   "source": [
    "z <- 1:10"
   ]
  },
  {
   "cell_type": "code",
   "execution_count": 6,
   "metadata": {
    "collapsed": false,
    "deletable": true,
    "editable": true
   },
   "outputs": [
    {
     "data": {
      "text/html": [
       "<ol class=list-inline>\n",
       "\t<li>1</li>\n",
       "\t<li>2</li>\n",
       "\t<li>3</li>\n",
       "\t<li>4</li>\n",
       "\t<li>5</li>\n",
       "\t<li>6</li>\n",
       "\t<li>7</li>\n",
       "\t<li>8</li>\n",
       "\t<li>9</li>\n",
       "\t<li>10</li>\n",
       "</ol>\n"
      ],
      "text/latex": [
       "\\begin{enumerate*}\n",
       "\\item 1\n",
       "\\item 2\n",
       "\\item 3\n",
       "\\item 4\n",
       "\\item 5\n",
       "\\item 6\n",
       "\\item 7\n",
       "\\item 8\n",
       "\\item 9\n",
       "\\item 10\n",
       "\\end{enumerate*}\n"
      ],
      "text/markdown": [
       "1. 1\n",
       "2. 2\n",
       "3. 3\n",
       "4. 4\n",
       "5. 5\n",
       "6. 6\n",
       "7. 7\n",
       "8. 8\n",
       "9. 9\n",
       "10. 10\n",
       "\n",
       "\n"
      ],
      "text/plain": [
       " [1]  1  2  3  4  5  6  7  8  9 10"
      ]
     },
     "metadata": {},
     "output_type": "display_data"
    }
   ],
   "source": [
    "(z <- 1:10)"
   ]
  },
  {
   "cell_type": "markdown",
   "metadata": {
    "deletable": true,
    "editable": true
   },
   "source": [
    "Functions are created using the `\"function\"` keyword. Without an explicit `\"return\"` statement, the last item to be evaluated is returned."
   ]
  },
  {
   "cell_type": "code",
   "execution_count": 1,
   "metadata": {
    "collapsed": false,
    "deletable": true,
    "editable": true
   },
   "outputs": [
    {
     "name": "stdout",
     "output_type": "stream",
     "text": [
      "[1]  1  4  9 16\n"
     ]
    }
   ],
   "source": [
    "# Single line functions do not require braces\n",
    "sq <- function(x)x^2\n",
    "print(sq(1:4))"
   ]
  },
  {
   "cell_type": "code",
   "execution_count": 2,
   "metadata": {
    "collapsed": false,
    "deletable": true,
    "editable": true,
    "scrolled": true
   },
   "outputs": [
    {
     "name": "stdout",
     "output_type": "stream",
     "text": [
      "[1] \"Sepal.Length\" \"Sepal.Width\"  \"Petal.Length\" \"Petal.Width\"  \"Species\"     \n",
      "[1] \"petal.length\" \"petal.width\"  \"sepal.length\" \"sepal.width\"  \"species\"     \n"
     ]
    }
   ],
   "source": [
    "# Multline function\n",
    "process_string <- function(x)\n",
    "{\n",
    "    x <- casefold(x, upper = FALSE)\n",
    "    sort(x)\n",
    "}\n",
    "print(names(iris))\n",
    "print(process_string(names(iris)))"
   ]
  },
  {
   "cell_type": "code",
   "execution_count": 3,
   "metadata": {
    "collapsed": false,
    "deletable": true,
    "editable": true
   },
   "outputs": [
    {
     "name": "stdout",
     "output_type": "stream",
     "text": [
      "[1] \"Sepal.Length\" \"Sepal.Width\"  \"Petal.Length\" \"Petal.Width\"  \"Species\"     \n",
      "[1] \"petal.length\" \"petal.width\"  \"sepal.length\" \"sepal.width\"  \"species\"     \n"
     ]
    }
   ],
   "source": [
    "# Explicit return statement, brackets around the return statement are mandatory\n",
    "# Function with default parameter x\n",
    "process_string <- function(x = names(iris))\n",
    "{\n",
    "    x <- casefold(x, upper = FALSE)\n",
    "    return(sort(x))\n",
    "}\n",
    "print(names(iris))\n",
    "print(process_string())"
   ]
  },
  {
   "cell_type": "code",
   "execution_count": null,
   "metadata": {
    "collapsed": true,
    "deletable": true,
    "editable": true
   },
   "outputs": [],
   "source": []
  },
  {
   "cell_type": "markdown",
   "metadata": {
    "deletable": true,
    "editable": true
   },
   "source": [
    "### Variadic functions and ellipsis\n",
    "\n",
    "R also has support for variadic functions, that is functions with any number of parameters using ellipsis `\"...\"`"
   ]
  },
  {
   "cell_type": "code",
   "execution_count": 4,
   "metadata": {
    "collapsed": false,
    "deletable": true,
    "editable": true
   },
   "outputs": [
    {
     "name": "stdout",
     "output_type": "stream",
     "text": [
      "[1] 7\n"
     ]
    }
   ],
   "source": [
    "# Function with 2 variables\n",
    "adder <- function(x, y)\n",
    "{\n",
    "    x + y\n",
    "}\n",
    "print(adder(3, 4))"
   ]
  },
  {
   "cell_type": "code",
   "execution_count": 5,
   "metadata": {
    "collapsed": false,
    "deletable": true,
    "editable": true
   },
   "outputs": [
    {
     "name": "stdout",
     "output_type": "stream",
     "text": [
      "[1] 10\n"
     ]
    }
   ],
   "source": [
    "# Variadic function\n",
    "adder_variadic <- function(...)\n",
    "{\n",
    "    x <- c(...)\n",
    "    result <- 0\n",
    "    while(length(x) > 0)\n",
    "    {\n",
    "        result <- result + x[1]\n",
    "        x <- x[-1]\n",
    "    }\n",
    "    return(result)\n",
    "}\n",
    "print(adder_variadic(1, 2, 3, 4))"
   ]
  },
  {
   "cell_type": "code",
   "execution_count": 6,
   "metadata": {
    "collapsed": false,
    "deletable": true,
    "editable": true
   },
   "outputs": [
    {
     "name": "stdout",
     "output_type": "stream",
     "text": [
      "[1] 29\n"
     ]
    }
   ],
   "source": [
    "# Variadic function with one regular parameter\n",
    "adder_variadic2 <- function(square = FALSE, ...)\n",
    "{\n",
    "    x <- c(...)\n",
    "    if(square)\n",
    "        x <- x^2\n",
    "    result <- 0\n",
    "    while(length(x) > 0)\n",
    "    {\n",
    "        result <- result + x[1]\n",
    "        x <- x[-1]\n",
    "    }\n",
    "    return(result)\n",
    "}\n",
    "print(adder_variadic2(1, 2, 3, 4))"
   ]
  },
  {
   "cell_type": "markdown",
   "metadata": {
    "deletable": true,
    "editable": true
   },
   "source": [
    "Ellipsis can also be used to pass parameters from the top level function:"
   ]
  },
  {
   "cell_type": "code",
   "execution_count": 7,
   "metadata": {
    "collapsed": false,
    "deletable": true,
    "editable": true
   },
   "outputs": [
    {
     "name": "stdout",
     "output_type": "stream",
     "text": [
      "Sum:  \n",
      "[1] 10\n"
     ]
    }
   ],
   "source": [
    "adder_variadic3 <- function(message, ...)\n",
    "{\n",
    "    cat(message, \"\\n\")\n",
    "    adder_variadic(...)\n",
    "}\n",
    "print(adder_variadic3(\"Sum: \", 1, 2, 3, 4))"
   ]
  },
  {
   "cell_type": "markdown",
   "metadata": {
    "deletable": true,
    "editable": true
   },
   "source": [
    "### Operators as functions\n",
    "\n",
    "Operators in R are functions and can be called by using the back-tick operator:"
   ]
  },
  {
   "cell_type": "code",
   "execution_count": 8,
   "metadata": {
    "collapsed": false,
    "deletable": true,
    "editable": true
   },
   "outputs": [
    {
     "name": "stdout",
     "output_type": "stream",
     "text": [
      "[1] 5\n"
     ]
    }
   ],
   "source": [
    "print(`+`(2, 3))"
   ]
  },
  {
   "cell_type": "code",
   "execution_count": 9,
   "metadata": {
    "collapsed": false,
    "deletable": true,
    "editable": true
   },
   "outputs": [
    {
     "name": "stdout",
     "output_type": "stream",
     "text": [
      "[1] 12\n"
     ]
    }
   ],
   "source": [
    "print(`*`(3, 4))"
   ]
  },
  {
   "cell_type": "markdown",
   "metadata": {
    "deletable": true,
    "editable": true
   },
   "source": [
    "# Exercise 1.13\n",
    "\n",
    "**Question 1**\n",
    "\n",
    "Functions can be passed as parameters into other functions. Create a function called `proc` that takes three parameters. The first parameter of the function is a vector `x`, the second a function `fun`, and the third ellipsis `...`\n",
    "\n",
    "The function `proc` should return `x` after it has been processed by the function `fun`. The ellipsis `...` should be passed to the function `fun`."
   ]
  },
  {
   "cell_type": "code",
   "execution_count": null,
   "metadata": {
    "collapsed": true,
    "deletable": true,
    "editable": true
   },
   "outputs": [],
   "source": []
  },
  {
   "cell_type": "markdown",
   "metadata": {
    "deletable": true,
    "editable": true
   },
   "source": [
    "**Question 2**\n",
    "\n",
    "Using the `proc` function pass the `\"Sepal.Width\"` column from `\"iris\"` table to the `\"x\"` parameter and the `\"mean\"` function to the `\"fun\"` parameter."
   ]
  },
  {
   "cell_type": "code",
   "execution_count": null,
   "metadata": {
    "collapsed": true,
    "deletable": true,
    "editable": true
   },
   "outputs": [],
   "source": []
  },
  {
   "cell_type": "markdown",
   "metadata": {
    "deletable": true,
    "editable": true
   },
   "source": [
    "**Question 3**\n",
    "\n",
    "Repeat the above task but use the vector `c(1, 2, 44, NA, 5, 6)` instead. Why do you get that answer? Try again but pass the parameter `\"na.rm = TRUE\"` with the ellipsis. What happened and how did it occur?"
   ]
  },
  {
   "cell_type": "code",
   "execution_count": null,
   "metadata": {
    "collapsed": true,
    "deletable": true,
    "editable": true
   },
   "outputs": [],
   "source": []
  },
  {
   "cell_type": "markdown",
   "metadata": {
    "deletable": true,
    "editable": true
   },
   "source": [
    "**Question 4**\n",
    "\n",
    "R has **anonymous functions** that are functions that can be declared but not bound to a name. Instead of using the `\"mean\"` function create a function $mean(x^2) - mean(x)^2$ in its place and sample 100 numbers from the uniform [0,1] distribution as the `\"x\"` parameter."
   ]
  },
  {
   "cell_type": "code",
   "execution_count": null,
   "metadata": {
    "collapsed": true,
    "deletable": true,
    "editable": true
   },
   "outputs": [],
   "source": []
  },
  {
   "cell_type": "markdown",
   "metadata": {
    "deletable": true,
    "editable": true
   },
   "source": [
    "**Question 5**\n",
    "\n",
    "The main difference between environments and lists and data.frames is that environments are reference objects, that is environments are not value objects. Create a function called `\"makeX\"` that has one parameter `y` populates it by binding a variable `x` which is a vector of 20 numbers sampled from the unform [-3, 3] distribution and returns y invisibly `invisible(y)`. Now create an empty list called `list1` and an empty environment called `env1`. Pass `list1` and `env1` separately through the `makeX` function. Is there any change in `env1` and `list1`? What does this imply about how R functions pass parameters?"
   ]
  },
  {
   "cell_type": "code",
   "execution_count": null,
   "metadata": {
    "collapsed": true,
    "deletable": true,
    "editable": true
   },
   "outputs": [],
   "source": []
  },
  {
   "cell_type": "markdown",
   "metadata": {
    "deletable": true,
    "editable": true
   },
   "source": [
    "**Question 6**\n",
    "\n",
    "Use the back-tick operator to use `\"^\"` to calculate $2^3$"
   ]
  },
  {
   "cell_type": "code",
   "execution_count": null,
   "metadata": {
    "collapsed": true,
    "deletable": true,
    "editable": true
   },
   "outputs": [],
   "source": []
  },
  {
   "cell_type": "markdown",
   "metadata": {
    "deletable": true,
    "editable": true
   },
   "source": [
    "## Recursive functions\n",
    "\n",
    "Recursive functions call themselves and R has support for these types of constructs:"
   ]
  },
  {
   "cell_type": "code",
   "execution_count": 10,
   "metadata": {
    "collapsed": false,
    "deletable": true,
    "editable": true
   },
   "outputs": [
    {
     "name": "stdout",
     "output_type": "stream",
     "text": [
      "[1] 3628800\n",
      "[1] 3628800\n"
     ]
    }
   ],
   "source": [
    "# The factorial function\n",
    "fact <- function(x)\n",
    "{\n",
    "    if(x == 0)\n",
    "        return(1)\n",
    "        \n",
    "    return(x*fact(x - 1))\n",
    "}\n",
    "\n",
    "print(fact(10))\n",
    "# The R version\n",
    "print(factorial(10))"
   ]
  },
  {
   "cell_type": "code",
   "execution_count": null,
   "metadata": {
    "collapsed": true,
    "deletable": true,
    "editable": true
   },
   "outputs": [],
   "source": []
  },
  {
   "cell_type": "markdown",
   "metadata": {
    "deletable": true,
    "editable": true
   },
   "source": [
    "## Lists of functions\n",
    "\n",
    "As previously discussed, R's list type can contain any type, this includes functions."
   ]
  },
  {
   "cell_type": "code",
   "execution_count": 11,
   "metadata": {
    "collapsed": false,
    "deletable": true,
    "editable": true
   },
   "outputs": [
    {
     "name": "stdout",
     "output_type": "stream",
     "text": [
      "$min\n",
      "function (..., na.rm = FALSE)  .Primitive(\"min\")\n",
      "\n",
      "$mean\n",
      "function (x, ...) \n",
      "UseMethod(\"mean\")\n",
      "<bytecode: 0x33aa8d0>\n",
      "<environment: namespace:base>\n",
      "\n",
      "$median\n",
      "function (x, na.rm = FALSE) \n",
      "UseMethod(\"median\")\n",
      "<bytecode: 0x2a832d8>\n",
      "<environment: namespace:stats>\n",
      "\n",
      "$max\n",
      "function (..., na.rm = FALSE)  .Primitive(\"max\")\n",
      "\n",
      "$sd\n",
      "function (x, na.rm = FALSE) \n",
      "sqrt(var(if (is.vector(x) || is.factor(x)) x else as.double(x), \n",
      "    na.rm = na.rm))\n",
      "<bytecode: 0x33ab170>\n",
      "<environment: namespace:stats>\n",
      "\n"
     ]
    }
   ],
   "source": [
    "summ <- list(\"min\" = min,\n",
    "             \"mean\" = mean,\n",
    "             \"median\" = median,\n",
    "             \"max\" = max,\n",
    "              \"sd\" = sd)\n",
    "print(summ)"
   ]
  },
  {
   "cell_type": "markdown",
   "metadata": {
    "deletable": true,
    "editable": true
   },
   "source": [
    "# Exercise 1.14\n",
    "\n",
    "**Question 1**\n",
    "\n",
    "Write a function called `fapply` that takes `funs` as its first parameter, and `x` as its second. The parameter `funs` is a list of functions of arbitrary length and `x` is a numeric vector. The `fapply` function processes `x` with each function and output a list of vectors, each processed with each of the `funs` functions. Now use `fapply` to process `100` numbers generated from the standard normal distribution where `funs` is the `summ` list we generated in the exercise."
   ]
  },
  {
   "cell_type": "code",
   "execution_count": null,
   "metadata": {
    "collapsed": true,
    "deletable": true,
    "editable": true
   },
   "outputs": [],
   "source": []
  },
  {
   "cell_type": "markdown",
   "metadata": {
    "deletable": true,
    "editable": true
   },
   "source": [
    "## Functional programming constructs in R\n"
   ]
  },
  {
   "cell_type": "markdown",
   "metadata": {
    "deletable": true,
    "editable": true
   },
   "source": [
    "Functional programming constructions, `Map`, `Reduce`, `Filter`, `Find`, `Negate`, `Position`, as well as some R variants `lapply`, `sapply`, `vapply`, `mapply`, `apply`, `replicate` and `sweep` are available in R."
   ]
  },
  {
   "cell_type": "markdown",
   "metadata": {
    "deletable": true,
    "editable": true
   },
   "source": [
    "### R's `apply` functions"
   ]
  },
  {
   "cell_type": "markdown",
   "metadata": {
    "deletable": true,
    "editable": true
   },
   "source": [
    "The `lapply` function applies a function to each element of a list or vector. It is called lapply because it returns a list of outputs:"
   ]
  },
  {
   "cell_type": "code",
   "execution_count": 12,
   "metadata": {
    "collapsed": false,
    "deletable": true,
    "editable": true,
    "scrolled": false
   },
   "outputs": [
    {
     "name": "stdout",
     "output_type": "stream",
     "text": [
      "$Sepal.Length\n",
      "[1] 5.843333\n",
      "\n",
      "$Sepal.Width\n",
      "[1] 3.057333\n",
      "\n",
      "$Petal.Length\n",
      "[1] 3.758\n",
      "\n",
      "$Petal.Width\n",
      "[1] 1.199333\n",
      "\n"
     ]
    }
   ],
   "source": [
    "# Apply the mean function to the first four columns of the iris dataset\n",
    "print(lapply(iris[, 1:4], mean))"
   ]
  },
  {
   "cell_type": "markdown",
   "metadata": {
    "deletable": true,
    "editable": true
   },
   "source": [
    "The `sapply` function is exactly the same except that it attempts to simplify the output:"
   ]
  },
  {
   "cell_type": "code",
   "execution_count": 13,
   "metadata": {
    "collapsed": false,
    "deletable": true,
    "editable": true
   },
   "outputs": [
    {
     "name": "stdout",
     "output_type": "stream",
     "text": [
      "Sepal.Length  Sepal.Width Petal.Length  Petal.Width \n",
      "    5.843333     3.057333     3.758000     1.199333 \n"
     ]
    }
   ],
   "source": [
    "# Output is simplyfied to a named list\n",
    "print(sapply(iris[, 1:4], mean))"
   ]
  },
  {
   "cell_type": "markdown",
   "metadata": {
    "deletable": true,
    "editable": true
   },
   "source": [
    "The `vapply` function has a parameter for specifying the output type:"
   ]
  },
  {
   "cell_type": "code",
   "execution_count": 14,
   "metadata": {
    "collapsed": false,
    "deletable": true,
    "editable": true,
    "scrolled": true
   },
   "outputs": [
    {
     "name": "stdout",
     "output_type": "stream",
     "text": [
      "Sepal.Length  Sepal.Width Petal.Length  Petal.Width \n",
      "    5.843333     3.057333     3.758000     1.199333 \n"
     ]
    }
   ],
   "source": [
    "# Specifying parameter output by an actual value\n",
    "print(vapply(iris[, 1:4], mean, 0))"
   ]
  },
  {
   "cell_type": "markdown",
   "metadata": {
    "deletable": true,
    "editable": true
   },
   "source": [
    "Sometimes, you want to apply a function to more than one list of arguments, this is what the `mapply` function is for:"
   ]
  },
  {
   "cell_type": "code",
   "execution_count": 15,
   "metadata": {
    "collapsed": false,
    "deletable": true,
    "editable": true
   },
   "outputs": [
    {
     "name": "stdout",
     "output_type": "stream",
     "text": [
      "          [,1]     [,2]     [,3]\n",
      "[1,] 2.5687555 1.463446 37.79988\n",
      "[2,] 1.0184957 9.053280 34.06894\n",
      "[3,] 2.1298400 5.223695 22.37991\n",
      "[4,] 0.5013421 8.847315 24.90917\n"
     ]
    }
   ],
   "source": [
    "# Sampling normal distributions with different means and variances\n",
    "print(mapply(rnorm, n = list(4, 4, 4), mean = c(2, 10, 30), sd = c(1, 3, 5)))"
   ]
  },
  {
   "cell_type": "markdown",
   "metadata": {
    "deletable": true,
    "editable": true
   },
   "source": [
    "The `replicate` function replicates an expression a specified number of times. It is useful when you don't necessarily need to write a function or process a vector or list:"
   ]
  },
  {
   "cell_type": "code",
   "execution_count": 16,
   "metadata": {
    "collapsed": false,
    "deletable": true,
    "editable": true
   },
   "outputs": [
    {
     "name": "stdout",
     "output_type": "stream",
     "text": [
      " [1] 2.142466 2.120434 2.140203 1.258743 2.460834 2.257963 2.114862 1.734306\n",
      " [9] 1.687769 2.052876\n"
     ]
    }
   ],
   "source": [
    "# Calculate the mean of sampled numbers from a normal distribution\n",
    "#    replicated 10 times ...\n",
    "print(replicate(10, mean(rnorm(100, 2, 4))))"
   ]
  },
  {
   "cell_type": "markdown",
   "metadata": {
    "deletable": true,
    "editable": true
   },
   "source": [
    "The `apply` function applies functions to dimensions of matrices, arrays, and data.frames. ***One easy way of remembering which indicies to aggregate over is that you have to specify the dimensions that you want to keep***:"
   ]
  },
  {
   "cell_type": "code",
   "execution_count": 17,
   "metadata": {
    "collapsed": false,
    "deletable": true,
    "editable": true
   },
   "outputs": [
    {
     "name": "stdout",
     "output_type": "stream",
     "text": [
      "Sepal.Length  Sepal.Width Petal.Length  Petal.Width \n",
      "    5.843333     3.057333     3.758000     1.199333 \n"
     ]
    }
   ],
   "source": [
    "# Take the mean of the columns of the numeric columns of the iris table\n",
    "print(apply(iris[,1:4], 2, mean))"
   ]
  },
  {
   "cell_type": "code",
   "execution_count": 18,
   "metadata": {
    "collapsed": false,
    "deletable": true,
    "editable": true,
    "scrolled": false
   },
   "outputs": [
    {
     "data": {
      "text/plain": [
       ", , Age = Child, Survived = No\n",
       "\n",
       "      Sex\n",
       "Class  Male Female\n",
       "  1st     0      0\n",
       "  2nd     0      0\n",
       "  3rd    35     17\n",
       "  Crew    0      0\n",
       "\n",
       ", , Age = Adult, Survived = No\n",
       "\n",
       "      Sex\n",
       "Class  Male Female\n",
       "  1st   118      4\n",
       "  2nd   154     13\n",
       "  3rd   387     89\n",
       "  Crew  670      3\n",
       "\n",
       ", , Age = Child, Survived = Yes\n",
       "\n",
       "      Sex\n",
       "Class  Male Female\n",
       "  1st     5      1\n",
       "  2nd    11     13\n",
       "  3rd    13     14\n",
       "  Crew    0      0\n",
       "\n",
       ", , Age = Adult, Survived = Yes\n",
       "\n",
       "      Sex\n",
       "Class  Male Female\n",
       "  1st    57    140\n",
       "  2nd    14     80\n",
       "  3rd    75     76\n",
       "  Crew  192     20\n"
      ]
     },
     "metadata": {},
     "output_type": "display_data"
    }
   ],
   "source": [
    "# The titanic data set:\n",
    "Titanic"
   ]
  },
  {
   "cell_type": "code",
   "execution_count": 19,
   "metadata": {
    "collapsed": false,
    "deletable": true,
    "editable": true
   },
   "outputs": [
    {
     "name": "stdout",
     "output_type": "stream",
     "text": [
      "[1] 4 2 2 2\n"
     ]
    }
   ],
   "source": [
    "# The dimensions of the Titanic table\n",
    "print(dim(Titanic))"
   ]
  },
  {
   "cell_type": "code",
   "execution_count": 20,
   "metadata": {
    "collapsed": false,
    "deletable": true,
    "editable": true
   },
   "outputs": [
    {
     "name": "stdout",
     "output_type": "stream",
     "text": [
      "      Sex\n",
      "Class  Male Female\n",
      "  1st    62    141\n",
      "  2nd    25     93\n",
      "  3rd    88     90\n",
      "  Crew  192     20\n"
     ]
    }
   ],
   "source": [
    "# Display the table for all the people that survived\n",
    "print(apply(Titanic[, , , 2], 1:2, sum))"
   ]
  },
  {
   "cell_type": "markdown",
   "metadata": {
    "deletable": true,
    "editable": true
   },
   "source": [
    "The `sweep` function allows statistics to be swept over matrices, and arrays:"
   ]
  },
  {
   "cell_type": "code",
   "execution_count": 1,
   "metadata": {
    "collapsed": false,
    "deletable": true,
    "editable": true
   },
   "outputs": [
    {
     "name": "stdout",
     "output_type": "stream",
     "text": [
      "  Sepal.Length Sepal.Width Petal.Length Petal.Width\n",
      "1   -0.7433333  0.44266667       -2.358  -0.9993333\n",
      "2   -0.9433333 -0.05733333       -2.358  -0.9993333\n",
      "3   -1.1433333  0.14266667       -2.458  -0.9993333\n",
      "4   -1.2433333  0.04266667       -2.258  -0.9993333\n"
     ]
    }
   ],
   "source": [
    "# De-mean the numeric columns of the iris data.frame\n",
    "# displaying only the first four rows\n",
    "print(sweep(iris[1:4,1:4], 2, apply(iris[,1:4], 2, mean), FUN = \"-\"))"
   ]
  },
  {
   "cell_type": "markdown",
   "metadata": {
    "deletable": true,
    "editable": true
   },
   "source": [
    "There are other less common `apply` functions: `eapply` applies a function to each element in an environment, `rapply` is a recursive version of `lapply`, `tapply` applies a function to each element of a ragged array according to a list of factors. The `by` function can also be very useful for applying functions to subsets of a `data.frame`."
   ]
  },
  {
   "cell_type": "markdown",
   "metadata": {
    "deletable": true,
    "editable": true
   },
   "source": [
    "### Familiar functional constructs\n",
    "\n",
    "Familiar functional programming constructs `Map, Reduce, Filter, Position, Negate` functions are also supported by R\n",
    "\n",
    "The `Map` function is similar to `lapply`, it applies a function to lists or vectors. It returns a list"
   ]
  },
  {
   "cell_type": "code",
   "execution_count": 22,
   "metadata": {
    "collapsed": false,
    "deletable": true,
    "editable": true,
    "scrolled": true
   },
   "outputs": [
    {
     "name": "stdout",
     "output_type": "stream",
     "text": [
      "[[1]]\n",
      "[1] 1\n",
      "\n",
      "[[2]]\n",
      "[1] 1.414214\n",
      "\n",
      "[[3]]\n",
      "[1] 1.732051\n",
      "\n",
      "[[4]]\n",
      "[1] 2\n",
      "\n"
     ]
    }
   ],
   "source": [
    "# Simple map example\n",
    "print(Map(sqrt, 1:4))"
   ]
  },
  {
   "cell_type": "code",
   "execution_count": 23,
   "metadata": {
    "collapsed": false,
    "deletable": true,
    "editable": true,
    "scrolled": true
   },
   "outputs": [
    {
     "name": "stdout",
     "output_type": "stream",
     "text": [
      "$setosa\n",
      "Sepal.Length  Sepal.Width Petal.Length  Petal.Width \n",
      "       5.006        3.428        1.462        0.246 \n",
      "\n",
      "$versicolor\n",
      "Sepal.Length  Sepal.Width Petal.Length  Petal.Width \n",
      "       5.936        2.770        4.260        1.326 \n",
      "\n",
      "$virginica\n",
      "Sepal.Length  Sepal.Width Petal.Length  Petal.Width \n",
      "       6.588        2.974        5.552        2.026 \n",
      "\n"
     ]
    }
   ],
   "source": [
    "# A more involved example ...\n",
    "# The split function splits items by a factor and returns a list:\n",
    "section_mean <- Map(function(x)apply(x[, 1:4], 2, mean), split(iris, iris$Species))\n",
    "print(section_mean)"
   ]
  },
  {
   "cell_type": "markdown",
   "metadata": {
    "deletable": true,
    "editable": true
   },
   "source": [
    "The `Reduce` function reduces a list of argument according to a function:"
   ]
  },
  {
   "cell_type": "code",
   "execution_count": 24,
   "metadata": {
    "collapsed": false,
    "deletable": true,
    "editable": true
   },
   "outputs": [
    {
     "name": "stdout",
     "output_type": "stream",
     "text": [
      "[1] 15\n"
     ]
    }
   ],
   "source": [
    "print(Reduce(`+`, as.list(1:5)))"
   ]
  },
  {
   "cell_type": "code",
   "execution_count": 25,
   "metadata": {
    "collapsed": false,
    "deletable": true,
    "editable": true
   },
   "outputs": [
    {
     "name": "stdout",
     "output_type": "stream",
     "text": [
      "     Sepal.Length Sepal.Width Petal.Length Petal.Width\n",
      "init        5.006       3.428        1.462       0.246\n",
      "            5.936       2.770        4.260       1.326\n",
      "            6.588       2.974        5.552       2.026\n"
     ]
    }
   ],
   "source": [
    "print(Reduce(rbind, section_mean))"
   ]
  },
  {
   "cell_type": "code",
   "execution_count": 26,
   "metadata": {
    "collapsed": false,
    "deletable": true,
    "editable": true
   },
   "outputs": [
    {
     "name": "stdout",
     "output_type": "stream",
     "text": [
      "           Sepal.Length Sepal.Width Petal.Length Petal.Width\n",
      "setosa            5.006       3.428        1.462       0.246\n",
      "versicolor        5.936       2.770        4.260       1.326\n",
      "virginica         6.588       2.974        5.552       2.026\n"
     ]
    }
   ],
   "source": [
    "# The do.call function is similar to a Reduce function ...\n",
    "# The rbind function binds tables together by row\n",
    "print(do.call(rbind, section_mean))"
   ]
  },
  {
   "cell_type": "markdown",
   "metadata": {
    "deletable": true,
    "editable": true
   },
   "source": [
    "The filter function allows us to apply filters to vectors using a predicate function:"
   ]
  },
  {
   "cell_type": "code",
   "execution_count": 27,
   "metadata": {
    "collapsed": false,
    "deletable": true,
    "editable": true
   },
   "outputs": [
    {
     "name": "stdout",
     "output_type": "stream",
     "text": [
      " [1]  2  6  4  3  6  2  1  3  7  1  2  7 10 10 10  9 10  5 10  4  5  1  2  9  8\n",
      "[26]  2 10  7 10  7\n"
     ]
    }
   ],
   "source": [
    "x <- sample(1:10, 30, T)\n",
    "print(x)"
   ]
  },
  {
   "cell_type": "code",
   "execution_count": 28,
   "metadata": {
    "collapsed": false,
    "deletable": true,
    "editable": true
   },
   "outputs": [
    {
     "name": "stdout",
     "output_type": "stream",
     "text": [
      " [1] 2 4 3 2 1 3 1 2 4 1 2 2\n"
     ]
    }
   ],
   "source": [
    "# Selects only items that are less than 5\n",
    "print(Filter(function(x)x < 5, x))"
   ]
  },
  {
   "cell_type": "markdown",
   "metadata": {
    "deletable": true,
    "editable": true
   },
   "source": [
    "The `Position` function returns the first or last position of the element that matches the predicate:"
   ]
  },
  {
   "cell_type": "code",
   "execution_count": 29,
   "metadata": {
    "collapsed": false,
    "deletable": true,
    "editable": true
   },
   "outputs": [
    {
     "name": "stdout",
     "output_type": "stream",
     "text": [
      "[1] 18\n"
     ]
    }
   ],
   "source": [
    "# Match the first position where 5 occurs\n",
    "print(Position(function(x) x == 5, x, right = FALSE))"
   ]
  },
  {
   "cell_type": "code",
   "execution_count": 30,
   "metadata": {
    "collapsed": false,
    "deletable": true,
    "editable": true
   },
   "outputs": [
    {
     "name": "stdout",
     "output_type": "stream",
     "text": [
      "[1] 21\n"
     ]
    }
   ],
   "source": [
    "# Match the last position where 5 occurs\n",
    "print(Position(function(x) x == 5, x, right = TRUE))"
   ]
  },
  {
   "cell_type": "markdown",
   "metadata": {
    "deletable": true,
    "editable": true
   },
   "source": [
    "The `Negate` function negates the effect of the given predicte:"
   ]
  },
  {
   "cell_type": "code",
   "execution_count": 31,
   "metadata": {
    "collapsed": false,
    "deletable": true,
    "editable": true
   },
   "outputs": [
    {
     "name": "stdout",
     "output_type": "stream",
     "text": [
      "[1] 2\n"
     ]
    }
   ],
   "source": [
    "# Gets the first element that negates the predicate\n",
    "print(Position(Negate(function(x) x <= 5), x, right = FALSE))"
   ]
  },
  {
   "cell_type": "markdown",
   "metadata": {
    "collapsed": true,
    "deletable": true,
    "editable": true
   },
   "source": [
    "# Exercise 1.15\n",
    "\n",
    "**Question 1**\n",
    "\n",
    "Use the `Filter` function to create a vector from from the `Sepal.Length` column in the `iris` table that has length greater than its mean."
   ]
  },
  {
   "cell_type": "code",
   "execution_count": null,
   "metadata": {
    "collapsed": true,
    "deletable": true,
    "editable": true
   },
   "outputs": [],
   "source": []
  },
  {
   "cell_type": "markdown",
   "metadata": {
    "deletable": true,
    "editable": true
   },
   "source": [
    "**Question 2**\n",
    "\n",
    "Use the `apply` function to obtain the ratio between the passengers that survived and those that did not by `Class` and `Sex` in the `Titanic` dataset. Hint, you'll first need to apply `sum` over indices you want to keep, then divide two remaining sub-arrays by each other to obtain proportions."
   ]
  },
  {
   "cell_type": "code",
   "execution_count": null,
   "metadata": {
    "collapsed": true,
    "deletable": true,
    "editable": true
   },
   "outputs": [],
   "source": []
  },
  {
   "cell_type": "markdown",
   "metadata": {
    "deletable": true,
    "editable": true
   },
   "source": [
    "**Question 3**\n",
    "\n",
    "The `prop.table` function allows you to calculate proportions in count tables. Repeat the calculation in **Question 2** except instead of dividing the two arrays use the `apply` and `prop.table` function to generate proportions. Hint: search R Help for the `prop.table` function you will need to specify indices to take proportions over. First `apply` keeping the `c(1, 2, 4)` dimensions, and then do the prop.table keeping dimensions `c(1, 2)`."
   ]
  },
  {
   "cell_type": "code",
   "execution_count": null,
   "metadata": {
    "collapsed": true,
    "deletable": true,
    "editable": true
   },
   "outputs": [],
   "source": []
  },
  {
   "cell_type": "markdown",
   "metadata": {
    "deletable": true,
    "editable": true
   },
   "source": [
    "**Question 4**\n",
    "\n",
    "Use the `split` function to split the numeric columns of the `iris` dataset by `Species`. Then use the `lapply` function to calculate the covariance matrix (`var`) and the correlation matrix (`cor`) of each sub-table in the list. Hint: you'll need to apply lapply twice, once for the correlation, another for the variance."
   ]
  },
  {
   "cell_type": "code",
   "execution_count": null,
   "metadata": {
    "collapsed": true,
    "deletable": true,
    "editable": true
   },
   "outputs": [],
   "source": [
    "# Check this question!"
   ]
  },
  {
   "cell_type": "markdown",
   "metadata": {
    "deletable": true,
    "editable": true
   },
   "source": [
    "**Question 5**\n",
    "\n",
    "Carry out the same calculations specified in **Question 4** using the `Map` function instead of `lapply`."
   ]
  },
  {
   "cell_type": "code",
   "execution_count": null,
   "metadata": {
    "collapsed": true,
    "deletable": true,
    "editable": true
   },
   "outputs": [],
   "source": []
  },
  {
   "cell_type": "markdown",
   "metadata": {
    "deletable": true,
    "editable": true
   },
   "source": [
    "**Question 6**\n",
    "\n",
    "The function below `bind3` binds two arrays together along the 3rd dimension. Use the `Reduce` function to create a multi-dimensional array by applying the `bind3` function below to the output of **Question 5**."
   ]
  },
  {
   "cell_type": "code",
   "execution_count": null,
   "metadata": {
    "collapsed": true,
    "deletable": true,
    "editable": true
   },
   "outputs": [],
   "source": []
  },
  {
   "cell_type": "code",
   "execution_count": 32,
   "metadata": {
    "collapsed": true,
    "deletable": true,
    "editable": true
   },
   "outputs": [],
   "source": [
    "bind3 <- function(.x, .y)\n",
    "{\n",
    "    .dim <- 3\n",
    "    .dimX <- dim(.x)\n",
    "    .out <- as.vector(c(.x, .y))\n",
    "    if(length(.dimX) < .dim)\n",
    "        dim(.out) <- c(.dimX, 2)\n",
    "    else{\n",
    "        .dimX[3] <- .dimX[3] + 1\n",
    "        dim(.out) <- .dimX\n",
    "    }\n",
    "    return(.out)\n",
    "}"
   ]
  },
  {
   "cell_type": "markdown",
   "metadata": {
    "deletable": true,
    "editable": true
   },
   "source": [
    "## Pipelining/UFCS and magrittr\n",
    "\n",
    "Pipelining functions is part of functional programming style this is accomplished using a construction known as uniform function call syntax (UFCS) that allows the first parameter of a function to be called inserted into by the preceeding item separated by an operator.\n",
    "\n",
    "### User specified operators\n",
    "\n",
    "In R, operators in the form `\"%X%\"` can be created where `\"X\"` is specified by the user. The magrittr package defines a pipeline operator `\"%>%\"` here is a **simplified** version:"
   ]
  },
  {
   "cell_type": "code",
   "execution_count": 33,
   "metadata": {
    "collapsed": true,
    "deletable": true,
    "editable": true
   },
   "outputs": [],
   "source": [
    "# Pipeline operator\n",
    "`%>%` <- function(x, fun)fun(x)"
   ]
  },
  {
   "cell_type": "code",
   "execution_count": 34,
   "metadata": {
    "collapsed": false,
    "deletable": true,
    "editable": true
   },
   "outputs": [
    {
     "data": {
      "image/png": "[encoded data removed]",
      "text/plain": [
       "Plot with title “Histogram of x”"
      ]
     },
     "metadata": {},
     "output_type": "display_data"
    }
   ],
   "source": [
    "options(repr.plot.width = 5, repr.plot.height = 4)\n",
    "# Example plotting a histogram of random generated numbers\n",
    "1E3 %>% runif %>% hist\n",
    "# Standard call\n",
    "# hist(runif(1E3))"
   ]
  },
  {
   "cell_type": "code",
   "execution_count": 35,
   "metadata": {
    "collapsed": true,
    "deletable": true,
    "editable": true
   },
   "outputs": [],
   "source": [
    "rm(`%>%`)"
   ]
  },
  {
   "cell_type": "markdown",
   "metadata": {
    "deletable": true,
    "editable": true
   },
   "source": [
    "Of course `magrittr` offers many more features for instance being able to add arguments to functions. Below we replicate a previous example using `magrittr's` pipe operator. Some say that this style is easier to reason about and clearer."
   ]
  },
  {
   "cell_type": "code",
   "execution_count": 36,
   "metadata": {
    "collapsed": false,
    "deletable": true,
    "editable": true
   },
   "outputs": [
    {
     "name": "stderr",
     "output_type": "stream",
     "text": [
      "Loading required package: magrittr\n"
     ]
    }
   ],
   "source": [
    "require(magrittr)"
   ]
  },
  {
   "cell_type": "code",
   "execution_count": 37,
   "metadata": {
    "collapsed": false,
    "deletable": true,
    "editable": true
   },
   "outputs": [
    {
     "name": "stdout",
     "output_type": "stream",
     "text": [
      "$setosa\n",
      "Sepal.Length  Sepal.Width Petal.Length  Petal.Width \n",
      "       5.006        3.428        1.462        0.246 \n",
      "\n",
      "$versicolor\n",
      "Sepal.Length  Sepal.Width Petal.Length  Petal.Width \n",
      "       5.936        2.770        4.260        1.326 \n",
      "\n",
      "$virginica\n",
      "Sepal.Length  Sepal.Width Petal.Length  Petal.Width \n",
      "       6.588        2.974        5.552        2.026 \n",
      "\n"
     ]
    }
   ],
   "source": [
    "section_mean <- iris %>% split(., iris$Species) %>% \n",
    "                   Map(function(x)apply(x[,1:4], 2, mean), .)\n",
    "section_mean %>% print"
   ]
  },
  {
   "cell_type": "markdown",
   "metadata": {
    "deletable": true,
    "editable": true
   },
   "source": [
    "# Exercise 1.16\n",
    "\n",
    "Repeat all of exercises 1.15 using `magrittr's` pipe operator."
   ]
  },
  {
   "cell_type": "code",
   "execution_count": null,
   "metadata": {
    "collapsed": true,
    "deletable": true,
    "editable": true
   },
   "outputs": [],
   "source": []
  }
 ],
 "metadata": {
  "kernelspec": {
   "display_name": "R 3.3",
   "language": "R",
   "name": "ir33"
  },
  "language_info": {
   "codemirror_mode": "r",
   "file_extension": ".r",
   "mimetype": "text/x-r-source",
   "name": "R",
   "pygments_lexer": "r",
   "version": "3.3.3"
  }
 },
 "nbformat": 4,
 "nbformat_minor": 2
}
