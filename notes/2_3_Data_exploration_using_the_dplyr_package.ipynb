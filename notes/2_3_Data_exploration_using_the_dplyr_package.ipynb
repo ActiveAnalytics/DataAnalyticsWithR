{
 "cells": [
  {
   "cell_type": "markdown",
   "metadata": {
    "deletable": true,
    "editable": true
   },
   "source": [
    "# Data exploration using the `dplyr` package"
   ]
  },
  {
   "cell_type": "code",
   "execution_count": 1,
   "metadata": {
    "collapsed": false,
    "deletable": true,
    "editable": true,
    "scrolled": true
   },
   "outputs": [
    {
     "name": "stderr",
     "output_type": "stream",
     "text": [
      "Loading required package: dplyr\n",
      "\n",
      "Attaching package: ‘dplyr’\n",
      "\n",
      "The following objects are masked from ‘package:stats’:\n",
      "\n",
      "    filter, lag\n",
      "\n",
      "The following objects are masked from ‘package:base’:\n",
      "\n",
      "    intersect, setdiff, setequal, union\n",
      "\n"
     ]
    }
   ],
   "source": [
    "# Load the dplyr package\n",
    "require(dplyr)"
   ]
  },
  {
   "cell_type": "code",
   "execution_count": 2,
   "metadata": {
    "collapsed": false,
    "deletable": true,
    "editable": true
   },
   "outputs": [
    {
     "name": "stdout",
     "output_type": "stream",
     "text": [
      "  Id MSSubClass MSZoning LotFrontage LotArea Street Alley LotShape LandContour\n",
      "1  1         60       RL          65    8450   Pave  <NA>      Reg         Lvl\n",
      "2  2         20       RL          80    9600   Pave  <NA>      Reg         Lvl\n",
      "  Utilities LotConfig LandSlope Neighborhood Condition1 Condition2 BldgType\n",
      "1    AllPub    Inside       Gtl      CollgCr       Norm       Norm     1Fam\n",
      "2    AllPub       FR2       Gtl      Veenker      Feedr       Norm     1Fam\n",
      "  HouseStyle OverallQual OverallCond YearBuilt YearRemodAdd RoofStyle RoofMatl\n",
      "1     2Story           7           5      2003         2003     Gable  CompShg\n",
      "2     1Story           6           8      1976         1976     Gable  CompShg\n",
      "  Exterior1st Exterior2nd MasVnrType MasVnrArea ExterQual ExterCond Foundation\n",
      "1     VinylSd     VinylSd    BrkFace        196        Gd        TA      PConc\n",
      "2     MetalSd     MetalSd       None          0        TA        TA     CBlock\n",
      "  BsmtQual BsmtCond BsmtExposure BsmtFinType1 BsmtFinSF1 BsmtFinType2\n",
      "1       Gd       TA           No          GLQ        706          Unf\n",
      "2       Gd       TA           Gd          ALQ        978          Unf\n",
      "  BsmtFinSF2 BsmtUnfSF TotalBsmtSF Heating HeatingQC CentralAir Electrical\n",
      "1          0       150         856    GasA        Ex          Y      SBrkr\n",
      "2          0       284        1262    GasA        Ex          Y      SBrkr\n",
      "  X1stFlrSF X2ndFlrSF LowQualFinSF GrLivArea BsmtFullBath BsmtHalfBath FullBath\n",
      "1       856       854            0      1710            1            0        2\n",
      "2      1262         0            0      1262            0            1        2\n",
      "  HalfBath BedroomAbvGr KitchenAbvGr KitchenQual TotRmsAbvGrd Functional\n",
      "1        1            3            1          Gd            8        Typ\n",
      "2        0            3            1          TA            6        Typ\n",
      "  Fireplaces FireplaceQu GarageType GarageYrBlt GarageFinish GarageCars\n",
      "1          0        <NA>     Attchd        2003          RFn          2\n",
      "2          1          TA     Attchd        1976          RFn          2\n",
      "  GarageArea GarageQual GarageCond PavedDrive WoodDeckSF OpenPorchSF\n",
      "1        548         TA         TA          Y          0          61\n",
      "2        460         TA         TA          Y        298           0\n",
      "  EnclosedPorch X3SsnPorch ScreenPorch PoolArea PoolQC Fence MiscFeature\n",
      "1             0          0           0        0   <NA>  <NA>        <NA>\n",
      "2             0          0           0        0   <NA>  <NA>        <NA>\n",
      "  MiscVal MoSold YrSold SaleType SaleCondition SalePrice\n",
      "1       0      2   2008       WD        Normal    208500\n",
      "2       0      5   2007       WD        Normal    181500\n"
     ]
    }
   ],
   "source": [
    "# Load the house prices data\n",
    "house <- read.csv(\"../data/houseprices/train.csv\")\n",
    "print(house[1:2,])"
   ]
  },
  {
   "cell_type": "code",
   "execution_count": 3,
   "metadata": {
    "collapsed": false,
    "deletable": true,
    "editable": true
   },
   "outputs": [
    {
     "name": "stdout",
     "output_type": "stream",
     "text": [
      "  Id MSSubClass MSZoning LotFrontage LotArea Street Alley LotShape LandContour\n",
      "1  2         20       RL          80    9600   Pave  <NA>      Reg         Lvl\n",
      "2  3         60       RL          68   11250   Pave  <NA>      IR1         Lvl\n",
      "  Utilities LotConfig LandSlope Neighborhood Condition1 Condition2 BldgType\n",
      "1    AllPub       FR2       Gtl      Veenker      Feedr       Norm     1Fam\n",
      "2    AllPub    Inside       Gtl      CollgCr       Norm       Norm     1Fam\n",
      "  HouseStyle OverallQual OverallCond YearBuilt YearRemodAdd RoofStyle RoofMatl\n",
      "1     1Story           6           8      1976         1976     Gable  CompShg\n",
      "2     2Story           7           5      2001         2002     Gable  CompShg\n",
      "  Exterior1st Exterior2nd MasVnrType MasVnrArea ExterQual ExterCond Foundation\n",
      "1     MetalSd     MetalSd       None          0        TA        TA     CBlock\n",
      "2     VinylSd     VinylSd    BrkFace        162        Gd        TA      PConc\n",
      "  BsmtQual BsmtCond BsmtExposure BsmtFinType1 BsmtFinSF1 BsmtFinType2\n",
      "1       Gd       TA           Gd          ALQ        978          Unf\n",
      "2       Gd       TA           Mn          GLQ        486          Unf\n",
      "  BsmtFinSF2 BsmtUnfSF TotalBsmtSF Heating HeatingQC CentralAir Electrical\n",
      "1          0       284        1262    GasA        Ex          Y      SBrkr\n",
      "2          0       434         920    GasA        Ex          Y      SBrkr\n",
      "  X1stFlrSF X2ndFlrSF LowQualFinSF GrLivArea BsmtFullBath BsmtHalfBath FullBath\n",
      "1      1262         0            0      1262            0            1        2\n",
      "2       920       866            0      1786            1            0        2\n",
      "  HalfBath BedroomAbvGr KitchenAbvGr KitchenQual TotRmsAbvGrd Functional\n",
      "1        0            3            1          TA            6        Typ\n",
      "2        1            3            1          Gd            6        Typ\n",
      "  Fireplaces FireplaceQu GarageType GarageYrBlt GarageFinish GarageCars\n",
      "1          1          TA     Attchd        1976          RFn          2\n",
      "2          1          TA     Attchd        2001          RFn          2\n",
      "  GarageArea GarageQual GarageCond PavedDrive WoodDeckSF OpenPorchSF\n",
      "1        460         TA         TA          Y        298           0\n",
      "2        608         TA         TA          Y          0          42\n",
      "  EnclosedPorch X3SsnPorch ScreenPorch PoolArea PoolQC Fence MiscFeature\n",
      "1             0          0           0        0   <NA>  <NA>        <NA>\n",
      "2             0          0           0        0   <NA>  <NA>        <NA>\n",
      "  MiscVal MoSold YrSold SaleType SaleCondition SalePrice\n",
      "1       0      5   2007       WD        Normal    181500\n",
      "2       0      9   2008       WD        Normal    223500\n"
     ]
    }
   ],
   "source": [
    "# Subsetting using the filter function\n",
    "print(filter(house, SaleCondition == \"Normal\", Fireplaces == 1, SalePrice > 18000)[1:2,])"
   ]
  },
  {
   "cell_type": "code",
   "execution_count": 4,
   "metadata": {
    "collapsed": false,
    "deletable": true,
    "editable": true
   },
   "outputs": [
    {
     "name": "stdout",
     "output_type": "stream",
     "text": [
      "  Id MSSubClass MSZoning LotFrontage LotArea Street Alley LotShape LandContour\n",
      "1  2         20       RL          80    9600   Pave  <NA>      Reg         Lvl\n",
      "2  3         60       RL          68   11250   Pave  <NA>      IR1         Lvl\n",
      "  Utilities LotConfig LandSlope Neighborhood Condition1 Condition2 BldgType\n",
      "1    AllPub       FR2       Gtl      Veenker      Feedr       Norm     1Fam\n",
      "2    AllPub    Inside       Gtl      CollgCr       Norm       Norm     1Fam\n",
      "  HouseStyle OverallQual OverallCond YearBuilt YearRemodAdd RoofStyle RoofMatl\n",
      "1     1Story           6           8      1976         1976     Gable  CompShg\n",
      "2     2Story           7           5      2001         2002     Gable  CompShg\n",
      "  Exterior1st Exterior2nd MasVnrType MasVnrArea ExterQual ExterCond Foundation\n",
      "1     MetalSd     MetalSd       None          0        TA        TA     CBlock\n",
      "2     VinylSd     VinylSd    BrkFace        162        Gd        TA      PConc\n",
      "  BsmtQual BsmtCond BsmtExposure BsmtFinType1 BsmtFinSF1 BsmtFinType2\n",
      "1       Gd       TA           Gd          ALQ        978          Unf\n",
      "2       Gd       TA           Mn          GLQ        486          Unf\n",
      "  BsmtFinSF2 BsmtUnfSF TotalBsmtSF Heating HeatingQC CentralAir Electrical\n",
      "1          0       284        1262    GasA        Ex          Y      SBrkr\n",
      "2          0       434         920    GasA        Ex          Y      SBrkr\n",
      "  X1stFlrSF X2ndFlrSF LowQualFinSF GrLivArea BsmtFullBath BsmtHalfBath FullBath\n",
      "1      1262         0            0      1262            0            1        2\n",
      "2       920       866            0      1786            1            0        2\n",
      "  HalfBath BedroomAbvGr KitchenAbvGr KitchenQual TotRmsAbvGrd Functional\n",
      "1        0            3            1          TA            6        Typ\n",
      "2        1            3            1          Gd            6        Typ\n",
      "  Fireplaces FireplaceQu GarageType GarageYrBlt GarageFinish GarageCars\n",
      "1          1          TA     Attchd        1976          RFn          2\n",
      "2          1          TA     Attchd        2001          RFn          2\n",
      "  GarageArea GarageQual GarageCond PavedDrive WoodDeckSF OpenPorchSF\n",
      "1        460         TA         TA          Y        298           0\n",
      "2        608         TA         TA          Y          0          42\n",
      "  EnclosedPorch X3SsnPorch ScreenPorch PoolArea PoolQC Fence MiscFeature\n",
      "1             0          0           0        0   <NA>  <NA>        <NA>\n",
      "2             0          0           0        0   <NA>  <NA>        <NA>\n",
      "  MiscVal MoSold YrSold SaleType SaleCondition SalePrice\n",
      "1       0      5   2007       WD        Normal    181500\n",
      "2       0      9   2008       WD        Normal    223500\n"
     ]
    }
   ],
   "source": [
    "# You can also use boolean operators\n",
    "print(filter(house, SaleCondition == \"Normal\" & Fireplaces == 1 & SalePrice > 18000)[1:2,])"
   ]
  },
  {
   "cell_type": "code",
   "execution_count": 5,
   "metadata": {
    "collapsed": false,
    "deletable": true,
    "editable": true
   },
   "outputs": [
    {
     "name": "stdout",
     "output_type": "stream",
     "text": [
      "  Id MSSubClass MSZoning LotFrontage LotArea\n",
      "1  1         60       RL          65    8450\n",
      "2  2         20       RL          80    9600\n",
      "3  3         60       RL          68   11250\n",
      "4  4         70       RL          60    9550\n"
     ]
    }
   ],
   "source": [
    "# Select rows using the slice operator:\n",
    "print(slice(house[,1:5], 1:4))"
   ]
  },
  {
   "cell_type": "code",
   "execution_count": 6,
   "metadata": {
    "collapsed": false,
    "deletable": true,
    "editable": true
   },
   "outputs": [
    {
     "name": "stdout",
     "output_type": "stream",
     "text": [
      "    Id MSSubClass MSZoning LotFrontage LotArea Street Alley LotShape\n",
      "1  692         60       RL         104   21535   Pave  <NA>      IR1\n",
      "2 1183         60       RL         160   15623   Pave  <NA>      IR1\n",
      "  LandContour Utilities LotConfig LandSlope Neighborhood Condition1 Condition2\n",
      "1         Lvl    AllPub    Corner       Gtl      NoRidge       Norm       Norm\n",
      "2         Lvl    AllPub    Corner       Gtl      NoRidge       Norm       Norm\n",
      "  BldgType HouseStyle OverallQual OverallCond YearBuilt YearRemodAdd RoofStyle\n",
      "1     1Fam     2Story          10           6      1994         1995     Gable\n",
      "2     1Fam     2Story          10           5      1996         1996       Hip\n",
      "  RoofMatl Exterior1st Exterior2nd MasVnrType MasVnrArea ExterQual ExterCond\n",
      "1  WdShngl     HdBoard     HdBoard    BrkFace       1170        Ex        TA\n",
      "2  CompShg     Wd Sdng     ImStucc       None          0        Gd        TA\n",
      "  Foundation BsmtQual BsmtCond BsmtExposure BsmtFinType1 BsmtFinSF1\n",
      "1      PConc       Ex       TA           Gd          GLQ       1455\n",
      "2      PConc       Ex       TA           Av          GLQ       2096\n",
      "  BsmtFinType2 BsmtFinSF2 BsmtUnfSF TotalBsmtSF Heating HeatingQC CentralAir\n",
      "1          Unf          0       989        2444    GasA        Ex          Y\n",
      "2          Unf          0       300        2396    GasA        Ex          Y\n",
      "  Electrical X1stFlrSF X2ndFlrSF LowQualFinSF GrLivArea BsmtFullBath\n",
      "1      SBrkr      2444      1872            0      4316            0\n",
      "2      SBrkr      2411      2065            0      4476            1\n",
      "  BsmtHalfBath FullBath HalfBath BedroomAbvGr KitchenAbvGr KitchenQual\n",
      "1            1        3        1            4            1          Ex\n",
      "2            0        3        1            4            1          Ex\n",
      "  TotRmsAbvGrd Functional Fireplaces FireplaceQu GarageType GarageYrBlt\n",
      "1           10        Typ          2          Ex     Attchd        1994\n",
      "2           10        Typ          2          TA     Attchd        1996\n",
      "  GarageFinish GarageCars GarageArea GarageQual GarageCond PavedDrive\n",
      "1          Fin          3        832         TA         TA          Y\n",
      "2          Fin          3        813         TA         TA          Y\n",
      "  WoodDeckSF OpenPorchSF EnclosedPorch X3SsnPorch ScreenPorch PoolArea PoolQC\n",
      "1        382          50             0          0           0        0   <NA>\n",
      "2        171          78             0          0           0      555     Ex\n",
      "  Fence MiscFeature MiscVal MoSold YrSold SaleType SaleCondition SalePrice\n",
      "1  <NA>        <NA>       0      1   2007       WD        Normal    755000\n",
      "2 MnPrv        <NA>       0      7   2007       WD       Abnorml    745000\n"
     ]
    }
   ],
   "source": [
    "# Sorting the rows of the table\n",
    "# Use of the desc function to denote decsending order\n",
    "print(arrange(house, -SalePrice, desc(LotArea))[1:2,])"
   ]
  },
  {
   "cell_type": "code",
   "execution_count": 7,
   "metadata": {
    "collapsed": false,
    "deletable": true,
    "editable": true
   },
   "outputs": [
    {
     "name": "stdout",
     "output_type": "stream",
     "text": [
      "  SalePrice Heating YrSold\n",
      "1    208500    GasA   2008\n",
      "2    181500    GasA   2007\n"
     ]
    }
   ],
   "source": [
    "# Select columns by name\n",
    "print(select(house, SalePrice, Heating, YrSold)[1:2,])"
   ]
  },
  {
   "cell_type": "code",
   "execution_count": 8,
   "metadata": {
    "collapsed": false,
    "deletable": true,
    "editable": true
   },
   "outputs": [
    {
     "name": "stdout",
     "output_type": "stream",
     "text": [
      "  Condition1\n",
      "1       Norm\n",
      "2      Feedr\n",
      "3       PosN\n",
      "4     Artery\n",
      "5       RRAe\n",
      "6       RRNn\n",
      "7       RRAn\n",
      "8       PosA\n",
      "9       RRNe\n"
     ]
    }
   ],
   "source": [
    "# Select unique values using the distinct function\n",
    "print(distinct(house, Condition1))"
   ]
  },
  {
   "cell_type": "code",
   "execution_count": 9,
   "metadata": {
    "collapsed": false,
    "deletable": true,
    "editable": true
   },
   "outputs": [
    {
     "name": "stdout",
     "output_type": "stream",
     "text": [
      "   Condition1 Condition2\n",
      "1        Norm       Norm\n",
      "2       Feedr       Norm\n",
      "3        PosN       Norm\n",
      "4      Artery       Norm\n",
      "5      Artery     Artery\n",
      "6        RRAe       Norm\n",
      "7       Feedr       RRNn\n",
      "8        RRNn       Norm\n",
      "9        RRAn      Feedr\n",
      "10       PosA       Norm\n",
      "11      Feedr      Feedr\n",
      "12       RRAn       Norm\n",
      "13       RRNe       Norm\n",
      "14       PosN       PosN\n",
      "15       RRNn      Feedr\n",
      "16     Artery       PosA\n",
      "17      Feedr       RRAn\n",
      "18      Feedr       RRAe\n"
     ]
    }
   ],
   "source": [
    "print(distinct(house, Condition1, Condition2))"
   ]
  },
  {
   "cell_type": "code",
   "execution_count": null,
   "metadata": {
    "collapsed": true,
    "deletable": true,
    "editable": true
   },
   "outputs": [],
   "source": []
  },
  {
   "cell_type": "code",
   "execution_count": 10,
   "metadata": {
    "collapsed": false,
    "deletable": true,
    "editable": true,
    "scrolled": false
   },
   "outputs": [
    {
     "name": "stdout",
     "output_type": "stream",
     "text": [
      "  Id Heating LotArea price_unit_area perc_garage\n",
      "1  1    GasA    8450        24.67456  0.06485207\n",
      "2  2    GasA    9600        18.90625  0.04791667\n",
      "3  3    GasA   11250        19.86667  0.05404444\n"
     ]
    }
   ],
   "source": [
    "print(mutate(house, price_unit_area = SalePrice/LotArea, perc_garage = GarageArea/LotArea)[1:3, \n",
    "                                     c(\"Id\", \"Heating\", \"LotArea\", \"price_unit_area\", \"perc_garage\")])"
   ]
  },
  {
   "cell_type": "code",
   "execution_count": 11,
   "metadata": {
    "collapsed": false,
    "deletable": true,
    "editable": true
   },
   "outputs": [
    {
     "name": "stdout",
     "output_type": "stream",
     "text": [
      "  price_unit_area perc_garage\n",
      "1        24.67456  0.06485207\n",
      "2        18.90625  0.04791667\n",
      "3        19.86667  0.05404444\n",
      "4        14.65969  0.06722513\n"
     ]
    }
   ],
   "source": [
    "# Tranmute keeps only the new variables\n",
    "print(transmute(house, price_unit_area = SalePrice/LotArea, perc_garage = GarageArea/LotArea)[1:4,])"
   ]
  },
  {
   "cell_type": "code",
   "execution_count": 12,
   "metadata": {
    "collapsed": false,
    "deletable": true,
    "editable": true
   },
   "outputs": [
    {
     "name": "stdout",
     "output_type": "stream",
     "text": [
      "  mean_price median_price\n",
      "1   180921.2       163000\n"
     ]
    }
   ],
   "source": [
    "# Summarise data ...\n",
    "print(summarise(house, mean_price = mean(SalePrice), median_price = median(SalePrice)))"
   ]
  },
  {
   "cell_type": "code",
   "execution_count": 13,
   "metadata": {
    "collapsed": false,
    "deletable": true,
    "editable": true
   },
   "outputs": [
    {
     "name": "stdout",
     "output_type": "stream",
     "text": [
      "       Id MSSubClass MSZoning LotFrontage LotArea\n",
      "138   138         90       RL          82   11070\n",
      "1186 1186         50       RL          60    9738\n",
      "21     21         60       RL         101   14215\n"
     ]
    }
   ],
   "source": [
    "# Sample data by number of observations ...\n",
    "print(sample_n(house[, 1:5], 3))"
   ]
  },
  {
   "cell_type": "code",
   "execution_count": 14,
   "metadata": {
    "collapsed": false,
    "deletable": true,
    "editable": true
   },
   "outputs": [
    {
     "name": "stdout",
     "output_type": "stream",
     "text": [
      "       Id MSSubClass MSZoning LotFrontage LotArea\n",
      "369   369         20       RL          78    7800\n",
      "1023 1023         50       RM          52    9439\n",
      "594   594        120       RM          NA    4435\n",
      "1247 1247         60       FV          65    8125\n",
      "1231 1231         90       RL          NA   18890\n",
      "349   349        160       RL          36    2448\n",
      "413   413         20       FV          NA    4403\n"
     ]
    }
   ],
   "source": [
    "# Sample data by fraction\n",
    "print(sample_frac(house[,1:5], 0.005))"
   ]
  },
  {
   "cell_type": "code",
   "execution_count": 15,
   "metadata": {
    "collapsed": false,
    "deletable": true,
    "editable": true,
    "scrolled": true
   },
   "outputs": [
    {
     "name": "stdout",
     "output_type": "stream",
     "text": [
      "Source: local data frame [6 x 3]\n",
      "Groups: MSZoning, SaleCondition, Heating [2]\n",
      "\n",
      "  MSZoning SaleCondition Heating\n",
      "    <fctr>        <fctr>  <fctr>\n",
      "1       RL        Normal    GasA\n",
      "2       RL        Normal    GasA\n",
      "3       RL        Normal    GasA\n",
      "4       RL       Abnorml    GasA\n",
      "5       RL        Normal    GasA\n",
      "6       RL        Normal    GasA\n"
     ]
    }
   ],
   "source": [
    "# Create grouping data object\n",
    "grouping <- group_by(house[, c(\"MSZoning\", \"SaleCondition\", \"Heating\")], MSZoning, SaleCondition, Heating)\n",
    "print(grouping[1:6,])"
   ]
  },
  {
   "cell_type": "code",
   "execution_count": 16,
   "metadata": {
    "collapsed": false,
    "deletable": true,
    "editable": true
   },
   "outputs": [
    {
     "name": "stdout",
     "output_type": "stream",
     "text": [
      "Source: local data frame [6 x 4]\n",
      "Groups: MSZoning, SaleCondition [5]\n",
      "\n",
      "  MSZoning SaleCondition Heating Count\n",
      "    <fctr>        <fctr>  <fctr> <int>\n",
      "1  C (all)       Abnorml    GasA     5\n",
      "2  C (all)        Alloca    GasA     1\n",
      "3  C (all)        Normal    GasA     3\n",
      "4  C (all)        Normal    GasW     1\n",
      "5       FV       Abnorml    GasA     4\n",
      "6       FV        Normal    GasA    39\n"
     ]
    }
   ],
   "source": [
    "# Use the groupings to generate frequency of each group\n",
    "print(summarise(grouping, Count = n())[1:6,])"
   ]
  },
  {
   "cell_type": "markdown",
   "metadata": {
    "deletable": true,
    "editable": true
   },
   "source": [
    "# Exercise 2.3\n",
    "\n",
    "**Question 1**\n",
    "\n",
    "Load `\"loan.csv\"` into a data.frame called `loan`. Use the `filter` function from the `dplyr` package to filter `Gender` `female`, `age` greater than or equal to `30` `Principal` less than or equal to `1000` using a logical statement and then using comma notation."
   ]
  },
  {
   "cell_type": "code",
   "execution_count": null,
   "metadata": {
    "collapsed": true,
    "deletable": true,
    "editable": true
   },
   "outputs": [],
   "source": []
  },
  {
   "cell_type": "markdown",
   "metadata": {
    "deletable": true,
    "editable": true
   },
   "source": [
    "**Question 2**\n",
    "\n",
    "Use the `slice` function to select rows `300` to `350`."
   ]
  },
  {
   "cell_type": "code",
   "execution_count": null,
   "metadata": {
    "collapsed": true,
    "deletable": true,
    "editable": true
   },
   "outputs": [],
   "source": []
  },
  {
   "cell_type": "markdown",
   "metadata": {
    "deletable": true,
    "editable": true
   },
   "source": [
    "**Question 3**\n",
    "\n",
    "Use the `arrange` function to sort the `loan` data.frame by increasing `age`, increasing `Principal`, decreasing `terms`."
   ]
  },
  {
   "cell_type": "code",
   "execution_count": null,
   "metadata": {
    "collapsed": true,
    "deletable": true,
    "editable": true
   },
   "outputs": [],
   "source": []
  },
  {
   "cell_type": "markdown",
   "metadata": {
    "deletable": true,
    "editable": true
   },
   "source": [
    "**Question 4**\n",
    "\n",
    "Use the `select` function to select `loan_status`, `Principal`, `terms`, `age`, and `Gender` from the `loan` data."
   ]
  },
  {
   "cell_type": "code",
   "execution_count": null,
   "metadata": {
    "collapsed": true,
    "deletable": true,
    "editable": true
   },
   "outputs": [],
   "source": []
  },
  {
   "cell_type": "markdown",
   "metadata": {
    "deletable": true,
    "editable": true
   },
   "source": [
    "**Question 5**\n",
    "\n",
    "Use the `distinct` function to select the unique combination of `Gender`, `education`, and `loan_status` from the `loan` dataset."
   ]
  },
  {
   "cell_type": "code",
   "execution_count": null,
   "metadata": {
    "collapsed": true,
    "deletable": true,
    "editable": true
   },
   "outputs": [],
   "source": []
  },
  {
   "cell_type": "markdown",
   "metadata": {
    "deletable": true,
    "editable": true
   },
   "source": [
    "**Question 6**\n",
    "\n",
    "Use the `group_by`, `summarise`, and `n` functions to create the counts of the combination of `Gender`, `education`, and `loan_status` in the `loan` dataset."
   ]
  },
  {
   "cell_type": "code",
   "execution_count": null,
   "metadata": {
    "collapsed": true,
    "deletable": true,
    "editable": true
   },
   "outputs": [],
   "source": []
  },
  {
   "cell_type": "markdown",
   "metadata": {
    "deletable": true,
    "editable": true
   },
   "source": [
    "**Question 7**\n",
    "\n",
    "Use the mutate function to calculate the `p.t = Principal/terms` in the `loan` table dataset."
   ]
  },
  {
   "cell_type": "code",
   "execution_count": null,
   "metadata": {
    "collapsed": true,
    "deletable": true,
    "editable": true
   },
   "outputs": [],
   "source": []
  }
 ],
 "metadata": {
  "kernelspec": {
   "display_name": "R 3.3",
   "language": "R",
   "name": "ir33"
  },
  "language_info": {
   "codemirror_mode": "r",
   "file_extension": ".r",
   "mimetype": "text/x-r-source",
   "name": "R",
   "pygments_lexer": "r",
   "version": "3.3.3"
  }
 },
 "nbformat": 4,
 "nbformat_minor": 2
}
