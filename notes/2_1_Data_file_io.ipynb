{
 "cells": [
  {
   "cell_type": "markdown",
   "metadata": {
    "deletable": true,
    "editable": true
   },
   "source": [
    "# Data file I/O\n",
    "\n",
    "R has native functions for reading and writing files: `read.table, write.table, read.csv, write.csv, save, load, readRDS, saveRDS, readLines, writeLines`, `scan`."
   ]
  },
  {
   "cell_type": "markdown",
   "metadata": {
    "deletable": true,
    "editable": true
   },
   "source": [
    "The `read.table`, and `write.table` functions are the workhorse text file i/o functions in R and `read.csv` and `write.csv` are based on these."
   ]
  },
  {
   "cell_type": "code",
   "execution_count": 25,
   "metadata": {
    "collapsed": false,
    "deletable": true,
    "editable": true
   },
   "outputs": [],
   "source": [
    "# Write iris table in tab-separated format\n",
    "write.table(iris, file = \"iris.tsv\", sep = \"\\t\", \n",
    "            row.names = FALSE, col.names = TRUE)"
   ]
  },
  {
   "cell_type": "code",
   "execution_count": 26,
   "metadata": {
    "collapsed": false,
    "deletable": true,
    "editable": true
   },
   "outputs": [
    {
     "name": "stdout",
     "output_type": "stream",
     "text": [
      "  Sepal.Length Sepal.Width Petal.Length Petal.Width Species\n",
      "1          5.1         3.5          1.4         0.2  setosa\n",
      "2          4.9         3.0          1.4         0.2  setosa\n",
      "3          4.7         3.2          1.3         0.2  setosa\n",
      "4          4.6         3.1          1.5         0.2  setosa\n",
      "5          5.0         3.6          1.4         0.2  setosa\n",
      "6          5.4         3.9          1.7         0.4  setosa\n"
     ]
    }
   ],
   "source": [
    "read.table(\"iris.tsv\", sep = \"\\t\", header = TRUE)[1:6,] -> hi\n",
    "print(ih)"
   ]
  },
  {
   "cell_type": "markdown",
   "metadata": {
    "deletable": true,
    "editable": true
   },
   "source": [
    "Columns containing strings are auto-converted to `factor` variables by R when reading the data in or creating dataframes. This behaviour can be adjusted using the `options` function."
   ]
  },
  {
   "cell_type": "code",
   "execution_count": 27,
   "metadata": {
    "collapsed": false,
    "deletable": true,
    "editable": true
   },
   "outputs": [
    {
     "data": {
      "text/html": [
       "'factor'"
      ],
      "text/latex": [
       "'factor'"
      ],
      "text/markdown": [
       "'factor'"
      ],
      "text/plain": [
       "[1] \"factor\""
      ]
     },
     "metadata": {},
     "output_type": "display_data"
    }
   ],
   "source": [
    "# Species is a factor\n",
    "class(ih$Species)"
   ]
  },
  {
   "cell_type": "code",
   "execution_count": 28,
   "metadata": {
    "collapsed": false,
    "deletable": true,
    "editable": true
   },
   "outputs": [
    {
     "name": "stdout",
     "output_type": "stream",
     "text": [
      "$stringsAsFactors\n",
      "[1] FALSE\n",
      "\n"
     ]
    }
   ],
   "source": [
    "# View the stirngsAsFactors option:\n",
    "print(options(\"stringsAsFactors\"))"
   ]
  },
  {
   "cell_type": "code",
   "execution_count": 22,
   "metadata": {
    "collapsed": false,
    "deletable": true,
    "editable": true
   },
   "outputs": [],
   "source": [
    "# Adjust to retain string format\n",
    "options(\"stringsAsFactors\" = FALSE)"
   ]
  },
  {
   "cell_type": "code",
   "execution_count": 29,
   "metadata": {
    "collapsed": false,
    "deletable": true,
    "editable": true,
    "scrolled": true
   },
   "outputs": [
    {
     "data": {
      "text/html": [
       "'character'"
      ],
      "text/latex": [
       "'character'"
      ],
      "text/markdown": [
       "'character'"
      ],
      "text/plain": [
       "[1] \"character\""
      ]
     },
     "metadata": {},
     "output_type": "display_data"
    }
   ],
   "source": [
    "# Now strings are read as character\n",
    "class(read.table(\"iris.tsv\", sep = \"\\t\", header = TRUE)$Species)"
   ]
  },
  {
   "cell_type": "code",
   "execution_count": 30,
   "metadata": {
    "collapsed": true,
    "deletable": true,
    "editable": true
   },
   "outputs": [],
   "source": [
    "# Reset to default\n",
    "options(\"stringsAsFactors\" = TRUE)"
   ]
  },
  {
   "cell_type": "markdown",
   "metadata": {
    "deletable": true,
    "editable": true
   },
   "source": [
    "# Exercise 2.1\n",
    "\n",
    "**Question 1**\n",
    "\n",
    "The `read.csv` and `write.csv` are functions for CSV file i/o and are based on `read.table` and `write.table`. Use the `write.csv` function to write the last 20 rows of the `iris` dataset to file `\"ir.csv\"` and then use the `read.csv` function to read them back into a data frame. Hint: use R's help to search the functions usage."
   ]
  },
  {
   "cell_type": "code",
   "execution_count": null,
   "metadata": {
    "collapsed": true,
    "deletable": true,
    "editable": true
   },
   "outputs": [],
   "source": []
  },
  {
   "cell_type": "markdown",
   "metadata": {
    "deletable": true,
    "editable": true
   },
   "source": [
    "**Question 2**\n",
    "\n",
    "The `save` and `load` functions are i/o function for binary data. They save not only the data but also its name in the R environment. These functions can also save multiple objects.\n",
    "\n",
    "Select rows 30 to 70 of the `iris` dataset and assign it to the variable `ir`. Now use the `cor` function to calculate the correlation of the first four columns of the `ir` dataset and assign it to `ir_cor` then print them both to the console. Use the `save` function to write the `ir` and `ir_cor` objects to file `\"ir.RData\"`. Now overwrite `ir` with rows 80 to 110 of the `iris` dataset and overwrite `ir_cor` with the correlation matrix of the first four columns of the new `ir` table. Print them both to the console.\n",
    "\n",
    "Use the `load` function to load `\"ir.RData\"` and print `ir` and `ir_cor` to the console. What has happened? *Hint: Use R's help to look up the function's usage*\n",
    "\n",
    "\n",
    "Use the `save` function to save your R session to a file `\"r_sess.RData\"`. <br/>*Hint: the `ls` function lists all the variables in your environment.*\n",
    "\n",
    "Open a new R console and load the `\"r_sess.RData\"` data file. Make sure that all the object have been loaded. Then close the session. Delete the file using the unlink function.\n"
   ]
  },
  {
   "cell_type": "code",
   "execution_count": null,
   "metadata": {
    "collapsed": true,
    "deletable": true,
    "editable": true
   },
   "outputs": [],
   "source": []
  },
  {
   "cell_type": "markdown",
   "metadata": {
    "deletable": true,
    "editable": true
   },
   "source": [
    "**Question 3**\n",
    "\n",
    "The `readRDS` and `writeRDS` functions are functions for binary data i/o but are for single objects. Write `ir` from the previous question to a file `\"ir.rds\"` using the `writeRDS` function and delete it from your R session. Use `ls` to show that it's gone.\n",
    "\n",
    "Use `readRDS` to load the `ir.rds` dataset. How is this different from the way `save` and `load` works?"
   ]
  },
  {
   "cell_type": "code",
   "execution_count": null,
   "metadata": {
    "collapsed": true,
    "deletable": true,
    "editable": true
   },
   "outputs": [],
   "source": []
  },
  {
   "cell_type": "markdown",
   "metadata": {
    "deletable": true,
    "editable": true
   },
   "source": [
    "**Question 4**\n",
    "\n",
    "The `readLines` and `writeLines` functions read and write lines of text files. Use the `readLines` function to read the first 5 lines from the `ir.csv` file created in **Question 1** and assign it to a variable `ir5`, then print it to the console.\n",
    "\n",
    "Now write the `ir5` dataset to a file `\"ir5.txt\"` using the `writeLines` function check the file to make sure that the data is written.\n",
    "\n",
    "Hint: use R's help to search for the `readLines` and `writeLines` functions."
   ]
  },
  {
   "cell_type": "code",
   "execution_count": null,
   "metadata": {
    "collapsed": true,
    "deletable": true,
    "editable": true
   },
   "outputs": [],
   "source": []
  },
  {
   "cell_type": "markdown",
   "metadata": {
    "deletable": true,
    "editable": true
   },
   "source": [
    "**Question 5**\n",
    "\n",
    "The `scan` function is a low-level function for reading text files. Use the `scan` function to read `\"ir.csv\"` file written in **Question 1**. Hint: you will need to specify three parameters as well as the file name. The `sep` paramter is the column separator to use, `what` is a list of column types represented by values for instance `0` for a numeric column and `\"\"` for a text column (`what` can be a named list where the names are the table headers), the `skip` parameter allows you to skip lines in the file - you'll want to skip the header line."
   ]
  },
  {
   "cell_type": "code",
   "execution_count": null,
   "metadata": {
    "collapsed": true,
    "deletable": true,
    "editable": true
   },
   "outputs": [],
   "source": []
  }
 ],
 "metadata": {
  "kernelspec": {
   "display_name": "R 3.3",
   "language": "R",
   "name": "ir33"
  },
  "language_info": {
   "codemirror_mode": "r",
   "file_extension": ".r",
   "mimetype": "text/x-r-source",
   "name": "R",
   "pygments_lexer": "r",
   "version": "3.3.3"
  }
 },
 "nbformat": 4,
 "nbformat_minor": 2
}
