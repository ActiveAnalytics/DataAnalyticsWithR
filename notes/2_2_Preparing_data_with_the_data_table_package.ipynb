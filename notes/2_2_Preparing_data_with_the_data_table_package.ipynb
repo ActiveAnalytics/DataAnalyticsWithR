{
 "cells": [
  {
   "cell_type": "markdown",
   "metadata": {
    "deletable": true,
    "editable": true
   },
   "source": [
    "# Preparing data using the `data.table` package\n",
    "\n",
    "## Installing and loading R packages\n",
    "\n",
    "The `install.packages` function installs R packages from `CRAN` the Comprehensive R Archive Network and the `remove.packages` function removes named installed packages.\n",
    "\n",
    "Installed R packages can be loaded for use in an R session by using `require` or `library` function."
   ]
  },
  {
   "cell_type": "markdown",
   "metadata": {
    "deletable": true,
    "editable": true
   },
   "source": [
    "# Exercise 2.2\n",
    "\n",
    "**Question 1**\n",
    "\n",
    "Create a vector containing the character strings `\"data.table\"`, `\"dplyr\"`, `\"ggplot2\"`, and `\"reshape2\"`. Then use the `install.packages` function to install these packages on to your system. Hint: if needed use R's help to find help on the `install.packages` function.\n",
    "\n",
    "Now load the `data.table` package to the R session using the `require` function."
   ]
  },
  {
   "cell_type": "code",
   "execution_count": null,
   "metadata": {
    "collapsed": true,
    "deletable": true,
    "editable": true
   },
   "outputs": [],
   "source": []
  },
  {
   "cell_type": "markdown",
   "metadata": {
    "deletable": true,
    "editable": true
   },
   "source": [
    "## Creating `data.tables` in R\n",
    "\n",
    "The `data.table` package was created to allow users to process large datasets faster in memory in R, in addition it has a feature rich query interface data makes it idea for preparing and processing data sets that usually cause R problems.\n",
    "\n",
    "data.table objects are a reference class rather than the data.frame value classes. This allows operations to be much more efficient - processing can be done in place with much less duplication that with R's traditional databases."
   ]
  },
  {
   "cell_type": "code",
   "execution_count": 1,
   "metadata": {
    "collapsed": false,
    "deletable": true,
    "editable": true
   },
   "outputs": [
    {
     "name": "stderr",
     "output_type": "stream",
     "text": [
      "Loading required package: data.table\n"
     ]
    }
   ],
   "source": [
    "require(data.table)"
   ]
  },
  {
   "cell_type": "code",
   "execution_count": 2,
   "metadata": {
    "collapsed": false,
    "deletable": true,
    "editable": true
   },
   "outputs": [
    {
     "name": "stdout",
     "output_type": "stream",
     "text": [
      "   Sepal.Length Sepal.Width Petal.Length Petal.Width Species\n",
      "1:          5.1         3.5          1.4         0.2  setosa\n",
      "2:          4.9         3.0          1.4         0.2  setosa\n",
      "3:          4.7         3.2          1.3         0.2  setosa\n",
      "4:          4.6         3.1          1.5         0.2  setosa\n",
      "5:          5.0         3.6          1.4         0.2  setosa\n",
      "6:          5.4         3.9          1.7         0.4  setosa\n"
     ]
    }
   ],
   "source": [
    "# Create a data.table by converting a data.frame\n",
    "ir <- data.table(iris)\n",
    "print(ir[1:6,])"
   ]
  },
  {
   "cell_type": "code",
   "execution_count": 3,
   "metadata": {
    "collapsed": false,
    "deletable": true,
    "editable": true
   },
   "outputs": [
    {
     "name": "stdout",
     "output_type": "stream",
     "text": [
      "     product price\n",
      " 1: productD  5.75\n",
      " 2: productA  5.75\n",
      " 3: productD  4.24\n",
      " 4: productC  3.89\n",
      " 5: productA  3.52\n",
      " 6: productC  3.87\n",
      " 7: productA  3.21\n",
      " 8: productD  4.98\n",
      " 9: productD  7.02\n",
      "10: productA  5.51\n"
     ]
    }
   ],
   "source": [
    "# Creating data.table from vectors\n",
    "dat <- data.table(product = paste0(\"product\", sample(LETTERS[1:4], 10, T)),\n",
    "                  price = round(runif(10, 3, 8), 2))\n",
    "print(dat)"
   ]
  },
  {
   "cell_type": "code",
   "execution_count": 4,
   "metadata": {
    "collapsed": false,
    "deletable": true,
    "editable": true
   },
   "outputs": [
    {
     "data": {
      "text/html": [
       "<table>\n",
       "<thead><tr><th scope=col>product</th><th scope=col>price</th></tr></thead>\n",
       "<tbody>\n",
       "\t<tr><td>productA</td><td>5.75    </td></tr>\n",
       "\t<tr><td>productA</td><td>3.52    </td></tr>\n",
       "\t<tr><td>productA</td><td>3.21    </td></tr>\n",
       "\t<tr><td>productA</td><td>5.51    </td></tr>\n",
       "\t<tr><td>productC</td><td>3.89    </td></tr>\n",
       "\t<tr><td>productC</td><td>3.87    </td></tr>\n",
       "\t<tr><td>productD</td><td>5.75    </td></tr>\n",
       "\t<tr><td>productD</td><td>4.24    </td></tr>\n",
       "\t<tr><td>productD</td><td>4.98    </td></tr>\n",
       "\t<tr><td>productD</td><td>7.02    </td></tr>\n",
       "</tbody>\n",
       "</table>\n"
      ],
      "text/latex": [
       "\\begin{tabular}{r|ll}\n",
       " product & price\\\\\n",
       "\\hline\n",
       "\t productA & 5.75    \\\\\n",
       "\t productA & 3.52    \\\\\n",
       "\t productA & 3.21    \\\\\n",
       "\t productA & 5.51    \\\\\n",
       "\t productC & 3.89    \\\\\n",
       "\t productC & 3.87    \\\\\n",
       "\t productD & 5.75    \\\\\n",
       "\t productD & 4.24    \\\\\n",
       "\t productD & 4.98    \\\\\n",
       "\t productD & 7.02    \\\\\n",
       "\\end{tabular}\n"
      ],
      "text/markdown": [
       "\n",
       "product | price | \n",
       "|---|---|---|---|---|---|---|---|---|---|\n",
       "| productA | 5.75     | \n",
       "| productA | 3.52     | \n",
       "| productA | 3.21     | \n",
       "| productA | 5.51     | \n",
       "| productC | 3.89     | \n",
       "| productC | 3.87     | \n",
       "| productD | 5.75     | \n",
       "| productD | 4.24     | \n",
       "| productD | 4.98     | \n",
       "| productD | 7.02     | \n",
       "\n",
       "\n"
      ],
      "text/plain": [
       "   product  price\n",
       "1  productA 5.75 \n",
       "2  productA 3.52 \n",
       "3  productA 3.21 \n",
       "4  productA 5.51 \n",
       "5  productC 3.89 \n",
       "6  productC 3.87 \n",
       "7  productD 5.75 \n",
       "8  productD 4.24 \n",
       "9  productD 4.98 \n",
       "10 productD 7.02 "
      ]
     },
     "metadata": {},
     "output_type": "display_data"
    }
   ],
   "source": [
    "# Order by product\n",
    "dat[order(product),]"
   ]
  },
  {
   "cell_type": "code",
   "execution_count": 5,
   "metadata": {
    "collapsed": false,
    "deletable": true,
    "editable": true
   },
   "outputs": [
    {
     "data": {
      "text/html": [
       "<table>\n",
       "<thead><tr><th scope=col>product</th><th scope=col>price</th></tr></thead>\n",
       "<tbody>\n",
       "\t<tr><td>productA</td><td>3.21    </td></tr>\n",
       "\t<tr><td>productA</td><td>3.52    </td></tr>\n",
       "\t<tr><td>productC</td><td>3.87    </td></tr>\n",
       "\t<tr><td>productC</td><td>3.89    </td></tr>\n",
       "\t<tr><td>productD</td><td>4.24    </td></tr>\n",
       "\t<tr><td>productD</td><td>4.98    </td></tr>\n",
       "\t<tr><td>productA</td><td>5.51    </td></tr>\n",
       "\t<tr><td>productD</td><td>5.75    </td></tr>\n",
       "\t<tr><td>productA</td><td>5.75    </td></tr>\n",
       "\t<tr><td>productD</td><td>7.02    </td></tr>\n",
       "</tbody>\n",
       "</table>\n"
      ],
      "text/latex": [
       "\\begin{tabular}{r|ll}\n",
       " product & price\\\\\n",
       "\\hline\n",
       "\t productA & 3.21    \\\\\n",
       "\t productA & 3.52    \\\\\n",
       "\t productC & 3.87    \\\\\n",
       "\t productC & 3.89    \\\\\n",
       "\t productD & 4.24    \\\\\n",
       "\t productD & 4.98    \\\\\n",
       "\t productA & 5.51    \\\\\n",
       "\t productD & 5.75    \\\\\n",
       "\t productA & 5.75    \\\\\n",
       "\t productD & 7.02    \\\\\n",
       "\\end{tabular}\n"
      ],
      "text/markdown": [
       "\n",
       "product | price | \n",
       "|---|---|---|---|---|---|---|---|---|---|\n",
       "| productA | 3.21     | \n",
       "| productA | 3.52     | \n",
       "| productC | 3.87     | \n",
       "| productC | 3.89     | \n",
       "| productD | 4.24     | \n",
       "| productD | 4.98     | \n",
       "| productA | 5.51     | \n",
       "| productD | 5.75     | \n",
       "| productA | 5.75     | \n",
       "| productD | 7.02     | \n",
       "\n",
       "\n"
      ],
      "text/plain": [
       "   product  price\n",
       "1  productA 3.21 \n",
       "2  productA 3.52 \n",
       "3  productC 3.87 \n",
       "4  productC 3.89 \n",
       "5  productD 4.24 \n",
       "6  productD 4.98 \n",
       "7  productA 5.51 \n",
       "8  productD 5.75 \n",
       "9  productA 5.75 \n",
       "10 productD 7.02 "
      ]
     },
     "metadata": {},
     "output_type": "display_data"
    }
   ],
   "source": [
    "# Order by price\n",
    "dat[order(price),]"
   ]
  },
  {
   "cell_type": "markdown",
   "metadata": {
    "deletable": true,
    "editable": true
   },
   "source": [
    "If you set the key on a data.table, the table automatically sorts by that key:"
   ]
  },
  {
   "cell_type": "code",
   "execution_count": 10,
   "metadata": {
    "collapsed": false,
    "deletable": true,
    "editable": true
   },
   "outputs": [
    {
     "data": {
      "text/html": [
       "<table>\n",
       "<thead><tr><th scope=col>product</th><th scope=col>price</th></tr></thead>\n",
       "<tbody>\n",
       "\t<tr><td>productA</td><td>5.75    </td></tr>\n",
       "\t<tr><td>productA</td><td>3.52    </td></tr>\n",
       "\t<tr><td>productA</td><td>3.21    </td></tr>\n",
       "\t<tr><td>productA</td><td>5.51    </td></tr>\n",
       "\t<tr><td>productC</td><td>3.89    </td></tr>\n",
       "\t<tr><td>productC</td><td>3.87    </td></tr>\n",
       "\t<tr><td>productD</td><td>5.75    </td></tr>\n",
       "\t<tr><td>productD</td><td>4.24    </td></tr>\n",
       "\t<tr><td>productD</td><td>4.98    </td></tr>\n",
       "\t<tr><td>productD</td><td>7.02    </td></tr>\n",
       "</tbody>\n",
       "</table>\n"
      ],
      "text/latex": [
       "\\begin{tabular}{r|ll}\n",
       " product & price\\\\\n",
       "\\hline\n",
       "\t productA & 5.75    \\\\\n",
       "\t productA & 3.52    \\\\\n",
       "\t productA & 3.21    \\\\\n",
       "\t productA & 5.51    \\\\\n",
       "\t productC & 3.89    \\\\\n",
       "\t productC & 3.87    \\\\\n",
       "\t productD & 5.75    \\\\\n",
       "\t productD & 4.24    \\\\\n",
       "\t productD & 4.98    \\\\\n",
       "\t productD & 7.02    \\\\\n",
       "\\end{tabular}\n"
      ],
      "text/markdown": [
       "\n",
       "product | price | \n",
       "|---|---|---|---|---|---|---|---|---|---|\n",
       "| productA | 5.75     | \n",
       "| productA | 3.52     | \n",
       "| productA | 3.21     | \n",
       "| productA | 5.51     | \n",
       "| productC | 3.89     | \n",
       "| productC | 3.87     | \n",
       "| productD | 5.75     | \n",
       "| productD | 4.24     | \n",
       "| productD | 4.98     | \n",
       "| productD | 7.02     | \n",
       "\n",
       "\n"
      ],
      "text/plain": [
       "   product  price\n",
       "1  productA 5.75 \n",
       "2  productA 3.52 \n",
       "3  productA 3.21 \n",
       "4  productA 5.51 \n",
       "5  productC 3.89 \n",
       "6  productC 3.87 \n",
       "7  productD 5.75 \n",
       "8  productD 4.24 \n",
       "9  productD 4.98 \n",
       "10 productD 7.02 "
      ]
     },
     "metadata": {},
     "output_type": "display_data"
    }
   ],
   "source": [
    "# Unsorted table\n",
    "dat"
   ]
  },
  {
   "cell_type": "code",
   "execution_count": 11,
   "metadata": {
    "collapsed": false,
    "deletable": true,
    "editable": true
   },
   "outputs": [
    {
     "data": {
      "text/html": [
       "<table>\n",
       "<thead><tr><th scope=col>product</th><th scope=col>price</th></tr></thead>\n",
       "<tbody>\n",
       "\t<tr><td>productA</td><td>5.75    </td></tr>\n",
       "\t<tr><td>productA</td><td>3.52    </td></tr>\n",
       "\t<tr><td>productA</td><td>3.21    </td></tr>\n",
       "\t<tr><td>productA</td><td>5.51    </td></tr>\n",
       "\t<tr><td>productC</td><td>3.89    </td></tr>\n",
       "\t<tr><td>productC</td><td>3.87    </td></tr>\n",
       "\t<tr><td>productD</td><td>5.75    </td></tr>\n",
       "\t<tr><td>productD</td><td>4.24    </td></tr>\n",
       "\t<tr><td>productD</td><td>4.98    </td></tr>\n",
       "\t<tr><td>productD</td><td>7.02    </td></tr>\n",
       "</tbody>\n",
       "</table>\n"
      ],
      "text/latex": [
       "\\begin{tabular}{r|ll}\n",
       " product & price\\\\\n",
       "\\hline\n",
       "\t productA & 5.75    \\\\\n",
       "\t productA & 3.52    \\\\\n",
       "\t productA & 3.21    \\\\\n",
       "\t productA & 5.51    \\\\\n",
       "\t productC & 3.89    \\\\\n",
       "\t productC & 3.87    \\\\\n",
       "\t productD & 5.75    \\\\\n",
       "\t productD & 4.24    \\\\\n",
       "\t productD & 4.98    \\\\\n",
       "\t productD & 7.02    \\\\\n",
       "\\end{tabular}\n"
      ],
      "text/markdown": [
       "\n",
       "product | price | \n",
       "|---|---|---|---|---|---|---|---|---|---|\n",
       "| productA | 5.75     | \n",
       "| productA | 3.52     | \n",
       "| productA | 3.21     | \n",
       "| productA | 5.51     | \n",
       "| productC | 3.89     | \n",
       "| productC | 3.87     | \n",
       "| productD | 5.75     | \n",
       "| productD | 4.24     | \n",
       "| productD | 4.98     | \n",
       "| productD | 7.02     | \n",
       "\n",
       "\n"
      ],
      "text/plain": [
       "   product  price\n",
       "1  productA 5.75 \n",
       "2  productA 3.52 \n",
       "3  productA 3.21 \n",
       "4  productA 5.51 \n",
       "5  productC 3.89 \n",
       "6  productC 3.87 \n",
       "7  productD 5.75 \n",
       "8  productD 4.24 \n",
       "9  productD 4.98 \n",
       "10 productD 7.02 "
      ]
     },
     "metadata": {},
     "output_type": "display_data"
    }
   ],
   "source": [
    "# Set key also sorts the table by the key(s)\n",
    "setkey(dat, product)\n",
    "dat"
   ]
  },
  {
   "cell_type": "markdown",
   "metadata": {
    "deletable": true,
    "editable": true
   },
   "source": [
    "The `data.table` package has a file reader `fread` that is very fast and smart! Notice that I do not need to specify any details of column separators and so on - just the file name."
   ]
  },
  {
   "cell_type": "code",
   "execution_count": 30,
   "metadata": {
    "collapsed": false,
    "deletable": true,
    "editable": true
   },
   "outputs": [
    {
     "name": "stdout",
     "output_type": "stream",
     "text": [
      "   class cap-shape cap-surface cap-color bruises odor gill-attachment\n",
      "1:     p         x           s         n       t    p               f\n",
      "2:     e         x           s         y       t    a               f\n",
      "3:     e         b           s         w       t    l               f\n",
      "4:     p         x           y         w       t    p               f\n",
      "   gill-spacing gill-size gill-color stalk-shape stalk-root\n",
      "1:            c         n          k           e          e\n",
      "2:            c         b          k           e          c\n",
      "3:            c         b          n           e          c\n",
      "4:            c         n          n           e          e\n",
      "   stalk-surface-above-ring stalk-surface-below-ring stalk-color-above-ring\n",
      "1:                        s                        s                      w\n",
      "2:                        s                        s                      w\n",
      "3:                        s                        s                      w\n",
      "4:                        s                        s                      w\n",
      "   stalk-color-below-ring veil-type veil-color ring-number ring-type\n",
      "1:                      w         p          w           o         p\n",
      "2:                      w         p          w           o         p\n",
      "3:                      w         p          w           o         p\n",
      "4:                      w         p          w           o         p\n",
      "   spore-print-color population habitat\n",
      "1:                 k          s       u\n",
      "2:                 n          n       g\n",
      "3:                 n          n       m\n",
      "4:                 k          s       u\n"
     ]
    }
   ],
   "source": [
    "shrooms <- fread(\"../data/mushroom/mushrooms.csv\")\n",
    "print(shrooms[1:4,])"
   ]
  },
  {
   "cell_type": "code",
   "execution_count": 52,
   "metadata": {
    "collapsed": false,
    "deletable": true,
    "editable": true
   },
   "outputs": [
    {
     "name": "stdout",
     "output_type": "stream",
     "text": [
      "   Id MSSubClass MSZoning LotFrontage LotArea Street Alley LotShape LandContour\n",
      "1:  1         60       RL          65    8450   Pave    NA      Reg         Lvl\n",
      "2:  2         20       RL          80    9600   Pave    NA      Reg         Lvl\n",
      "   Utilities LotConfig LandSlope Neighborhood Condition1 Condition2 BldgType\n",
      "1:    AllPub    Inside       Gtl      CollgCr       Norm       Norm     1Fam\n",
      "2:    AllPub       FR2       Gtl      Veenker      Feedr       Norm     1Fam\n",
      "   HouseStyle OverallQual OverallCond YearBuilt YearRemodAdd RoofStyle RoofMatl\n",
      "1:     2Story           7           5      2003         2003     Gable  CompShg\n",
      "2:     1Story           6           8      1976         1976     Gable  CompShg\n",
      "   Exterior1st Exterior2nd MasVnrType MasVnrArea ExterQual ExterCond Foundation\n",
      "1:     VinylSd     VinylSd    BrkFace        196        Gd        TA      PConc\n",
      "2:     MetalSd     MetalSd       None          0        TA        TA     CBlock\n",
      "   BsmtQual BsmtCond BsmtExposure BsmtFinType1 BsmtFinSF1 BsmtFinType2\n",
      "1:       Gd       TA           No          GLQ        706          Unf\n",
      "2:       Gd       TA           Gd          ALQ        978          Unf\n",
      "   BsmtFinSF2 BsmtUnfSF TotalBsmtSF Heating HeatingQC CentralAir Electrical\n",
      "1:          0       150         856    GasA        Ex          Y      SBrkr\n",
      "2:          0       284        1262    GasA        Ex          Y      SBrkr\n",
      "   1stFlrSF 2ndFlrSF LowQualFinSF GrLivArea BsmtFullBath BsmtHalfBath FullBath\n",
      "1:      856      854            0      1710            1            0        2\n",
      "2:     1262        0            0      1262            0            1        2\n",
      "   HalfBath BedroomAbvGr KitchenAbvGr KitchenQual TotRmsAbvGrd Functional\n",
      "1:        1            3            1          Gd            8        Typ\n",
      "2:        0            3            1          TA            6        Typ\n",
      "   Fireplaces FireplaceQu GarageType GarageYrBlt GarageFinish GarageCars\n",
      "1:          0          NA     Attchd        2003          RFn          2\n",
      "2:          1          TA     Attchd        1976          RFn          2\n",
      "   GarageArea GarageQual GarageCond PavedDrive WoodDeckSF OpenPorchSF\n",
      "1:        548         TA         TA          Y          0          61\n",
      "2:        460         TA         TA          Y        298           0\n",
      "   EnclosedPorch 3SsnPorch ScreenPorch PoolArea PoolQC Fence MiscFeature\n",
      "1:             0         0           0        0     NA    NA          NA\n",
      "2:             0         0           0        0     NA    NA          NA\n",
      "   MiscVal MoSold YrSold SaleType SaleCondition SalePrice\n",
      "1:       0      2   2008       WD        Normal    208500\n",
      "2:       0      5   2007       WD        Normal    181500\n"
     ]
    }
   ],
   "source": [
    "# Read in house price data\n",
    "house <- fread(\"../data/houseprices/train.csv\")\n",
    "print(house[1:2,])"
   ]
  },
  {
   "cell_type": "markdown",
   "metadata": {
    "deletable": true,
    "editable": true
   },
   "source": [
    "## Selecting, cleaning, and summarizing data with data.table"
   ]
  },
  {
   "cell_type": "code",
   "execution_count": 45,
   "metadata": {
    "collapsed": false,
    "deletable": true,
    "editable": true,
    "scrolled": true
   },
   "outputs": [
    {
     "name": "stdout",
     "output_type": "stream",
     "text": [
      "   Sepal.Length Sepal.Width Petal.Length Petal.Width Species\n",
      "1:          4.4         2.9          1.4         0.2  setosa\n",
      "2:          4.3         3.0          1.1         0.1  setosa\n",
      "3:          4.4         3.0          1.3         0.2  setosa\n",
      "4:          4.4         3.2          1.3         0.2  setosa\n"
     ]
    }
   ],
   "source": [
    "# Filtering data\n",
    "print(ir[Species == \"setosa\" & Sepal.Length < 4.5,])"
   ]
  },
  {
   "cell_type": "code",
   "execution_count": 46,
   "metadata": {
    "collapsed": false,
    "deletable": true,
    "editable": true
   },
   "outputs": [
    {
     "name": "stdout",
     "output_type": "stream",
     "text": [
      "[1] 0.2 0.1 0.2 0.2\n"
     ]
    }
   ],
   "source": [
    "# Include the previous filter but only select the Petal.Width column\n",
    "print(ir[Species == \"setosa\" & Sepal.Length < 4.5, Petal.Width])"
   ]
  },
  {
   "cell_type": "code",
   "execution_count": 47,
   "metadata": {
    "collapsed": false,
    "deletable": true,
    "editable": true
   },
   "outputs": [
    {
     "name": "stdout",
     "output_type": "stream",
     "text": [
      "   Sepal.Length Sepal.Width\n",
      "1:          4.4         2.9\n",
      "2:          4.3         3.0\n",
      "3:          4.4         3.0\n",
      "4:          4.4         3.2\n"
     ]
    }
   ],
   "source": [
    "# Include the previous filter and selecting multiple columns\n",
    "print(ir[Species == \"setosa\" & Sepal.Length < 4.5, list(Sepal.Length, Sepal.Width)])"
   ]
  },
  {
   "cell_type": "code",
   "execution_count": 48,
   "metadata": {
    "collapsed": false,
    "deletable": true,
    "editable": true
   },
   "outputs": [
    {
     "name": "stdout",
     "output_type": "stream",
     "text": [
      "   Sepal.Length Sepal.Width\n",
      "1:          4.4         2.9\n",
      "2:          4.3         3.0\n",
      "3:          4.4         3.0\n",
      "4:          4.4         3.2\n"
     ]
    }
   ],
   "source": [
    "# The \".\" operator can be used instead of list\n",
    "print(ir[Species == \"setosa\" & Sepal.Length < 4.5, .(Sepal.Length, Sepal.Width)])"
   ]
  },
  {
   "cell_type": "code",
   "execution_count": 6,
   "metadata": {
    "collapsed": false,
    "deletable": true,
    "editable": true
   },
   "outputs": [
    {
     "name": "stdout",
     "output_type": "stream",
     "text": [
      "   Sepal.Length Sepal.Width Petal.Length Petal.Width Species\n",
      "1:          5.1         3.5          1.4         0.2  SETOSA\n",
      "2:          4.9         3.0          1.4         0.2  SETOSA\n",
      "3:          4.7         3.2          1.3         0.2  SETOSA\n",
      "4:          4.6         3.1          1.5         0.2  SETOSA\n"
     ]
    }
   ],
   "source": [
    "# In place modification of a column\n",
    "print(ir[, Species := toupper(Species)][1:4,])"
   ]
  },
  {
   "cell_type": "code",
   "execution_count": 7,
   "metadata": {
    "collapsed": false,
    "deletable": true,
    "editable": true
   },
   "outputs": [
    {
     "name": "stdout",
     "output_type": "stream",
     "text": [
      "   Sepal.Length Sepal.Width Petal.Length Petal.Width    Species Setosa\n",
      "1:          4.6         3.2          1.4         0.2     SETOSA      1\n",
      "2:          5.3         3.7          1.5         0.2     SETOSA      1\n",
      "3:          5.0         3.3          1.4         0.2     SETOSA      1\n",
      "4:          7.0         3.2          4.7         1.4 VERSICOLOR      0\n",
      "5:          6.4         3.2          4.5         1.5 VERSICOLOR      0\n",
      "6:          6.9         3.1          4.9         1.5 VERSICOLOR      0\n"
     ]
    }
   ],
   "source": [
    "# Appending a dummy variable for Setosa species\n",
    "print(ir[, Setosa := 1*(Species == \"SETOSA\")][48:53,])"
   ]
  },
  {
   "cell_type": "code",
   "execution_count": 8,
   "metadata": {
    "collapsed": false,
    "deletable": true,
    "editable": true
   },
   "outputs": [
    {
     "name": "stdout",
     "output_type": "stream",
     "text": [
      "   Sepal.Length Sepal.Width Petal.Length Petal.Width Species\n",
      "1:          5.1         3.5          1.4         0.2  SETOSA\n",
      "2:          4.9         3.0          1.4         0.2  SETOSA\n",
      "3:          4.7         3.2          1.3         0.2  SETOSA\n",
      "4:          4.6         3.1          1.5         0.2  SETOSA\n"
     ]
    }
   ],
   "source": [
    "# Removing columns\n",
    "print(ir[, Setosa := NULL][1:4,])"
   ]
  },
  {
   "cell_type": "code",
   "execution_count": 65,
   "metadata": {
    "collapsed": false,
    "deletable": true,
    "editable": true
   },
   "outputs": [
    {
     "name": "stdout",
     "output_type": "stream",
     "text": [
      "      Species Sepal.Length Sepal.Width\n",
      "1:     setosa        5.006       3.428\n",
      "2: versicolor        5.936       2.770\n",
      "3:  virginica        6.588       2.974\n"
     ]
    }
   ],
   "source": [
    "# Applying functions to subsets of tables\n",
    "print(ir[, .(Sepal.Length = mean(Sepal.Length), Sepal.Width = mean(Sepal.Width)), by = Species])"
   ]
  },
  {
   "cell_type": "code",
   "execution_count": 62,
   "metadata": {
    "collapsed": false,
    "deletable": true,
    "editable": true
   },
   "outputs": [
    {
     "data": {
      "text/plain": [
       "stalk-root\n",
       "   ?    b    c    e    r \n",
       "2480 3776  556 1120  192 "
      ]
     },
     "metadata": {},
     "output_type": "display_data"
    }
   ],
   "source": [
    "# Using backticks to get non standard column names\n",
    "shrooms[, table(`stalk-root`)]"
   ]
  },
  {
   "cell_type": "code",
   "execution_count": 66,
   "metadata": {
    "collapsed": false,
    "deletable": true,
    "editable": true
   },
   "outputs": [
    {
     "name": "stdout",
     "output_type": "stream",
     "text": [
      "   YrSold Heating Alley SalePrice SaleCondition\n",
      "1:   2008    GasA    NA    208500        Normal\n",
      "2:   2007    GasA    NA    181500        Normal\n",
      "3:   2008    GasA    NA    223500        Normal\n",
      "4:   2006    GasA    NA    140000       Abnorml\n"
     ]
    }
   ],
   "source": [
    "# In the house price dataset, the Alley variable contains NA values where the property has no alley access\n",
    "print(house[is.na(Alley), .(YrSold, Heating, Alley, SalePrice, SaleCondition)][1:4])"
   ]
  },
  {
   "cell_type": "code",
   "execution_count": 64,
   "metadata": {
    "collapsed": false,
    "deletable": true,
    "editable": true
   },
   "outputs": [
    {
     "data": {
      "text/plain": [
       "Alley\n",
       "Grvl Pave \n",
       "  50   41 "
      ]
     },
     "metadata": {},
     "output_type": "display_data"
    }
   ],
   "source": [
    "# The frequency table of the Alley variable:\n",
    "house[, table(Alley)]"
   ]
  },
  {
   "cell_type": "code",
   "execution_count": 68,
   "metadata": {
    "collapsed": false,
    "deletable": true,
    "editable": true
   },
   "outputs": [
    {
     "name": "stdout",
     "output_type": "stream",
     "text": [
      "   Alley    N\n",
      "1:    NA 1369\n",
      "2:  Grvl   50\n",
      "3:  Pave   41\n"
     ]
    }
   ],
   "source": [
    "# Using the .N variable ...\n",
    "print(house[, .N, by = Alley])"
   ]
  },
  {
   "cell_type": "code",
   "execution_count": 69,
   "metadata": {
    "collapsed": false,
    "deletable": true,
    "editable": true
   },
   "outputs": [
    {
     "data": {},
     "metadata": {},
     "output_type": "display_data"
    },
    {
     "name": "stdout",
     "output_type": "stream",
     "text": [
      "       Alley    N\n",
      "1: No Access 1369\n",
      "2:      Grvl   50\n",
      "3:      Pave   41\n"
     ]
    }
   ],
   "source": [
    "# Clean out the NA values by assigning it with another value\n",
    "house[is.na(Alley), Alley := \"No Access\"]\n",
    "print(house[, .N, by = Alley])"
   ]
  },
  {
   "cell_type": "code",
   "execution_count": 78,
   "metadata": {
    "collapsed": false,
    "deletable": true,
    "editable": true
   },
   "outputs": [
    {
     "name": "stdout",
     "output_type": "stream",
     "text": [
      "        Alley SaleCondition AvePrice\n",
      " 1: No Access        Normal   177383\n",
      " 2: No Access       Abnorml   147405\n",
      " 3: No Access       Partial   277559\n",
      " 4:      Grvl        Normal   123313\n",
      " 5:      Pave        Normal   167096\n",
      " 6: No Access       AdjLand   104125\n",
      " 7:      Pave       Abnorml   154144\n",
      " 8:      Pave       Partial   183498\n",
      " 9: No Access        Alloca   167377\n",
      "10: No Access        Family   155529\n",
      "11:      Grvl        Family   116000\n",
      "12:      Grvl       Abnorml   115125\n"
     ]
    }
   ],
   "source": [
    "# Average price with Alley and SaleCondition\n",
    "print(house[, .(AvePrice = round(mean(SalePrice))), .(Alley, SaleCondition)])"
   ]
  },
  {
   "cell_type": "code",
   "execution_count": null,
   "metadata": {
    "collapsed": true,
    "deletable": true,
    "editable": true
   },
   "outputs": [],
   "source": []
  },
  {
   "cell_type": "markdown",
   "metadata": {
    "deletable": true,
    "editable": true
   },
   "source": [
    "# Exercise 2.3\n",
    "\n",
    "**Question 1**\n",
    "\n",
    "In the `house` price dataset, the `Fence` variable has missing values for where the property has no fence, and the BsmtQual variable has missing values for where the property has no basement. Substitute these `NA` values with `\"NoFence\"` and `\"NoBsmt\"`.\n",
    "\n",
    "Now calculate how the `mean` and `median` house price varies with `\"Fence\"` and `\"BsmtQual\"` both separately and together."
   ]
  },
  {
   "cell_type": "code",
   "execution_count": null,
   "metadata": {
    "collapsed": true,
    "deletable": true,
    "editable": true
   },
   "outputs": [],
   "source": []
  },
  {
   "cell_type": "markdown",
   "metadata": {
    "deletable": true,
    "editable": true
   },
   "source": [
    "**Question 2**\n",
    "\n",
    "Analyse how the `class` proportions of the mushroom changes with the `stalk-root`. What does this imply about the missing `\"?\"` values? Hint: you may need `prop.table` and `table`, or `.N` and `nrow` but there are other ways."
   ]
  },
  {
   "cell_type": "code",
   "execution_count": null,
   "metadata": {
    "collapsed": true,
    "deletable": true,
    "editable": true
   },
   "outputs": [],
   "source": []
  },
  {
   "cell_type": "markdown",
   "metadata": {
    "deletable": true,
    "editable": true
   },
   "source": [
    "**Question 3**\n",
    "\n",
    "**Provide Variables to clean!!!**\n",
    "\n",
    "Your boss wants you to carry out analysis on the `house` price dataset, specifically the `PoolQC` and `BsmtFinType2` variables. The `data_description.txt` file describes the that each variable has missing values for a reason.\n",
    "\n",
    "Clean the missing values in each variable by assigning it an appropriate substitute. Then separately for each variable, calculate the `mean`, `median`, and `sd` price. \n",
    "\n",
    "How do these calculation vary with `MSZoning` and `SaleCondition` together?"
   ]
  },
  {
   "cell_type": "code",
   "execution_count": null,
   "metadata": {
    "collapsed": true,
    "deletable": true,
    "editable": true
   },
   "outputs": [],
   "source": []
  }
 ],
 "metadata": {
  "kernelspec": {
   "display_name": "R 3.3",
   "language": "R",
   "name": "ir33"
  },
  "language_info": {
   "codemirror_mode": "r",
   "file_extension": ".r",
   "mimetype": "text/x-r-source",
   "name": "R",
   "pygments_lexer": "r",
   "version": "3.3.3"
  }
 },
 "nbformat": 4,
 "nbformat_minor": 2
}
