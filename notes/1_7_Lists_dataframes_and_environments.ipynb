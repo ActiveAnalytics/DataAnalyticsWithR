{
 "cells": [
  {
   "cell_type": "markdown",
   "metadata": {
    "deletable": true,
    "editable": true
   },
   "source": [
    "# Lists data.frames and environments\n",
    "\n",
    "List, data.frames and environments are the most versatile data structures in R. In this section we introduce them and outline their basic uses.\n",
    "\n",
    "## Lists\n",
    "\n",
    "Unlike vectors, matrices and arrays, lists are not atomic. They are a generic vector able to contain any type including other lists. Lists can be created using the `vector` or more commonly the `list` functions."
   ]
  },
  {
   "cell_type": "code",
   "execution_count": 1,
   "metadata": {
    "collapsed": false,
    "deletable": true,
    "editable": true
   },
   "outputs": [
    {
     "name": "stdout",
     "output_type": "stream",
     "text": [
      "[[1]]\n",
      "NULL\n",
      "\n",
      "[[2]]\n",
      "NULL\n",
      "\n",
      "[[3]]\n",
      "NULL\n",
      "\n",
      "[[4]]\n",
      "NULL\n",
      "\n"
     ]
    }
   ],
   "source": [
    "x <- vector(mode = \"list\", length = 4)\n",
    "print(x)"
   ]
  },
  {
   "cell_type": "code",
   "execution_count": 50,
   "metadata": {
    "collapsed": false,
    "deletable": true,
    "editable": true
   },
   "outputs": [
    {
     "name": "stdout",
     "output_type": "stream",
     "text": [
      "[[1]]\n",
      " [1]  1  2  3  4  5  6  7  8  9 10\n",
      "\n",
      "[[2]]\n",
      "[1] \"a\" \"b\" \"c\"\n",
      "\n",
      "[[3]]\n",
      "[1] 0.3604316 0.5651189 0.2421092 0.7588877 0.6213195 0.1777223\n",
      "\n"
     ]
    }
   ],
   "source": [
    "y <- list(1:10, letters[1:3], runif(6))\n",
    "print(y)"
   ]
  },
  {
   "cell_type": "markdown",
   "metadata": {
    "deletable": true,
    "editable": true
   },
   "source": [
    "Lists can have names too:"
   ]
  },
  {
   "cell_type": "code",
   "execution_count": 51,
   "metadata": {
    "collapsed": false,
    "deletable": true,
    "editable": true
   },
   "outputs": [
    {
     "name": "stdout",
     "output_type": "stream",
     "text": [
      "$name\n",
      "[1] \"Bryan\"\n",
      "\n",
      "$age\n",
      "[1] 44\n",
      "\n",
      "$occupation\n",
      "[1] \"Dentist\"\n",
      "\n"
     ]
    }
   ],
   "source": [
    "ll <- list(name = \"Bryan\", \"age\" = 44, occupation = \"Dentist\")\n",
    "print(ll)"
   ]
  },
  {
   "cell_type": "code",
   "execution_count": 52,
   "metadata": {
    "collapsed": false,
    "deletable": true,
    "editable": true
   },
   "outputs": [
    {
     "name": "stdout",
     "output_type": "stream",
     "text": [
      "$nums\n",
      " [1]  1  2  3  4  5  6  7  8  9 10\n",
      "\n",
      "$letters\n",
      "[1] \"a\" \"b\" \"c\"\n",
      "\n",
      "$random\n",
      "[1] 0.3604316 0.5651189 0.2421092 0.7588877 0.6213195 0.1777223\n",
      "\n"
     ]
    }
   ],
   "source": [
    "# Name insertion:\n",
    "names(y) <- c(\"nums\", \"letters\", \"random\")\n",
    "print(y)"
   ]
  },
  {
   "cell_type": "markdown",
   "metadata": {
    "deletable": true,
    "editable": true
   },
   "source": [
    "### Selecting items in lists\n",
    "\n",
    "Items in lists can be selected using the `\"[[\"` operator for integer indices or `\"$\"` for an individual names. The `\"[\"` operator can select more than one list item and will always return a list:"
   ]
  },
  {
   "cell_type": "code",
   "execution_count": 53,
   "metadata": {
    "collapsed": false,
    "deletable": true,
    "editable": true
   },
   "outputs": [
    {
     "name": "stdout",
     "output_type": "stream",
     "text": [
      "$nums\n",
      " [1]  1  2  3  4  5  6  7  8  9 10\n",
      "\n"
     ]
    }
   ],
   "source": [
    "# Returns a single item as a list\n",
    "print(y[1])"
   ]
  },
  {
   "cell_type": "code",
   "execution_count": 54,
   "metadata": {
    "collapsed": false,
    "deletable": true,
    "editable": true
   },
   "outputs": [
    {
     "name": "stdout",
     "output_type": "stream",
     "text": [
      "$nums\n",
      " [1]  1  2  3  4  5  6  7  8  9 10\n",
      "\n",
      "$letters\n",
      "[1] \"a\" \"b\" \"c\"\n",
      "\n"
     ]
    }
   ],
   "source": [
    "# Returns the first two items as a list\n",
    "print(y[1:2])"
   ]
  },
  {
   "cell_type": "code",
   "execution_count": 55,
   "metadata": {
    "collapsed": false,
    "deletable": true,
    "editable": true
   },
   "outputs": [
    {
     "name": "stdout",
     "output_type": "stream",
     "text": [
      "$nums\n",
      " [1]  1  2  3  4  5  6  7  8  9 10\n",
      "\n",
      "$letters\n",
      "[1] \"a\" \"b\" \"c\"\n",
      "\n"
     ]
    }
   ],
   "source": [
    "# Alternatively\n",
    "print(y[c(\"nums\", \"letters\")])"
   ]
  },
  {
   "cell_type": "code",
   "execution_count": 56,
   "metadata": {
    "collapsed": false,
    "deletable": true,
    "editable": true
   },
   "outputs": [
    {
     "name": "stdout",
     "output_type": "stream",
     "text": [
      " [1]  1  2  3  4  5  6  7  8  9 10\n"
     ]
    }
   ],
   "source": [
    "# Returns the first item\n",
    "print(y[[1]])"
   ]
  },
  {
   "cell_type": "code",
   "execution_count": 57,
   "metadata": {
    "collapsed": false,
    "deletable": true,
    "editable": true
   },
   "outputs": [
    {
     "name": "stdout",
     "output_type": "stream",
     "text": [
      "[1] 0.3604316 0.5651189 0.2421092 0.7588877 0.6213195 0.1777223\n"
     ]
    }
   ],
   "source": [
    "# Returns the item named random\n",
    "print(y$random)"
   ]
  },
  {
   "cell_type": "code",
   "execution_count": 58,
   "metadata": {
    "collapsed": false,
    "deletable": true,
    "editable": true
   },
   "outputs": [
    {
     "name": "stdout",
     "output_type": "stream",
     "text": [
      "[1] \"a\" \"b\" \"c\"\n"
     ]
    }
   ],
   "source": [
    "# Returns the item named letters\n",
    "print(y[[\"letters\"]])"
   ]
  },
  {
   "cell_type": "code",
   "execution_count": 59,
   "metadata": {
    "collapsed": false,
    "deletable": true,
    "editable": true
   },
   "outputs": [
    {
     "name": "stdout",
     "output_type": "stream",
     "text": [
      " [1]  1  2  3  4  5  6  7  8  9 10\n"
     ]
    }
   ],
   "source": [
    "# Returns the item named nums\n",
    "print(y$`nums`)"
   ]
  },
  {
   "cell_type": "code",
   "execution_count": 60,
   "metadata": {
    "collapsed": false,
    "deletable": true,
    "editable": true
   },
   "outputs": [
    {
     "name": "stdout",
     "output_type": "stream",
     "text": [
      "$nums\n",
      " [1]  1  2  3  4  5  6  7  8  9 10\n",
      "\n",
      "$random\n",
      "[1] 0.3604316 0.5651189 0.2421092 0.7588877 0.6213195 0.1777223\n",
      "\n"
     ]
    }
   ],
   "source": [
    "# Selection using logical vector\n",
    "print(y[c(T, F, T)])"
   ]
  },
  {
   "cell_type": "markdown",
   "metadata": {
    "deletable": true,
    "editable": true
   },
   "source": [
    "### Replacing items in lists\n",
    "\n",
    "All the methods used to select items from lists can be used to replace items in lists by using the `\"<-\"` operator:"
   ]
  },
  {
   "cell_type": "code",
   "execution_count": 61,
   "metadata": {
    "collapsed": false,
    "deletable": true,
    "editable": true
   },
   "outputs": [
    {
     "name": "stdout",
     "output_type": "stream",
     "text": [
      "$nums\n",
      " [1]   1 100   3   4   5   6   7   8   9  10\n",
      "\n",
      "$letters\n",
      "[1] \"a\" \"b\" \"c\"\n",
      "\n",
      "$random\n",
      "[1] 0.3604316 0.5651189 0.2421092 0.7588877 0.6213195 0.1777223\n",
      "\n"
     ]
    }
   ],
   "source": [
    "# Replace an item in a vector in the list\n",
    "y$nums[2] <- 100\n",
    "print(y)"
   ]
  },
  {
   "cell_type": "code",
   "execution_count": 62,
   "metadata": {
    "collapsed": false,
    "deletable": true,
    "editable": true
   },
   "outputs": [
    {
     "name": "stdout",
     "output_type": "stream",
     "text": [
      "$nums\n",
      " [1]   1 100   3   4   5   6   7   8   9  10\n",
      "\n",
      "$letters\n",
      "[1] \"d\" \"e\" \"f\" \"g\"\n",
      "\n",
      "$random\n",
      "[1] 0.3604316 0.5651189 0.2421092 0.7588877 0.6213195 0.1777223\n",
      "\n"
     ]
    }
   ],
   "source": [
    "# Replace a whole item in the list selected use a character\n",
    "y[[\"letters\"]] <- letters[4:7]\n",
    "print(y)"
   ]
  },
  {
   "cell_type": "code",
   "execution_count": 63,
   "metadata": {
    "collapsed": false,
    "deletable": true,
    "editable": true
   },
   "outputs": [
    {
     "name": "stdout",
     "output_type": "stream",
     "text": [
      "$nums\n",
      " [1]   1 100   3   4   5   6   7   8   9  10\n",
      "\n",
      "$letters\n",
      "[1] \"d\" \"e\" \"f\" \"g\"\n",
      "\n",
      "$random\n",
      "[1]  1.1076052 -0.2597612 -0.6168398\n",
      "\n"
     ]
    }
   ],
   "source": [
    "# Replace an item in the list selected with a logical vector\n",
    "y[c(F, F, T)] <- list(rnorm(3))\n",
    "print(y)"
   ]
  },
  {
   "cell_type": "code",
   "execution_count": 64,
   "metadata": {
    "collapsed": false
   },
   "outputs": [
    {
     "data": {
      "text/html": [
       "3"
      ],
      "text/latex": [
       "3"
      ],
      "text/markdown": [
       "3"
      ],
      "text/plain": [
       "[1] 3"
      ]
     },
     "metadata": {},
     "output_type": "display_data"
    }
   ],
   "source": [
    "# Access items with just index numbers\n",
    "y[[1]][3]"
   ]
  },
  {
   "cell_type": "code",
   "execution_count": 67,
   "metadata": {
    "collapsed": false
   },
   "outputs": [
    {
     "name": "stdout",
     "output_type": "stream",
     "text": [
      "$nums\n",
      " [1]   1 100   3   4  50   6   7   8   9  10\n",
      "\n",
      "$letters\n",
      "[1] \"d\" \"e\" \"f\" \"g\"\n",
      "\n",
      "$random\n",
      "[1]  1.1076052 -0.2597612 -0.6168398\n",
      "\n"
     ]
    }
   ],
   "source": [
    "y[[1]][5] <- 50\n",
    "print(y)"
   ]
  },
  {
   "cell_type": "markdown",
   "metadata": {
    "deletable": true,
    "editable": true
   },
   "source": [
    "Coercing a vector to a list:"
   ]
  },
  {
   "cell_type": "code",
   "execution_count": 17,
   "metadata": {
    "collapsed": false,
    "deletable": true,
    "editable": true
   },
   "outputs": [
    {
     "name": "stdout",
     "output_type": "stream",
     "text": [
      "[[1]]\n",
      "[1] 1\n",
      "\n",
      "[[2]]\n",
      "[1] 2\n",
      "\n",
      "[[3]]\n",
      "[1] 3\n",
      "\n"
     ]
    }
   ],
   "source": [
    "print(as.list(1:3))"
   ]
  },
  {
   "cell_type": "markdown",
   "metadata": {
    "deletable": true,
    "editable": true
   },
   "source": [
    "# Exercise 1.10\n",
    "\n",
    "**Question 1**\n",
    "\n",
    "Create a list for a customer entity containing his name \"Greg Marks\", age 34, height 180, location Luton, occupation Dentist, address \"1 Greek Street\""
   ]
  },
  {
   "cell_type": "code",
   "execution_count": null,
   "metadata": {
    "collapsed": true,
    "deletable": true,
    "editable": true
   },
   "outputs": [],
   "source": []
  },
  {
   "cell_type": "markdown",
   "metadata": {
    "deletable": true,
    "editable": true
   },
   "source": [
    "**Question 2**\n",
    "\n",
    "You discover that the adress is actually \"12 Dickson Road\". Update the customer details in the list to reflect this."
   ]
  },
  {
   "cell_type": "code",
   "execution_count": null,
   "metadata": {
    "collapsed": true,
    "deletable": true,
    "editable": true
   },
   "outputs": [],
   "source": []
  },
  {
   "cell_type": "markdown",
   "metadata": {
    "deletable": true,
    "editable": true
   },
   "source": [
    "**Question 3**\n",
    "\n",
    "Select the name and occupation from list"
   ]
  },
  {
   "cell_type": "code",
   "execution_count": null,
   "metadata": {
    "collapsed": true,
    "deletable": true,
    "editable": true
   },
   "outputs": [],
   "source": []
  },
  {
   "cell_type": "markdown",
   "metadata": {
    "deletable": true,
    "editable": true
   },
   "source": [
    "## DataFrames\n",
    "\n",
    "Data frames are tables composed of columns as vectors, they can be thought of as special types of list where all entries are vectors of equal length. Data frames can be created by using the `\"data.frame\"` function, or coercing a list using `\"as.data.frame\"`."
   ]
  },
  {
   "cell_type": "code",
   "execution_count": 18,
   "metadata": {
    "collapsed": false,
    "deletable": true,
    "editable": true
   },
   "outputs": [
    {
     "data": {
      "text/html": [
       "<table>\n",
       "<thead><tr><th scope=col>product</th><th scope=col>count</th><th scope=col>grade</th></tr></thead>\n",
       "<tbody>\n",
       "\t<tr><td>productA</td><td>128     </td><td>a       </td></tr>\n",
       "\t<tr><td>productA</td><td>176     </td><td>a       </td></tr>\n",
       "\t<tr><td>productB</td><td>173     </td><td>c       </td></tr>\n",
       "\t<tr><td>productA</td><td>106     </td><td>a       </td></tr>\n",
       "\t<tr><td>productA</td><td>115     </td><td>e       </td></tr>\n",
       "\t<tr><td>productC</td><td>142     </td><td>b       </td></tr>\n",
       "\t<tr><td>productA</td><td>180     </td><td>e       </td></tr>\n",
       "\t<tr><td>productC</td><td>166     </td><td>d       </td></tr>\n",
       "\t<tr><td>productC</td><td>192     </td><td>d       </td></tr>\n",
       "\t<tr><td>productC</td><td>120     </td><td>d       </td></tr>\n",
       "\t<tr><td>productA</td><td>105     </td><td>d       </td></tr>\n",
       "\t<tr><td>productB</td><td>196     </td><td>e       </td></tr>\n",
       "\t<tr><td>productB</td><td>143     </td><td>d       </td></tr>\n",
       "\t<tr><td>productC</td><td>150     </td><td>a       </td></tr>\n",
       "\t<tr><td>productC</td><td>131     </td><td>d       </td></tr>\n",
       "</tbody>\n",
       "</table>\n"
      ],
      "text/latex": [
       "\\begin{tabular}{r|lll}\n",
       " product & count & grade\\\\\n",
       "\\hline\n",
       "\t productA & 128      & a       \\\\\n",
       "\t productA & 176      & a       \\\\\n",
       "\t productB & 173      & c       \\\\\n",
       "\t productA & 106      & a       \\\\\n",
       "\t productA & 115      & e       \\\\\n",
       "\t productC & 142      & b       \\\\\n",
       "\t productA & 180      & e       \\\\\n",
       "\t productC & 166      & d       \\\\\n",
       "\t productC & 192      & d       \\\\\n",
       "\t productC & 120      & d       \\\\\n",
       "\t productA & 105      & d       \\\\\n",
       "\t productB & 196      & e       \\\\\n",
       "\t productB & 143      & d       \\\\\n",
       "\t productC & 150      & a       \\\\\n",
       "\t productC & 131      & d       \\\\\n",
       "\\end{tabular}\n"
      ],
      "text/markdown": [
       "\n",
       "product | count | grade | \n",
       "|---|---|---|---|---|---|---|---|---|---|---|---|---|---|---|\n",
       "| productA | 128      | a        | \n",
       "| productA | 176      | a        | \n",
       "| productB | 173      | c        | \n",
       "| productA | 106      | a        | \n",
       "| productA | 115      | e        | \n",
       "| productC | 142      | b        | \n",
       "| productA | 180      | e        | \n",
       "| productC | 166      | d        | \n",
       "| productC | 192      | d        | \n",
       "| productC | 120      | d        | \n",
       "| productA | 105      | d        | \n",
       "| productB | 196      | e        | \n",
       "| productB | 143      | d        | \n",
       "| productC | 150      | a        | \n",
       "| productC | 131      | d        | \n",
       "\n",
       "\n"
      ],
      "text/plain": [
       "   product  count grade\n",
       "1  productA 128   a    \n",
       "2  productA 176   a    \n",
       "3  productB 173   c    \n",
       "4  productA 106   a    \n",
       "5  productA 115   e    \n",
       "6  productC 142   b    \n",
       "7  productA 180   e    \n",
       "8  productC 166   d    \n",
       "9  productC 192   d    \n",
       "10 productC 120   d    \n",
       "11 productA 105   d    \n",
       "12 productB 196   e    \n",
       "13 productB 143   d    \n",
       "14 productC 150   a    \n",
       "15 productC 131   d    "
      ]
     },
     "metadata": {},
     "output_type": "display_data"
    }
   ],
   "source": [
    "n <- 15\n",
    "dat <- data.frame(product = sample(c(\"productA\", \"productB\", \"productC\"), n, T, prob = c(3, 1, 2)),\n",
    "          count = sample(100:200, n), grade = sample(letters[1:5], n, T))\n",
    "dat"
   ]
  },
  {
   "cell_type": "code",
   "execution_count": 19,
   "metadata": {
    "collapsed": false,
    "deletable": true,
    "editable": true,
    "scrolled": true
   },
   "outputs": [
    {
     "data": {
      "text/html": [
       "<table>\n",
       "<thead><tr><th scope=col>product</th><th scope=col>count</th><th scope=col>grade</th></tr></thead>\n",
       "<tbody>\n",
       "\t<tr><td>productA</td><td>128     </td><td>a       </td></tr>\n",
       "\t<tr><td>productA</td><td>176     </td><td>a       </td></tr>\n",
       "\t<tr><td>productB</td><td>173     </td><td>c       </td></tr>\n",
       "\t<tr><td>productA</td><td>106     </td><td>a       </td></tr>\n",
       "</tbody>\n",
       "</table>\n"
      ],
      "text/latex": [
       "\\begin{tabular}{r|lll}\n",
       " product & count & grade\\\\\n",
       "\\hline\n",
       "\t productA & 128      & a       \\\\\n",
       "\t productA & 176      & a       \\\\\n",
       "\t productB & 173      & c       \\\\\n",
       "\t productA & 106      & a       \\\\\n",
       "\\end{tabular}\n"
      ],
      "text/markdown": [
       "\n",
       "product | count | grade | \n",
       "|---|---|---|---|\n",
       "| productA | 128      | a        | \n",
       "| productA | 176      | a        | \n",
       "| productB | 173      | c        | \n",
       "| productA | 106      | a        | \n",
       "\n",
       "\n"
      ],
      "text/plain": [
       "  product  count grade\n",
       "1 productA 128   a    \n",
       "2 productA 176   a    \n",
       "3 productB 173   c    \n",
       "4 productA 106   a    "
      ]
     },
     "metadata": {},
     "output_type": "display_data"
    }
   ],
   "source": [
    "# The head function returns the top rows of the table\n",
    "head(dat, 4)"
   ]
  },
  {
   "cell_type": "code",
   "execution_count": 20,
   "metadata": {
    "collapsed": false,
    "deletable": true,
    "editable": true,
    "scrolled": true
   },
   "outputs": [
    {
     "data": {
      "text/html": [
       "<table>\n",
       "<thead><tr><th></th><th scope=col>product</th><th scope=col>count</th><th scope=col>grade</th></tr></thead>\n",
       "<tbody>\n",
       "\t<tr><th scope=row>12</th><td>productB</td><td>196     </td><td>e       </td></tr>\n",
       "\t<tr><th scope=row>13</th><td>productB</td><td>143     </td><td>d       </td></tr>\n",
       "\t<tr><th scope=row>14</th><td>productC</td><td>150     </td><td>a       </td></tr>\n",
       "\t<tr><th scope=row>15</th><td>productC</td><td>131     </td><td>d       </td></tr>\n",
       "</tbody>\n",
       "</table>\n"
      ],
      "text/latex": [
       "\\begin{tabular}{r|lll}\n",
       "  & product & count & grade\\\\\n",
       "\\hline\n",
       "\t12 & productB & 196      & e       \\\\\n",
       "\t13 & productB & 143      & d       \\\\\n",
       "\t14 & productC & 150      & a       \\\\\n",
       "\t15 & productC & 131      & d       \\\\\n",
       "\\end{tabular}\n"
      ],
      "text/markdown": [
       "\n",
       "| <!--/--> | product | count | grade | \n",
       "|---|---|---|---|\n",
       "| 12 | productB | 196      | e        | \n",
       "| 13 | productB | 143      | d        | \n",
       "| 14 | productC | 150      | a        | \n",
       "| 15 | productC | 131      | d        | \n",
       "\n",
       "\n"
      ],
      "text/plain": [
       "   product  count grade\n",
       "12 productB 196   e    \n",
       "13 productB 143   d    \n",
       "14 productC 150   a    \n",
       "15 productC 131   d    "
      ]
     },
     "metadata": {},
     "output_type": "display_data"
    }
   ],
   "source": [
    "# The tail function returns the bottom rows of the table\n",
    "tail(dat, 4)"
   ]
  },
  {
   "cell_type": "code",
   "execution_count": 21,
   "metadata": {
    "collapsed": false,
    "deletable": true,
    "editable": true
   },
   "outputs": [
    {
     "data": {
      "text/html": [
       "<table>\n",
       "<thead><tr><th scope=col>product</th><th scope=col>count</th><th scope=col>grade</th><th scope=col>price</th></tr></thead>\n",
       "<tbody>\n",
       "\t<tr><td>productA</td><td>128     </td><td>a       </td><td>18      </td></tr>\n",
       "\t<tr><td>productA</td><td>176     </td><td>a       </td><td>18      </td></tr>\n",
       "\t<tr><td>productB</td><td>173     </td><td>c       </td><td>17      </td></tr>\n",
       "\t<tr><td>productA</td><td>106     </td><td>a       </td><td>15      </td></tr>\n",
       "</tbody>\n",
       "</table>\n"
      ],
      "text/latex": [
       "\\begin{tabular}{r|llll}\n",
       " product & count & grade & price\\\\\n",
       "\\hline\n",
       "\t productA & 128      & a        & 18      \\\\\n",
       "\t productA & 176      & a        & 18      \\\\\n",
       "\t productB & 173      & c        & 17      \\\\\n",
       "\t productA & 106      & a        & 15      \\\\\n",
       "\\end{tabular}\n"
      ],
      "text/markdown": [
       "\n",
       "product | count | grade | price | \n",
       "|---|---|---|---|\n",
       "| productA | 128      | a        | 18       | \n",
       "| productA | 176      | a        | 18       | \n",
       "| productB | 173      | c        | 17       | \n",
       "| productA | 106      | a        | 15       | \n",
       "\n",
       "\n"
      ],
      "text/plain": [
       "  product  count grade price\n",
       "1 productA 128   a     18   \n",
       "2 productA 176   a     18   \n",
       "3 productB 173   c     17   \n",
       "4 productA 106   a     15   "
      ]
     },
     "metadata": {},
     "output_type": "display_data"
    }
   ],
   "source": [
    "# Appending columns to a data.frame\n",
    "dat$price <- sample(10:20, n, T)\n",
    "dat[1:4,]"
   ]
  },
  {
   "cell_type": "code",
   "execution_count": 22,
   "metadata": {
    "collapsed": false,
    "deletable": true,
    "editable": true
   },
   "outputs": [
    {
     "data": {
      "text/html": [
       "<ol class=list-inline>\n",
       "\t<li>15</li>\n",
       "\t<li>4</li>\n",
       "</ol>\n"
      ],
      "text/latex": [
       "\\begin{enumerate*}\n",
       "\\item 15\n",
       "\\item 4\n",
       "\\end{enumerate*}\n"
      ],
      "text/markdown": [
       "1. 15\n",
       "2. 4\n",
       "\n",
       "\n"
      ],
      "text/plain": [
       "[1] 15  4"
      ]
     },
     "metadata": {},
     "output_type": "display_data"
    }
   ],
   "source": [
    "# The number of rows and columns in a data frame\n",
    "dim(dat)"
   ]
  },
  {
   "cell_type": "code",
   "execution_count": 23,
   "metadata": {
    "collapsed": false,
    "deletable": true,
    "editable": true
   },
   "outputs": [
    {
     "data": {
      "text/html": [
       "15"
      ],
      "text/latex": [
       "15"
      ],
      "text/markdown": [
       "15"
      ],
      "text/plain": [
       "[1] 15"
      ]
     },
     "metadata": {},
     "output_type": "display_data"
    }
   ],
   "source": [
    "# The number of rows in a data frame\n",
    "nrow(dat)"
   ]
  },
  {
   "cell_type": "code",
   "execution_count": 24,
   "metadata": {
    "collapsed": false,
    "deletable": true,
    "editable": true
   },
   "outputs": [
    {
     "data": {
      "text/html": [
       "4"
      ],
      "text/latex": [
       "4"
      ],
      "text/markdown": [
       "4"
      ],
      "text/plain": [
       "[1] 4"
      ]
     },
     "metadata": {},
     "output_type": "display_data"
    }
   ],
   "source": [
    "# The number of columns in a data frame\n",
    "ncol(dat)"
   ]
  },
  {
   "cell_type": "markdown",
   "metadata": {
    "deletable": true,
    "editable": true
   },
   "source": [
    "Creating a data frame from a list:"
   ]
  },
  {
   "cell_type": "code",
   "execution_count": 25,
   "metadata": {
    "collapsed": false,
    "deletable": true,
    "editable": true
   },
   "outputs": [
    {
     "name": "stdout",
     "output_type": "stream",
     "text": [
      "$product\n",
      " [1] \"productA\" \"productA\" \"productA\" \"productA\" \"productC\" \"productA\"\n",
      " [7] \"productA\" \"productA\" \"productA\" \"productC\"\n",
      "\n",
      "$count\n",
      " [1] 132 176 137 179 184 103 192 169 129 164\n",
      "\n",
      "$grade\n",
      " [1] \"d\" \"b\" \"b\" \"e\" \"b\" \"c\" \"d\" \"c\" \"d\" \"c\"\n",
      "\n"
     ]
    }
   ],
   "source": [
    "n <- 10\n",
    "dat2 <- list(product = sample(c(\"productA\", \"productB\", \"productC\"), n, T, prob = c(3, 1, 2)),\n",
    "          count = sample(100:200, n), grade = sample(letters[1:5], n, T))\n",
    "print(dat2)"
   ]
  },
  {
   "cell_type": "code",
   "execution_count": 26,
   "metadata": {
    "collapsed": false,
    "deletable": true,
    "editable": true
   },
   "outputs": [
    {
     "data": {
      "text/html": [
       "<table>\n",
       "<thead><tr><th scope=col>product</th><th scope=col>count</th><th scope=col>grade</th></tr></thead>\n",
       "<tbody>\n",
       "\t<tr><td>productA</td><td>132     </td><td>d       </td></tr>\n",
       "\t<tr><td>productA</td><td>176     </td><td>b       </td></tr>\n",
       "\t<tr><td>productA</td><td>137     </td><td>b       </td></tr>\n",
       "\t<tr><td>productA</td><td>179     </td><td>e       </td></tr>\n",
       "\t<tr><td>productC</td><td>184     </td><td>b       </td></tr>\n",
       "\t<tr><td>productA</td><td>103     </td><td>c       </td></tr>\n",
       "\t<tr><td>productA</td><td>192     </td><td>d       </td></tr>\n",
       "\t<tr><td>productA</td><td>169     </td><td>c       </td></tr>\n",
       "\t<tr><td>productA</td><td>129     </td><td>d       </td></tr>\n",
       "\t<tr><td>productC</td><td>164     </td><td>c       </td></tr>\n",
       "</tbody>\n",
       "</table>\n"
      ],
      "text/latex": [
       "\\begin{tabular}{r|lll}\n",
       " product & count & grade\\\\\n",
       "\\hline\n",
       "\t productA & 132      & d       \\\\\n",
       "\t productA & 176      & b       \\\\\n",
       "\t productA & 137      & b       \\\\\n",
       "\t productA & 179      & e       \\\\\n",
       "\t productC & 184      & b       \\\\\n",
       "\t productA & 103      & c       \\\\\n",
       "\t productA & 192      & d       \\\\\n",
       "\t productA & 169      & c       \\\\\n",
       "\t productA & 129      & d       \\\\\n",
       "\t productC & 164      & c       \\\\\n",
       "\\end{tabular}\n"
      ],
      "text/markdown": [
       "\n",
       "product | count | grade | \n",
       "|---|---|---|---|---|---|---|---|---|---|\n",
       "| productA | 132      | d        | \n",
       "| productA | 176      | b        | \n",
       "| productA | 137      | b        | \n",
       "| productA | 179      | e        | \n",
       "| productC | 184      | b        | \n",
       "| productA | 103      | c        | \n",
       "| productA | 192      | d        | \n",
       "| productA | 169      | c        | \n",
       "| productA | 129      | d        | \n",
       "| productC | 164      | c        | \n",
       "\n",
       "\n"
      ],
      "text/plain": [
       "   product  count grade\n",
       "1  productA 132   d    \n",
       "2  productA 176   b    \n",
       "3  productA 137   b    \n",
       "4  productA 179   e    \n",
       "5  productC 184   b    \n",
       "6  productA 103   c    \n",
       "7  productA 192   d    \n",
       "8  productA 169   c    \n",
       "9  productA 129   d    \n",
       "10 productC 164   c    "
      ]
     },
     "metadata": {},
     "output_type": "display_data"
    }
   ],
   "source": [
    "# Coercing a list to a data frame\n",
    "dat2 <- as.data.frame(dat2)\n",
    "dat2"
   ]
  },
  {
   "cell_type": "markdown",
   "metadata": {
    "deletable": true,
    "editable": true
   },
   "source": [
    "Subsetting a data frame"
   ]
  },
  {
   "cell_type": "code",
   "execution_count": 27,
   "metadata": {
    "collapsed": false,
    "deletable": true,
    "editable": true
   },
   "outputs": [
    {
     "data": {
      "text/html": [
       "<table>\n",
       "<thead><tr><th scope=col>product</th><th scope=col>count</th></tr></thead>\n",
       "<tbody>\n",
       "\t<tr><td>productA</td><td>128     </td></tr>\n",
       "\t<tr><td>productA</td><td>176     </td></tr>\n",
       "\t<tr><td>productB</td><td>173     </td></tr>\n",
       "\t<tr><td>productA</td><td>106     </td></tr>\n",
       "\t<tr><td>productA</td><td>115     </td></tr>\n",
       "</tbody>\n",
       "</table>\n"
      ],
      "text/latex": [
       "\\begin{tabular}{r|ll}\n",
       " product & count\\\\\n",
       "\\hline\n",
       "\t productA & 128     \\\\\n",
       "\t productA & 176     \\\\\n",
       "\t productB & 173     \\\\\n",
       "\t productA & 106     \\\\\n",
       "\t productA & 115     \\\\\n",
       "\\end{tabular}\n"
      ],
      "text/markdown": [
       "\n",
       "product | count | \n",
       "|---|---|---|---|---|\n",
       "| productA | 128      | \n",
       "| productA | 176      | \n",
       "| productB | 173      | \n",
       "| productA | 106      | \n",
       "| productA | 115      | \n",
       "\n",
       "\n"
      ],
      "text/plain": [
       "  product  count\n",
       "1 productA 128  \n",
       "2 productA 176  \n",
       "3 productB 173  \n",
       "4 productA 106  \n",
       "5 productA 115  "
      ]
     },
     "metadata": {},
     "output_type": "display_data"
    }
   ],
   "source": [
    "# Selection using integers (same as for matrices)\n",
    "dat[1:5, 1:2]"
   ]
  },
  {
   "cell_type": "code",
   "execution_count": 28,
   "metadata": {
    "collapsed": false,
    "deletable": true,
    "editable": true
   },
   "outputs": [
    {
     "data": {
      "text/html": [
       "<table>\n",
       "<thead><tr><th scope=col>product</th><th scope=col>grade</th></tr></thead>\n",
       "<tbody>\n",
       "\t<tr><td>productA</td><td>a       </td></tr>\n",
       "\t<tr><td>productA</td><td>a       </td></tr>\n",
       "\t<tr><td>productB</td><td>c       </td></tr>\n",
       "\t<tr><td>productA</td><td>a       </td></tr>\n",
       "\t<tr><td>productA</td><td>e       </td></tr>\n",
       "</tbody>\n",
       "</table>\n"
      ],
      "text/latex": [
       "\\begin{tabular}{r|ll}\n",
       " product & grade\\\\\n",
       "\\hline\n",
       "\t productA & a       \\\\\n",
       "\t productA & a       \\\\\n",
       "\t productB & c       \\\\\n",
       "\t productA & a       \\\\\n",
       "\t productA & e       \\\\\n",
       "\\end{tabular}\n"
      ],
      "text/markdown": [
       "\n",
       "product | grade | \n",
       "|---|---|---|---|---|\n",
       "| productA | a        | \n",
       "| productA | a        | \n",
       "| productB | c        | \n",
       "| productA | a        | \n",
       "| productA | e        | \n",
       "\n",
       "\n"
      ],
      "text/plain": [
       "  product  grade\n",
       "1 productA a    \n",
       "2 productA a    \n",
       "3 productB c    \n",
       "4 productA a    \n",
       "5 productA e    "
      ]
     },
     "metadata": {},
     "output_type": "display_data"
    }
   ],
   "source": [
    "# Selection using column names and integer for rows\n",
    "dat[1:5, c(\"product\", \"grade\")]"
   ]
  },
  {
   "cell_type": "markdown",
   "metadata": {
    "deletable": true,
    "editable": true
   },
   "source": [
    "Dollar notation for select a column"
   ]
  },
  {
   "cell_type": "code",
   "execution_count": 29,
   "metadata": {
    "collapsed": false,
    "deletable": true,
    "editable": true
   },
   "outputs": [
    {
     "name": "stdout",
     "output_type": "stream",
     "text": [
      " [1] a a c a e b e d d d d e d a d\n",
      "Levels: a b c d e\n"
     ]
    }
   ],
   "source": [
    "# Select the grade column, note that it is a factor\n",
    "# R automatically converts character vectors to factors\n",
    "#     when they are included in a data frame\n",
    "print(dat$grade)"
   ]
  },
  {
   "cell_type": "code",
   "execution_count": 30,
   "metadata": {
    "collapsed": false,
    "deletable": true,
    "editable": true
   },
   "outputs": [
    {
     "data": {
      "text/html": [
       "<table>\n",
       "<thead><tr><th></th><th scope=col>product</th><th scope=col>count</th><th scope=col>grade</th><th scope=col>price</th></tr></thead>\n",
       "<tbody>\n",
       "\t<tr><th scope=row>1</th><td>productA</td><td>128     </td><td>a       </td><td>18      </td></tr>\n",
       "\t<tr><th scope=row>4</th><td>productA</td><td>106     </td><td>a       </td><td>15      </td></tr>\n",
       "\t<tr><th scope=row>6</th><td>productC</td><td>142     </td><td>b       </td><td>10      </td></tr>\n",
       "</tbody>\n",
       "</table>\n"
      ],
      "text/latex": [
       "\\begin{tabular}{r|llll}\n",
       "  & product & count & grade & price\\\\\n",
       "\\hline\n",
       "\t1 & productA & 128      & a        & 18      \\\\\n",
       "\t4 & productA & 106      & a        & 15      \\\\\n",
       "\t6 & productC & 142      & b        & 10      \\\\\n",
       "\\end{tabular}\n"
      ],
      "text/markdown": [
       "\n",
       "| <!--/--> | product | count | grade | price | \n",
       "|---|---|---|\n",
       "| 1 | productA | 128      | a        | 18       | \n",
       "| 4 | productA | 106      | a        | 15       | \n",
       "| 6 | productC | 142      | b        | 10       | \n",
       "\n",
       "\n"
      ],
      "text/plain": [
       "  product  count grade price\n",
       "1 productA 128   a     18   \n",
       "4 productA 106   a     15   \n",
       "6 productC 142   b     10   "
      ]
     },
     "metadata": {},
     "output_type": "display_data"
    }
   ],
   "source": [
    "# Selection using logical vectors\n",
    "dat[(dat$grade %in% c(\"a\", \"b\", \"c\")) & (dat$count < 150),]"
   ]
  },
  {
   "cell_type": "markdown",
   "metadata": {
    "deletable": true,
    "editable": true
   },
   "source": [
    "# Exercise 1.11\n",
    "\n",
    "**Question 1**\n",
    "\n",
    "Use the `\"head\"` and `\"tail\"` functions to look at the `\"iris\"` dataset. What are the range of values of each of the numeric columns? Hint use the function `\"range\"`. Use the `\"summary\"` function to summarize the `\"iris\"` dataset."
   ]
  },
  {
   "cell_type": "code",
   "execution_count": null,
   "metadata": {
    "collapsed": true,
    "deletable": true,
    "editable": true
   },
   "outputs": [],
   "source": []
  },
  {
   "cell_type": "markdown",
   "metadata": {
    "deletable": true,
    "editable": true
   },
   "source": [
    "**Question 2**\n",
    "\n",
    "Subset the `\"iris\"` dataset using by selecting where `\"Species\"` is `\"setosa\"` and `\"Sepal.Length\"` is less than `4.5`."
   ]
  },
  {
   "cell_type": "code",
   "execution_count": null,
   "metadata": {
    "collapsed": true,
    "deletable": true,
    "editable": true
   },
   "outputs": [],
   "source": []
  },
  {
   "cell_type": "markdown",
   "metadata": {
    "deletable": true,
    "editable": true
   },
   "source": [
    "**Question 3**\n",
    "\n",
    "Select the first 4 rows and 3 columns of the `\"iris\"` data set."
   ]
  },
  {
   "cell_type": "code",
   "execution_count": null,
   "metadata": {
    "collapsed": true,
    "deletable": true,
    "editable": true
   },
   "outputs": [],
   "source": []
  },
  {
   "cell_type": "markdown",
   "metadata": {
    "deletable": true,
    "editable": true
   },
   "source": [
    "## Introduction to environments\n",
    "\n",
    "Environments are scopes in which R's program data exists. So far you have been using environments implicitly and in this section, we will use them explicitly. Environments are very similar to lists and dataframes so are their syntactic use.\n",
    "\n",
    "The variables you create on R's console exist in the global environment `\".GlobalEnv\"`. The `\"ls\"` function lists all the variables in a specific environment (defaults to the global environment)."
   ]
  },
  {
   "cell_type": "code",
   "execution_count": 31,
   "metadata": {
    "collapsed": true,
    "deletable": true,
    "editable": true
   },
   "outputs": [],
   "source": [
    "# Clear the Global environment\n",
    "rm(list = ls())"
   ]
  },
  {
   "cell_type": "code",
   "execution_count": 32,
   "metadata": {
    "collapsed": false,
    "deletable": true,
    "editable": true
   },
   "outputs": [
    {
     "data": {
      "text/html": [],
      "text/latex": [],
      "text/markdown": [],
      "text/plain": [
       "character(0)"
      ]
     },
     "metadata": {},
     "output_type": "display_data"
    }
   ],
   "source": [
    "# Nothing in the .GlobalEnv\n",
    "ls()"
   ]
  },
  {
   "cell_type": "code",
   "execution_count": 33,
   "metadata": {
    "collapsed": true,
    "deletable": true,
    "editable": true
   },
   "outputs": [],
   "source": [
    "# Create a variable\n",
    "x <- 1:10"
   ]
  },
  {
   "cell_type": "code",
   "execution_count": 34,
   "metadata": {
    "collapsed": false,
    "deletable": true,
    "editable": true
   },
   "outputs": [
    {
     "data": {
      "text/html": [
       "'x'"
      ],
      "text/latex": [
       "'x'"
      ],
      "text/markdown": [
       "'x'"
      ],
      "text/plain": [
       "[1] \"x\""
      ]
     },
     "metadata": {},
     "output_type": "display_data"
    }
   ],
   "source": [
    "# Now x exists in the global environment\n",
    "ls()"
   ]
  },
  {
   "cell_type": "code",
   "execution_count": 35,
   "metadata": {
    "collapsed": false,
    "deletable": true,
    "editable": true
   },
   "outputs": [
    {
     "name": "stdout",
     "output_type": "stream",
     "text": [
      " [1]  1  2  3  4  5  6  7  8  9 10\n"
     ]
    }
   ],
   "source": [
    "# Selecting items from environments using \"$\" notation\n",
    "print(.GlobalEnv$x)"
   ]
  },
  {
   "cell_type": "code",
   "execution_count": 36,
   "metadata": {
    "collapsed": false,
    "deletable": true,
    "editable": true
   },
   "outputs": [
    {
     "name": "stdout",
     "output_type": "stream",
     "text": [
      " [1]  1  2  3  4  5  6  7  8  9 10\n"
     ]
    }
   ],
   "source": [
    "# Selecting items with `[[` notation\n",
    "print(.GlobalEnv[[\"x\"]])"
   ]
  },
  {
   "cell_type": "code",
   "execution_count": 37,
   "metadata": {
    "collapsed": false,
    "deletable": true,
    "editable": true
   },
   "outputs": [
    {
     "name": "stdout",
     "output_type": "stream",
     "text": [
      "[1] 0.03130489 0.90469475 0.36439059 0.17350653 0.59770837\n"
     ]
    }
   ],
   "source": [
    "# Assigning to environment\n",
    ".GlobalEnv$y <- runif(5)\n",
    "print(.GlobalEnv$y)"
   ]
  },
  {
   "cell_type": "code",
   "execution_count": 38,
   "metadata": {
    "collapsed": false,
    "deletable": true,
    "editable": true
   },
   "outputs": [
    {
     "data": {
      "text/plain": [
       "<environment: 0x2d3a3c8>"
      ]
     },
     "metadata": {},
     "output_type": "display_data"
    }
   ],
   "source": [
    "# Create environments\n",
    "env1 <- new.env()\n",
    "env1"
   ]
  },
  {
   "cell_type": "code",
   "execution_count": 39,
   "metadata": {
    "collapsed": false,
    "deletable": true,
    "editable": true
   },
   "outputs": [
    {
     "name": "stdout",
     "output_type": "stream",
     "text": [
      "[1] -1.8585510 -0.5712807 -1.4818808  1.0021203\n"
     ]
    }
   ],
   "source": [
    "# Return items from environment\n",
    "env1$z <- rnorm(4)\n",
    "print(env1$z)"
   ]
  },
  {
   "cell_type": "markdown",
   "metadata": {
    "deletable": true,
    "editable": true
   },
   "source": [
    "R packages are basically locked environments loaded into R"
   ]
  },
  {
   "cell_type": "code",
   "execution_count": 40,
   "metadata": {
    "collapsed": false,
    "deletable": true,
    "editable": true
   },
   "outputs": [
    {
     "data": {
      "text/html": [
       "<ol class=list-inline>\n",
       "\t<li>'.GlobalEnv'</li>\n",
       "\t<li>'jupyter:irkernel'</li>\n",
       "\t<li>'jupyter:irkernel'</li>\n",
       "\t<li>'package:stats'</li>\n",
       "\t<li>'package:graphics'</li>\n",
       "\t<li>'package:grDevices'</li>\n",
       "\t<li>'package:utils'</li>\n",
       "\t<li>'package:datasets'</li>\n",
       "\t<li>'package:methods'</li>\n",
       "\t<li>'Autoloads'</li>\n",
       "\t<li>'package:base'</li>\n",
       "</ol>\n"
      ],
      "text/latex": [
       "\\begin{enumerate*}\n",
       "\\item '.GlobalEnv'\n",
       "\\item 'jupyter:irkernel'\n",
       "\\item 'jupyter:irkernel'\n",
       "\\item 'package:stats'\n",
       "\\item 'package:graphics'\n",
       "\\item 'package:grDevices'\n",
       "\\item 'package:utils'\n",
       "\\item 'package:datasets'\n",
       "\\item 'package:methods'\n",
       "\\item 'Autoloads'\n",
       "\\item 'package:base'\n",
       "\\end{enumerate*}\n"
      ],
      "text/markdown": [
       "1. '.GlobalEnv'\n",
       "2. 'jupyter:irkernel'\n",
       "3. 'jupyter:irkernel'\n",
       "4. 'package:stats'\n",
       "5. 'package:graphics'\n",
       "6. 'package:grDevices'\n",
       "7. 'package:utils'\n",
       "8. 'package:datasets'\n",
       "9. 'package:methods'\n",
       "10. 'Autoloads'\n",
       "11. 'package:base'\n",
       "\n",
       "\n"
      ],
      "text/plain": [
       " [1] \".GlobalEnv\"        \"jupyter:irkernel\"  \"jupyter:irkernel\" \n",
       " [4] \"package:stats\"     \"package:graphics\"  \"package:grDevices\"\n",
       " [7] \"package:utils\"     \"package:datasets\"  \"package:methods\"  \n",
       "[10] \"Autoloads\"         \"package:base\"     "
      ]
     },
     "metadata": {},
     "output_type": "display_data"
    }
   ],
   "source": [
    "# The \"search\" function shows all the attached items\n",
    "search()"
   ]
  },
  {
   "cell_type": "code",
   "execution_count": 41,
   "metadata": {
    "collapsed": false,
    "deletable": true,
    "editable": true
   },
   "outputs": [
    {
     "data": {
      "text/plain": [
       "<environment: package:stats>\n",
       "attr(,\"name\")\n",
       "[1] \"package:stats\"\n",
       "attr(,\"path\")\n",
       "[1] \"/usr/lib/R/library/stats\""
      ]
     },
     "metadata": {},
     "output_type": "display_data"
    }
   ],
   "source": [
    "# Showing that packages are actually environments with attributes\n",
    "as.environment(\"package:stats\")"
   ]
  },
  {
   "cell_type": "code",
   "execution_count": 42,
   "metadata": {
    "collapsed": true,
    "deletable": true,
    "editable": true
   },
   "outputs": [],
   "source": [
    "# Attaching the iris data.frame\n",
    "attach(iris)"
   ]
  },
  {
   "cell_type": "code",
   "execution_count": 43,
   "metadata": {
    "collapsed": false,
    "deletable": true,
    "editable": true
   },
   "outputs": [
    {
     "data": {
      "text/html": [
       "<ol class=list-inline>\n",
       "\t<li>'.GlobalEnv'</li>\n",
       "\t<li>'iris'</li>\n",
       "\t<li>'jupyter:irkernel'</li>\n",
       "\t<li>'jupyter:irkernel'</li>\n",
       "\t<li>'package:stats'</li>\n",
       "\t<li>'package:graphics'</li>\n",
       "\t<li>'package:grDevices'</li>\n",
       "\t<li>'package:utils'</li>\n",
       "\t<li>'package:datasets'</li>\n",
       "\t<li>'package:methods'</li>\n",
       "\t<li>'Autoloads'</li>\n",
       "\t<li>'package:base'</li>\n",
       "</ol>\n"
      ],
      "text/latex": [
       "\\begin{enumerate*}\n",
       "\\item '.GlobalEnv'\n",
       "\\item 'iris'\n",
       "\\item 'jupyter:irkernel'\n",
       "\\item 'jupyter:irkernel'\n",
       "\\item 'package:stats'\n",
       "\\item 'package:graphics'\n",
       "\\item 'package:grDevices'\n",
       "\\item 'package:utils'\n",
       "\\item 'package:datasets'\n",
       "\\item 'package:methods'\n",
       "\\item 'Autoloads'\n",
       "\\item 'package:base'\n",
       "\\end{enumerate*}\n"
      ],
      "text/markdown": [
       "1. '.GlobalEnv'\n",
       "2. 'iris'\n",
       "3. 'jupyter:irkernel'\n",
       "4. 'jupyter:irkernel'\n",
       "5. 'package:stats'\n",
       "6. 'package:graphics'\n",
       "7. 'package:grDevices'\n",
       "8. 'package:utils'\n",
       "9. 'package:datasets'\n",
       "10. 'package:methods'\n",
       "11. 'Autoloads'\n",
       "12. 'package:base'\n",
       "\n",
       "\n"
      ],
      "text/plain": [
       " [1] \".GlobalEnv\"        \"iris\"              \"jupyter:irkernel\" \n",
       " [4] \"jupyter:irkernel\"  \"package:stats\"     \"package:graphics\" \n",
       " [7] \"package:grDevices\" \"package:utils\"     \"package:datasets\" \n",
       "[10] \"package:methods\"   \"Autoloads\"         \"package:base\"     "
      ]
     },
     "metadata": {},
     "output_type": "display_data"
    }
   ],
   "source": [
    "# It is now loaded into R\n",
    "search()"
   ]
  },
  {
   "cell_type": "code",
   "execution_count": 44,
   "metadata": {
    "collapsed": false,
    "deletable": true,
    "editable": true
   },
   "outputs": [
    {
     "data": {
      "text/html": [
       "<ol class=list-inline>\n",
       "\t<li>setosa</li>\n",
       "\t<li>setosa</li>\n",
       "\t<li>setosa</li>\n",
       "\t<li>setosa</li>\n",
       "\t<li>setosa</li>\n",
       "</ol>\n"
      ],
      "text/latex": [
       "\\begin{enumerate*}\n",
       "\\item setosa\n",
       "\\item setosa\n",
       "\\item setosa\n",
       "\\item setosa\n",
       "\\item setosa\n",
       "\\end{enumerate*}\n"
      ],
      "text/markdown": [
       "1. setosa\n",
       "2. setosa\n",
       "3. setosa\n",
       "4. setosa\n",
       "5. setosa\n",
       "\n",
       "\n"
      ],
      "text/plain": [
       "[1] setosa setosa setosa setosa setosa\n",
       "Levels: setosa versicolor virginica"
      ]
     },
     "metadata": {},
     "output_type": "display_data"
    }
   ],
   "source": [
    "# The names in iris can be direcly accessed\n",
    "Species[1:5]"
   ]
  },
  {
   "cell_type": "code",
   "execution_count": 45,
   "metadata": {
    "collapsed": false,
    "deletable": true,
    "editable": true
   },
   "outputs": [],
   "source": [
    "# Detach the iris data.frame\n",
    "detach(iris)"
   ]
  },
  {
   "cell_type": "code",
   "execution_count": 46,
   "metadata": {
    "collapsed": false,
    "deletable": true,
    "editable": true
   },
   "outputs": [
    {
     "data": {
      "text/html": [
       "<ol class=list-inline>\n",
       "\t<li>'.GlobalEnv'</li>\n",
       "\t<li>'jupyter:irkernel'</li>\n",
       "\t<li>'jupyter:irkernel'</li>\n",
       "\t<li>'package:stats'</li>\n",
       "\t<li>'package:graphics'</li>\n",
       "\t<li>'package:grDevices'</li>\n",
       "\t<li>'package:utils'</li>\n",
       "\t<li>'package:datasets'</li>\n",
       "\t<li>'package:methods'</li>\n",
       "\t<li>'Autoloads'</li>\n",
       "\t<li>'package:base'</li>\n",
       "</ol>\n"
      ],
      "text/latex": [
       "\\begin{enumerate*}\n",
       "\\item '.GlobalEnv'\n",
       "\\item 'jupyter:irkernel'\n",
       "\\item 'jupyter:irkernel'\n",
       "\\item 'package:stats'\n",
       "\\item 'package:graphics'\n",
       "\\item 'package:grDevices'\n",
       "\\item 'package:utils'\n",
       "\\item 'package:datasets'\n",
       "\\item 'package:methods'\n",
       "\\item 'Autoloads'\n",
       "\\item 'package:base'\n",
       "\\end{enumerate*}\n"
      ],
      "text/markdown": [
       "1. '.GlobalEnv'\n",
       "2. 'jupyter:irkernel'\n",
       "3. 'jupyter:irkernel'\n",
       "4. 'package:stats'\n",
       "5. 'package:graphics'\n",
       "6. 'package:grDevices'\n",
       "7. 'package:utils'\n",
       "8. 'package:datasets'\n",
       "9. 'package:methods'\n",
       "10. 'Autoloads'\n",
       "11. 'package:base'\n",
       "\n",
       "\n"
      ],
      "text/plain": [
       " [1] \".GlobalEnv\"        \"jupyter:irkernel\"  \"jupyter:irkernel\" \n",
       " [4] \"package:stats\"     \"package:graphics\"  \"package:grDevices\"\n",
       " [7] \"package:utils\"     \"package:datasets\"  \"package:methods\"  \n",
       "[10] \"Autoloads\"         \"package:base\"     "
      ]
     },
     "metadata": {},
     "output_type": "display_data"
    }
   ],
   "source": [
    "# iris is no longer loeaded\n",
    "search()"
   ]
  },
  {
   "cell_type": "markdown",
   "metadata": {
    "deletable": true,
    "editable": true
   },
   "source": [
    "# Exercise 1.12\n",
    "\n",
    "**Question 1**\n",
    "\n",
    "Create an environment called `env2` and use the `\"assign\"` function to assign 100 items sampled from `\"letters\"` to the variable `lett` in `env2` and sample 200 numbers from the standard normal distribution and assign it to a variable `x` in `env2`. "
   ]
  },
  {
   "cell_type": "code",
   "execution_count": null,
   "metadata": {
    "collapsed": true,
    "deletable": true,
    "editable": true
   },
   "outputs": [],
   "source": []
  },
  {
   "cell_type": "markdown",
   "metadata": {
    "deletable": true,
    "editable": true
   },
   "source": [
    "**Question 2**\n",
    "\n",
    "Use the `\"get\"` function to get `x` and `lett` from `env2`. Use `\"$\"` notation to replace `x` in `env2` with 200 numbers from the uniform [0,1] distribution, and `lett` with the `\"Species\"` column from the `iris` dataset."
   ]
  },
  {
   "cell_type": "code",
   "execution_count": null,
   "metadata": {
    "collapsed": true,
    "deletable": true,
    "editable": true
   },
   "outputs": [],
   "source": []
  },
  {
   "cell_type": "markdown",
   "metadata": {
    "deletable": true,
    "editable": true
   },
   "source": [
    "**Question 3**\n",
    "\n",
    "Attach `env2` and show that it has been attached by using the `\"search\"` function. Access the values from `env2` from the console. Now dettach `env2` and delete it."
   ]
  },
  {
   "cell_type": "code",
   "execution_count": null,
   "metadata": {
    "collapsed": true,
    "deletable": true,
    "editable": true
   },
   "outputs": [],
   "source": []
  }
 ],
 "metadata": {
  "kernelspec": {
   "display_name": "R 3.3",
   "language": "R",
   "name": "ir33"
  },
  "language_info": {
   "codemirror_mode": "r",
   "file_extension": ".r",
   "mimetype": "text/x-r-source",
   "name": "R",
   "pygments_lexer": "r",
   "version": "3.3.3"
  }
 },
 "nbformat": 4,
 "nbformat_minor": 2
}
